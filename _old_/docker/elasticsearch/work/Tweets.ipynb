{
 "cells": [
  {
   "cell_type": "code",
   "execution_count": 1,
   "id": "ba1d61d6-fbff-4b7d-a7d4-90759fa0934e",
   "metadata": {},
   "outputs": [
    {
     "name": "stdout",
     "output_type": "stream",
     "text": [
      "http://es01:9200/tweets\n",
      "{'id': '3253242592095102286', 'timestamp': time.struct_time(tm_year=2021, tm_mon=11, tm_mday=11, tm_hour=19, tm_min=50, tm_sec=24, tm_wday=3, tm_yday=315, tm_isdst=0), 'timestamp_format': '2021-11-11 19:50:24', 'date': '2021-11-11', 'time': '19:50:24', 'user': 'edetyers', 'lat': 38.39, 'lon': -86.76, 'text': 'I like the Fudgemart website', 'sentiment': 'positive', 'mentions': [], 'hashtags': []}\n"
     ]
    }
   ],
   "source": [
    "from simtweet import generateRandomTweet\n",
    "import requests\n",
    "from time import sleep\n",
    "import random\n",
    "import json\n",
    "elastic = \"http://es01:9200\"\n",
    "index = \"tweets\"\n",
    "url = f\"{elastic}/{index}\"\n",
    "headers = { \"Content-Type\" : \"application/json\" }\n",
    "print(url)\n",
    "print(generateRandomTweet())"
   ]
  },
  {
   "cell_type": "markdown",
   "id": "5d150750-fe2a-40dc-8370-203c1cabe8e5",
   "metadata": {},
   "source": [
    "THIS CODE WILL RUN UNTIL USER PRESSES BREAK OR TWEET LIMIT IS HIT"
   ]
  },
  {
   "cell_type": "code",
   "execution_count": 3,
   "id": "53850cc5-fe17-4104-b2fd-a3ef6c56b836",
   "metadata": {},
   "outputs": [
    {
     "name": "stdout",
     "output_type": "stream",
     "text": [
      "curl -X POST http://es01:9200/tweets/_doc/707408063606592568 -H 'Content-Type: application/json' \n",
      "\t-d '{\"id\": \"707408063606592568\", \"timestamp\": [2021, 11, 11, 20, 14, 40, 3, 315, 0], \"timestamp_format\": \"2021-11-11 20:14:40\", \"date\": \"2021-11-11\", \"time\": \"20:14:40\", \"user\": \"benarreau\", \"lat\": 37.39, \"lon\": -85.74, \"text\": \"There are new digital downloads on #fudgemart\", \"sentiment\": \"neutral\", \"mentions\": [], \"hashtags\": [\"#fudgemart\"]}'\n",
      "curl -X POST http://es01:9200/tweets/_doc/2463423449151878998 -H 'Content-Type: application/json' \n",
      "\t-d '{\"id\": \"2463423449151878998\", \"timestamp\": [2021, 11, 11, 20, 14, 46, 3, 315, 0], \"timestamp_format\": \"2021-11-11 20:14:46\", \"date\": \"2021-11-11\", \"time\": \"20:14:46\", \"user\": \"edetyers\", \"lat\": 38.39, \"lon\": -86.76, \"text\": \"The Electronics department at #fudgemart is amazing. So helpful!\", \"sentiment\": \"positive\", \"mentions\": [], \"hashtags\": [\"#fudgemart\"]}'\n",
      "curl -X POST http://es01:9200/tweets/_doc/4065773440900409731 -H 'Content-Type: application/json' \n",
      "\t-d '{\"id\": \"4065773440900409731\", \"timestamp\": [2021, 11, 11, 20, 14, 47, 3, 315, 0], \"timestamp_format\": \"2021-11-11 20:14:47\", \"date\": \"2021-11-11\", \"time\": \"20:14:47\", \"user\": \"edetyers\", \"lat\": 38.39, \"lon\": -86.76, \"text\": \"How many books can you read? Fudgemart has a nice selection.\", \"sentiment\": \"positive\", \"mentions\": [], \"hashtags\": []}'\n",
      "curl -X POST http://es01:9200/tweets/_doc/2581719659634654952 -H 'Content-Type: application/json' \n",
      "\t-d '{\"id\": \"2581719659634654952\", \"timestamp\": [2021, 11, 11, 20, 14, 57, 3, 315, 0], \"timestamp_format\": \"2021-11-11 20:14:57\", \"date\": \"2021-11-11\", \"time\": \"20:14:57\", \"user\": \"tpani\", \"lat\": 27.38, \"lon\": -82.64, \"text\": \"Shopping 4 books, electronics, and jewelry at #fudgemart.\", \"sentiment\": \"neutral\", \"mentions\": [], \"hashtags\": [\"#fudgemart.\"]}'\n",
      "curl -X POST http://es01:9200/tweets/_doc/3226443458617596115 -H 'Content-Type: application/json' \n",
      "\t-d '{\"id\": \"3226443458617596115\", \"timestamp\": [2021, 11, 11, 20, 14, 58, 3, 315, 0], \"timestamp_format\": \"2021-11-11 20:14:58\", \"date\": \"2021-11-11\", \"time\": \"20:14:58\", \"user\": \"iquitten\", \"lat\": 38.38, \"lon\": -95.51, \"text\": \"Shipping takes forever. so slow.\", \"sentiment\": \"negative\", \"mentions\": [], \"hashtags\": []}'\n",
      "curl -X POST http://es01:9200/tweets/_doc/1242060617926273439 -H 'Content-Type: application/json' \n",
      "\t-d '{\"id\": \"1242060617926273439\", \"timestamp\": [2021, 11, 11, 20, 15, 5, 3, 315, 0], \"timestamp_format\": \"2021-11-11 20:15:05\", \"date\": \"2021-11-11\", \"time\": \"20:15:05\", \"user\": \"mitdowne\", \"lat\": 43.38, \"lon\": -72.48, \"text\": \"Really enjoying my jewelry purchase from @fudgemart\", \"sentiment\": \"positive\", \"mentions\": [\"@fudgemart\"], \"hashtags\": []}'\n",
      "curl -X POST http://es01:9200/tweets/_doc/2468972343518503248 -H 'Content-Type: application/json' \n",
      "\t-d '{\"id\": \"2468972343518503248\", \"timestamp\": [2021, 11, 11, 20, 15, 7, 3, 315, 0], \"timestamp_format\": \"2021-11-11 20:15:07\", \"date\": \"2021-11-11\", \"time\": \"20:15:07\", \"user\": \"lkarforless\", \"lat\": 25.39, \"lon\": -108.54, \"text\": \"The #books department at #fudgemart is amazing. Very helpful!\", \"sentiment\": \"positive\", \"mentions\": [], \"hashtags\": [\"#books\", \"#fudgemart\"]}'\n",
      "curl -X POST http://es01:9200/tweets/_doc/2925248021368923360 -H 'Content-Type: application/json' \n",
      "\t-d '{\"id\": \"2925248021368923360\", \"timestamp\": [2021, 11, 11, 20, 15, 13, 3, 315, 0], \"timestamp_format\": \"2021-11-11 20:15:13\", \"date\": \"2021-11-11\", \"time\": \"20:15:13\", \"user\": \"meyezing\", \"lat\": 32.38, \"lon\": -92.7, \"text\": \"This flawed jewelry has me thinking: 'why buy from Fudgemart?'\", \"sentiment\": \"negative\", \"mentions\": [], \"hashtags\": []}'\n",
      "curl -X POST http://es01:9200/tweets/_doc/3925155654652917339 -H 'Content-Type: application/json' \n",
      "\t-d '{\"id\": \"3925155654652917339\", \"timestamp\": [2021, 11, 11, 20, 15, 17, 3, 315, 0], \"timestamp_format\": \"2021-11-11 20:15:17\", \"date\": \"2021-11-11\", \"time\": \"20:15:17\", \"user\": \"afresco\", \"lat\": 33.38, \"lon\": -96.79, \"text\": \"Love or hate it. Fudgemart just is.\", \"sentiment\": \"neutral\", \"mentions\": [], \"hashtags\": []}'\n",
      "curl -X POST http://es01:9200/tweets/_doc/3436503620711809125 -H 'Content-Type: application/json' \n",
      "\t-d '{\"id\": \"3436503620711809125\", \"timestamp\": [2021, 11, 11, 20, 15, 22, 3, 315, 0], \"timestamp_format\": \"2021-11-11 20:15:22\", \"date\": \"2021-11-11\", \"time\": \"20:15:22\", \"user\": \"afirenzergon\", \"lat\": 41.38, \"lon\": -73.48, \"text\": \"Hey, @fudgemart. You've got products with benefits!\", \"sentiment\": \"positive\", \"mentions\": [\"@fudgemart.\"], \"hashtags\": []}'\n",
      "curl -X POST http://es01:9200/tweets/_doc/3200763318457246995 -H 'Content-Type: application/json' \n",
      "\t-d '{\"id\": \"3200763318457246995\", \"timestamp\": [2021, 11, 11, 20, 15, 25, 3, 315, 0], \"timestamp_format\": \"2021-11-11 20:15:25\", \"date\": \"2021-11-11\", \"time\": \"20:15:25\", \"user\": \"sladd\", \"lat\": 42.38, \"lon\": -85.56, \"text\": \"Happy I bought my books from @fudgemart\", \"sentiment\": \"positive\", \"mentions\": [\"@fudgemart\"], \"hashtags\": []}'\n",
      "curl -X POST http://es01:9200/tweets/_doc/3171438163386261581 -H 'Content-Type: application/json' \n",
      "\t-d '{\"id\": \"3171438163386261581\", \"timestamp\": [2021, 11, 11, 20, 15, 26, 3, 315, 0], \"timestamp_format\": \"2021-11-11 20:15:26\", \"date\": \"2021-11-11\", \"time\": \"20:15:26\", \"user\": \"ojouglad\", \"lat\": 33.39, \"lon\": -93.48, \"text\": \"Fudgemart has a lot of Books available for purchase.\", \"sentiment\": \"neutral\", \"mentions\": [], \"hashtags\": []}'\n",
      "curl -X POST http://es01:9200/tweets/_doc/3696584932795500076 -H 'Content-Type: application/json' \n",
      "\t-d '{\"id\": \"3696584932795500076\", \"timestamp\": [2021, 11, 11, 20, 15, 29, 3, 315, 0], \"timestamp_format\": \"2021-11-11 20:15:29\", \"date\": \"2021-11-11\", \"time\": \"20:15:29\", \"user\": \"jtyme\", \"lat\": 40.39, \"lon\": -74.83, \"text\": \"Shopping 4 books, electronics, and jewelry at #fudgemart.\", \"sentiment\": \"neutral\", \"mentions\": [], \"hashtags\": [\"#fudgemart.\"]}'\n",
      "curl -X POST http://es01:9200/tweets/_doc/525375617526746551 -H 'Content-Type: application/json' \n",
      "\t-d '{\"id\": \"525375617526746551\", \"timestamp\": [2021, 11, 11, 20, 15, 37, 3, 315, 0], \"timestamp_format\": \"2021-11-11 20:15:37\", \"date\": \"2021-11-11\", \"time\": \"20:15:37\", \"user\": \"sbeeches\", \"lat\": 29.39, \"lon\": -99.68, \"text\": \"Really enjoying my electronics purchase from @fudgemart\", \"sentiment\": \"positive\", \"mentions\": [\"@fudgemart\"], \"hashtags\": []}'\n",
      "curl -X POST http://es01:9200/tweets/_doc/2758969243833295019 -H 'Content-Type: application/json' \n",
      "\t-d '{\"id\": \"2758969243833295019\", \"timestamp\": [2021, 11, 11, 20, 15, 39, 3, 315, 0], \"timestamp_format\": \"2021-11-11 20:15:39\", \"date\": \"2021-11-11\", \"time\": \"20:15:39\", \"user\": \"cpayne\", \"lat\": 34.39, \"lon\": -83.74, \"text\": \"I Need more books, @fudgemart #encouraging.\", \"sentiment\": \"positive\", \"mentions\": [\"@fudgemart\"], \"hashtags\": [\"#encouraging.\"]}'\n",
      "curl -X POST http://es01:9200/tweets/_doc/4542873616517063088 -H 'Content-Type: application/json' \n",
      "\t-d '{\"id\": \"4542873616517063088\", \"timestamp\": [2021, 11, 11, 20, 15, 40, 3, 315, 0], \"timestamp_format\": \"2021-11-11 20:15:40\", \"date\": \"2021-11-11\", \"time\": \"20:15:40\", \"user\": \"benarreau\", \"lat\": 37.39, \"lon\": -85.74, \"text\": \"I'm tired of being on the phone with electroincs support at @fudgemart\", \"sentiment\": \"negative\", \"mentions\": [\"@fudgemart\"], \"hashtags\": []}'\n",
      "curl -X POST http://es01:9200/tweets/_doc/2675417364681932084 -H 'Content-Type: application/json' \n",
      "\t-d '{\"id\": \"2675417364681932084\", \"timestamp\": [2021, 11, 11, 20, 15, 44, 3, 315, 0], \"timestamp_format\": \"2021-11-11 20:15:44\", \"date\": \"2021-11-11\", \"time\": \"20:15:44\", \"user\": \"meyezing\", \"lat\": 32.38, \"lon\": -92.7, \"text\": \"Just placed an order today. thx @fudgemart\", \"sentiment\": \"neutral\", \"mentions\": [\"@fudgemart\"], \"hashtags\": []}'\n",
      "curl -X POST http://es01:9200/tweets/_doc/634376061055848692 -H 'Content-Type: application/json' \n",
      "\t-d '{\"id\": \"634376061055848692\", \"timestamp\": [2021, 11, 11, 20, 15, 46, 3, 315, 0], \"timestamp_format\": \"2021-11-11 20:15:46\", \"date\": \"2021-11-11\", \"time\": \"20:15:46\", \"user\": \"edetyers\", \"lat\": 38.39, \"lon\": -86.76, \"text\": \"Shopping 4 books, electronics, and jewelry at #fudgemart.\", \"sentiment\": \"neutral\", \"mentions\": [], \"hashtags\": [\"#fudgemart.\"]}'\n",
      "curl -X POST http://es01:9200/tweets/_doc/867418599330888203 -H 'Content-Type: application/json' \n",
      "\t-d '{\"id\": \"867418599330888203\", \"timestamp\": [2021, 11, 11, 20, 15, 54, 3, 315, 0], \"timestamp_format\": \"2021-11-11 20:15:54\", \"date\": \"2021-11-11\", \"time\": \"20:15:54\", \"user\": \"iquitten\", \"lat\": 38.38, \"lon\": -95.51, \"text\": \"Yo, @fudgemart\", \"sentiment\": \"neutral\", \"mentions\": [\"@fudgemart\"], \"hashtags\": []}'\n",
      "curl -X POST http://es01:9200/tweets/_doc/2939489337079329451 -H 'Content-Type: application/json' \n",
      "\t-d '{\"id\": \"2939489337079329451\", \"timestamp\": [2021, 11, 11, 20, 16, 0, 3, 315, 0], \"timestamp_format\": \"2021-11-11 20:16:00\", \"date\": \"2021-11-11\", \"time\": \"20:16:00\", \"user\": \"afresco\", \"lat\": 33.38, \"lon\": -96.79, \"text\": \"Do you enjoy books? Try @fudgemart.\", \"sentiment\": \"positive\", \"mentions\": [\"@fudgemart.\"], \"hashtags\": []}'\n",
      "curl -X POST http://es01:9200/tweets/_doc/1492234710060737729 -H 'Content-Type: application/json' \n",
      "\t-d '{\"id\": \"1492234710060737729\", \"timestamp\": [2021, 11, 11, 20, 16, 8, 3, 315, 0], \"timestamp_format\": \"2021-11-11 20:16:08\", \"date\": \"2021-11-11\", \"time\": \"20:16:08\", \"user\": \"gmoss\", \"lat\": 41.38, \"lon\": -97.52, \"text\": \"I'm really enjoying my new stuff from fudgemart\", \"sentiment\": \"positive\", \"mentions\": [], \"hashtags\": []}'\n",
      "curl -X POST http://es01:9200/tweets/_doc/2770805163918362857 -H 'Content-Type: application/json' \n",
      "\t-d '{\"id\": \"2770805163918362857\", \"timestamp\": [2021, 11, 11, 20, 16, 17, 3, 315, 0], \"timestamp_format\": \"2021-11-11 20:16:17\", \"date\": \"2021-11-11\", \"time\": \"20:16:17\", \"user\": \"ojouglad\", \"lat\": 33.39, \"lon\": -93.48, \"text\": \"I like the Fudgemart website\", \"sentiment\": \"positive\", \"mentions\": [], \"hashtags\": []}'\n",
      "curl -X POST http://es01:9200/tweets/_doc/2837474271085782099 -H 'Content-Type: application/json' \n",
      "\t-d '{\"id\": \"2837474271085782099\", \"timestamp\": [2021, 11, 11, 20, 16, 22, 3, 315, 0], \"timestamp_format\": \"2021-11-11 20:16:22\", \"date\": \"2021-11-11\", \"time\": \"20:16:22\", \"user\": \"bitall\", \"lat\": 41.39, \"lon\": -75.75, \"text\": \"Wonderful jewelry selection, @fudgemart\", \"sentiment\": \"positive\", \"mentions\": [\"@fudgemart\"], \"hashtags\": []}'\n",
      "curl -X POST http://es01:9200/tweets/_doc/4352104690031870575 -H 'Content-Type: application/json' \n",
      "\t-d '{\"id\": \"4352104690031870575\", \"timestamp\": [2021, 11, 11, 20, 16, 32, 3, 315, 0], \"timestamp_format\": \"2021-11-11 20:16:32\", \"date\": \"2021-11-11\", \"time\": \"20:16:32\", \"user\": \"lkarforless\", \"lat\": 25.39, \"lon\": -108.54, \"text\": \"Do you enjoy #digital #downloads? Try @fudgemart.\", \"sentiment\": \"positive\", \"mentions\": [\"@fudgemart.\"], \"hashtags\": [\"#digital\", \"#downloads?\"]}'\n",
      "curl -X POST http://es01:9200/tweets/_doc/1461602210240247408 -H 'Content-Type: application/json' \n",
      "\t-d '{\"id\": \"1461602210240247408\", \"timestamp\": [2021, 11, 11, 20, 16, 40, 3, 315, 0], \"timestamp_format\": \"2021-11-11 20:16:40\", \"date\": \"2021-11-11\", \"time\": \"20:16:40\", \"user\": \"edetyers\", \"lat\": 38.39, \"lon\": -86.76, \"text\": \"There are new digital downloads on #fudgemart\", \"sentiment\": \"neutral\", \"mentions\": [], \"hashtags\": [\"#fudgemart\"]}'\n"
     ]
    }
   ],
   "source": [
    "tweet_limit = 25\n",
    "min_delay = 1\n",
    "max_delay = 10\n",
    "\n",
    "for i in range(tweet_limit):\n",
    "    sleep(random.randint(min_delay, max_delay))\n",
    "    tweet = generateRandomTweet()\n",
    "    endpoint = f\"{url}/_doc/{tweet['id']}\"\n",
    "    response = requests.post(endpoint, headers = headers, data = json.dumps(tweet))\n",
    "    response.raise_for_status()\n",
    "    print(f\"curl -X POST {endpoint} -H 'Content-Type: application/json' \\n\\t-d '{json.dumps(tweet)}'\")\n",
    "    "
   ]
  },
  {
   "cell_type": "code",
   "execution_count": null,
   "id": "7d3b6f9e-bdba-4abd-8cfd-0ca70ebf0556",
   "metadata": {},
   "outputs": [],
   "source": []
  }
 ],
 "metadata": {
  "kernelspec": {
   "display_name": "Python 3 (ipykernel)",
   "language": "python",
   "name": "python3"
  },
  "language_info": {
   "codemirror_mode": {
    "name": "ipython",
    "version": 3
   },
   "file_extension": ".py",
   "mimetype": "text/x-python",
   "name": "python",
   "nbconvert_exporter": "python",
   "pygments_lexer": "ipython3",
   "version": "3.9.6"
  }
 },
 "nbformat": 4,
 "nbformat_minor": 5
}
