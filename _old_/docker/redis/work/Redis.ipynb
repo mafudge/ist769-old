{
 "cells": [
  {
   "cell_type": "code",
   "execution_count": 1,
   "id": "806285d8-61f0-4572-8eba-2df845d577f6",
   "metadata": {},
   "outputs": [
    {
     "name": "stdout",
     "output_type": "stream",
     "text": [
      "  % Total    % Received % Xferd  Average Speed   Time    Time     Time  Current\n",
      "                                 Dload  Upload   Total   Spent    Left  Speed\n",
      "100  271k  100  271k    0     0  2427k      0 --:--:-- --:--:-- --:--:-- 2427k\n",
      "  % Total    % Received % Xferd  Average Speed   Time    Time     Time  Current\n",
      "                                 Dload  Upload   Total   Spent    Left  Speed\n",
      "100  846k  100  846k    0     0  5721k      0 --:--:-- --:--:-- --:--:-- 5721k\n",
      "  % Total    % Received % Xferd  Average Speed   Time    Time     Time  Current\n",
      "                                 Dload  Upload   Total   Spent    Left  Speed\n",
      "100  131k  100  131k    0     0  2124k      0 --:--:-- --:--:-- --:--:-- 2124k\n"
     ]
    }
   ],
   "source": [
    "!sudo curl https://repo1.maven.org/maven2/com/redislabs/spark-redis_2.12/3.0.0/spark-redis_2.12-3.0.0.jar --output /usr/local/spark/jars/spark-redis_2.12-3.0.0.jar\n",
    "!sudo curl https://repo1.maven.org/maven2/redis/clients/jedis/3.6.3/jedis-3.6.3.jar --output /usr/local/spark/jars/jedis-3.6.3.jar\n",
    "!sudo curl https://repo1.maven.org/maven2/org/apache/commons/commons-pool2/2.9.0/commons-pool2-2.9.0.jar --output /usr/local/spark/jars/commons-pool2-2.9.0.jar"
   ]
  },
  {
   "cell_type": "code",
   "execution_count": 2,
   "id": "33f7adb5-581e-4a56-87ad-6fc9ef00155a",
   "metadata": {},
   "outputs": [],
   "source": [
    "import pyspark\n",
    "from pyspark.sql import SparkSession"
   ]
  },
  {
   "cell_type": "code",
   "execution_count": 3,
   "id": "cad0843e-82b7-4e4e-8e55-f22e8572ad85",
   "metadata": {},
   "outputs": [
    {
     "name": "stderr",
     "output_type": "stream",
     "text": [
      "WARNING: An illegal reflective access operation has occurred\n",
      "WARNING: Illegal reflective access by org.apache.spark.unsafe.Platform (file:/usr/local/spark-3.1.2-bin-hadoop3.2/jars/spark-unsafe_2.12-3.1.2.jar) to constructor java.nio.DirectByteBuffer(long,int)\n",
      "WARNING: Please consider reporting this to the maintainers of org.apache.spark.unsafe.Platform\n",
      "WARNING: Use --illegal-access=warn to enable warnings of further illegal reflective access operations\n",
      "WARNING: All illegal access operations will be denied in a future release\n",
      "21/11/04 17:22:52 WARN NativeCodeLoader: Unable to load native-hadoop library for your platform... using builtin-java classes where applicable\n",
      "Using Spark's default log4j profile: org/apache/spark/log4j-defaults.properties\n",
      "Setting default log level to \"WARN\".\n",
      "To adjust logging level use sc.setLogLevel(newLevel). For SparkR, use setLogLevel(newLevel).\n"
     ]
    }
   ],
   "source": [
    "#      .config(\"spark.redis.auth\", \"passwd\")\\\n",
    "spark = SparkSession \\\n",
    "    .builder \\\n",
    "    .master(\"local\") \\\n",
    "    .appName('jupyter-pyspark') \\\n",
    "      .config(\"spark.redis.host\", \"redis\")\\\n",
    "      .config(\"spark.redis.port\", \"6379\")\\\n",
    "    .getOrCreate()\n",
    "\n",
    "sc = spark.sparkContext\n",
    "sc.setLogLevel(\"ERROR\")"
   ]
  },
  {
   "cell_type": "code",
   "execution_count": 3,
   "id": "ba6697aa-b8ae-4d0f-895e-ff93af42da98",
   "metadata": {},
   "outputs": [
    {
     "name": "stdout",
     "output_type": "stream",
     "text": [
      "+----+--------+------+-------+-----+\n",
      "|year|semester|course|credits|grade|\n",
      "+----+--------+------+-------+-----+\n",
      "|2016|    Fall|IST346|      3|    A|\n",
      "|2016|    Fall|CHE111|      4|   A-|\n",
      "|2016|    Fall|PSY120|      3|   B+|\n",
      "|2016|    Fall|IST256|      3|    A|\n",
      "|2016|    Fall|ENG121|      3|   B+|\n",
      "|2015|    Fall|IST101|      1|    A|\n",
      "|2015|    Fall|IST195|      3|    A|\n",
      "|2015|    Fall|IST233|      3|   B+|\n",
      "|2015|    Fall|SOC101|      3|   A-|\n",
      "|2015|    Fall|MAT221|      3|    C|\n",
      "|2016|  Spring|GEO110|      3|   B+|\n",
      "|2016|  Spring|MAT222|      3|    A|\n",
      "|2016|  Spring|SOC121|      3|   C+|\n",
      "|2016|  Spring|BIO240|      3|   B-|\n",
      "|2017|  Spring|IST462|      3|    A|\n",
      "|2017|  Spring|MAT411|      3|    C|\n",
      "|2017|  Spring|SOC422|      3|   B-|\n",
      "|2017|  Spring|ENV201|      3|   A-|\n",
      "+----+--------+------+-------+-----+\n",
      "\n"
     ]
    }
   ],
   "source": [
    "grades = spark.read.csv(\"/home/jovyan/datasets/grades/*.tsv\", inferSchema=True,sep=\"\\t\")\n",
    "grades = grades.withColumnRenamed('_c0','year').withColumnRenamed(\"_c1\",\"semester\")\\\n",
    "    .withColumnRenamed(\"_c2\",\"course\").withColumnRenamed(\"_c3\",\"credits\").withColumnRenamed(\"_c4\",\"grade\")\n",
    "grades.show()"
   ]
  },
  {
   "cell_type": "markdown",
   "id": "36df7e77",
   "metadata": {},
   "source": []
  },
  {
   "cell_type": "code",
   "execution_count": null,
   "id": "21f670e5",
   "metadata": {},
   "outputs": [],
   "source": []
  },
  {
   "cell_type": "code",
   "execution_count": 9,
   "id": "c2699b70-a515-4bad-b935-336606c083c1",
   "metadata": {},
   "outputs": [],
   "source": [
    "# Save to Redis\n",
    "grades.write.format(\"org.apache.spark.sql.redis\")\\\n",
    "  .mode(\"overwrite\")\\\n",
    "  .option(\"table\", \"grades\")\\\n",
    "  .option(\"key.column\",\"course\")\\\n",
    "  .save()"
   ]
  },
  {
   "cell_type": "markdown",
   "id": "6ceaa2f5-1136-41b4-8b58-7254873fdaa1",
   "metadata": {},
   "source": [
    "Now on to redis-cli\n",
    "```\n",
    "keys \"grades:*\"\n",
    "hgetall \"grades:MAT221\"\n",
    "```\n"
   ]
  },
  {
   "cell_type": "code",
   "execution_count": 13,
   "id": "c9e95319-d182-4962-a3e9-229cebf6d454",
   "metadata": {},
   "outputs": [
    {
     "name": "stdout",
     "output_type": "stream",
     "text": [
      "+----+--------+------+-------+-----+\n",
      "|year|semester|course|credits|grade|\n",
      "+----+--------+------+-------+-----+\n",
      "|2016|    Fall|IST256|      3|    A|\n",
      "|2015|    Fall|IST101|      1|    A|\n",
      "|2016|  Spring|MAT222|      3|    A|\n",
      "|2016|    Fall|IST346|      3|    A|\n",
      "|2017|  Spring|IST462|      3|    A|\n",
      "|2015|    Fall|IST195|      3|    A|\n",
      "+----+--------+------+-------+-----+\n",
      "\n"
     ]
    }
   ],
   "source": [
    "# loading back from redis, need the key column\n",
    "df = spark.read.format(\"org.apache.spark.sql.redis\")\\\n",
    "  .option(\"table\", \"grades\")\\\n",
    "  .option(\"key.column\", \"course\")\\\n",
    "  .load()\n",
    "df.createOrReplaceTempView(\"grades\")\n",
    "spark.sql(\"select * from grades where grade = 'A'\").show()"
   ]
  },
  {
   "cell_type": "code",
   "execution_count": 13,
   "id": "08456007-4910-4297-9aab-042fea141023",
   "metadata": {},
   "outputs": [
    {
     "name": "stdout",
     "output_type": "stream",
     "text": [
      "+---+\n",
      "| id|\n",
      "+---+\n",
      "|  0|\n",
      "|  1|\n",
      "|  2|\n",
      "|  3|\n",
      "|  4|\n",
      "|  5|\n",
      "|  6|\n",
      "|  7|\n",
      "|  8|\n",
      "|  9|\n",
      "| 10|\n",
      "| 11|\n",
      "| 12|\n",
      "| 13|\n",
      "| 14|\n",
      "| 15|\n",
      "| 16|\n",
      "| 17|\n",
      "| 18|\n",
      "| 19|\n",
      "+---+\n",
      "only showing top 20 rows\n",
      "\n"
     ]
    }
   ],
   "source": [
    "from pyspark.sql.functions import monotonically_increasing_id\n",
    "df = spark.read.csv(\"/home/jovyan/datasets/exam-scores/*.csv\", inferSchema=True, header=True)\n",
    "df2 = df.na.drop()\n",
    "df3 = df2.withColumn(\"id\", monotonically_increasing_id() )\n"
   ]
  },
  {
   "cell_type": "code",
   "execution_count": 14,
   "id": "9d058abc-735a-4cb6-8f08-1d2853b4ada2",
   "metadata": {},
   "outputs": [],
   "source": [
    "df3.write.format(\"org.apache.spark.sql.redis\")\\\n",
    "  .mode(\"overwrite\")\\\n",
    "  .option(\"table\", \"examscores\")\\\n",
    "  .option(\"key.column\",\"id\")\\\n",
    "  .save()"
   ]
  },
  {
   "cell_type": "code",
   "execution_count": 16,
   "id": "0994877c-bb4d-45a3-887a-f5e4231c322a",
   "metadata": {},
   "outputs": [
    {
     "data": {
      "text/plain": [
       "['Class_Section',\n",
       " 'Exam_Version',\n",
       " 'Completion_Time',\n",
       " 'Made_Own_Study_Guide',\n",
       " 'Did_Exam_Prep Assignment',\n",
       " 'Studied_In_Groups',\n",
       " 'Student_Score',\n",
       " 'Percentage',\n",
       " 'Letter_Grade',\n",
       " 'id']"
      ]
     },
     "execution_count": 16,
     "metadata": {},
     "output_type": "execute_result"
    }
   ],
   "source": [
    "df3.columns"
   ]
  },
  {
   "cell_type": "code",
   "execution_count": 17,
   "id": "42a80c4a-a7e3-44b9-8cb5-23091c0f4d51",
   "metadata": {},
   "outputs": [
    {
     "name": "stderr",
     "output_type": "stream",
     "text": [
      "                                                                                \r"
     ]
    },
    {
     "name": "stdout",
     "output_type": "stream",
     "text": [
      "+------------+------------------+\n",
      "|Exam_Version|avg(Student_Score)|\n",
      "+------------+------------------+\n",
      "|           B|            23.375|\n",
      "|           D|             21.25|\n",
      "|           C|            22.625|\n",
      "|           A|23.647058823529413|\n",
      "+------------+------------------+\n",
      "\n"
     ]
    }
   ],
   "source": [
    "df3.groupby(\"Exam_Version\").avg(\"Student_Score\").show()"
   ]
  }
 ],
 "metadata": {
  "kernelspec": {
   "display_name": "Python 3 (ipykernel)",
   "language": "python",
   "name": "python3"
  },
  "language_info": {
   "codemirror_mode": {
    "name": "ipython",
    "version": 3
   },
   "file_extension": ".py",
   "mimetype": "text/x-python",
   "name": "python",
   "nbconvert_exporter": "python",
   "pygments_lexer": "ipython3",
   "version": "3.9.6"
  }
 },
 "nbformat": 4,
 "nbformat_minor": 5
}
