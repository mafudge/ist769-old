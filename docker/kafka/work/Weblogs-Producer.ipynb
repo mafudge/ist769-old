{
 "cells": [
  {
   "cell_type": "code",
   "execution_count": 1,
   "id": "c2f37ead-3725-4f65-a175-52fd81a6c989",
   "metadata": {},
   "outputs": [
    {
     "name": "stdout",
     "output_type": "stream",
     "text": [
      "Requirement already satisfied: confluent-kafka in /opt/conda/lib/python3.9/site-packages (1.7.0)\n"
     ]
    }
   ],
   "source": [
    "!pip install confluent-kafka"
   ]
  },
  {
   "cell_type": "code",
   "execution_count": 3,
   "id": "9cb957e8-7702-4da0-847f-4f32d8f9bf08",
   "metadata": {},
   "outputs": [
    {
     "name": "stdout",
     "output_type": "stream",
     "text": [
      "{\"Uri\": \"/\", \"User\": \"vaibhav\", \"TimeStamp\": 1636916769000, \"Browser\": \"safari\", \"OS\": \"osx\"}\n",
      "{\"Uri\": \"/blog\", \"User\": \"lisa\", \"TimeStamp\": 1636916778000, \"Browser\": \"chrome\", \"OS\": \"osx\"}\n",
      "{\"Uri\": \"/blog\", \"User\": \"vaibhav\", \"TimeStamp\": 1636916779000, \"Browser\": \"safari\", \"OS\": \"osx\"}\n",
      "{\"Uri\": \"/\", \"User\": \"patty\", \"TimeStamp\": 1636916784000, \"Browser\": \"firefox\", \"OS\": \"win\"}\n",
      "{\"Uri\": \"/\", \"User\": \"mike\", \"TimeStamp\": 1636916788000, \"Browser\": \"firefox\", \"OS\": \"osx\"}\n",
      "{\"Uri\": \"/blog\", \"User\": \"mike\", \"TimeStamp\": 1636916790000, \"Browser\": \"firefox\", \"OS\": \"osx\"}\n",
      "{\"Uri\": \"/contact\", \"User\": \"yolanda\", \"TimeStamp\": 1636916800000, \"Browser\": \"chrome\", \"OS\": \"osx\"}\n",
      "{\"Uri\": \"/\", \"User\": \"ida\", \"TimeStamp\": 1636916810000, \"Browser\": \"chrome\", \"OS\": \"win\"}\n"
     ]
    },
    {
     "ename": "KeyboardInterrupt",
     "evalue": "",
     "output_type": "error",
     "traceback": [
      "\u001b[0;31m---------------------------------------------------------------------------\u001b[0m",
      "\u001b[0;31mKeyboardInterrupt\u001b[0m                         Traceback (most recent call last)",
      "\u001b[0;32m/tmp/ipykernel_1553/983610999.py\u001b[0m in \u001b[0;36m<module>\u001b[0;34m\u001b[0m\n\u001b[1;32m     52\u001b[0m     \u001b[0mproducer\u001b[0m\u001b[0;34m.\u001b[0m\u001b[0mflush\u001b[0m\u001b[0;34m(\u001b[0m\u001b[0;34m)\u001b[0m\u001b[0;34m\u001b[0m\u001b[0;34m\u001b[0m\u001b[0m\n\u001b[1;32m     53\u001b[0m     \u001b[0mdelay\u001b[0m \u001b[0;34m=\u001b[0m \u001b[0mrandom\u001b[0m\u001b[0;34m.\u001b[0m\u001b[0mrandint\u001b[0m\u001b[0;34m(\u001b[0m\u001b[0mmax_speed\u001b[0m\u001b[0;34m,\u001b[0m\u001b[0mmin_speed\u001b[0m\u001b[0;34m)\u001b[0m\u001b[0;34m\u001b[0m\u001b[0;34m\u001b[0m\u001b[0m\n\u001b[0;32m---> 54\u001b[0;31m     \u001b[0mtime\u001b[0m\u001b[0;34m.\u001b[0m\u001b[0msleep\u001b[0m\u001b[0;34m(\u001b[0m\u001b[0mdelay\u001b[0m\u001b[0;34m)\u001b[0m\u001b[0;34m\u001b[0m\u001b[0;34m\u001b[0m\u001b[0m\n\u001b[0m\u001b[1;32m     55\u001b[0m \u001b[0;34m\u001b[0m\u001b[0m\n\u001b[1;32m     56\u001b[0m \u001b[0;34m\u001b[0m\u001b[0m\n",
      "\u001b[0;31mKeyboardInterrupt\u001b[0m: "
     ]
    }
   ],
   "source": [
    "import json\n",
    "import datetime\n",
    "import random\n",
    "import uuid\n",
    "import time\n",
    "from confluent_kafka import Producer\n",
    "user_list = [ \n",
    "    { 'name': 'abby', 'browser' : 'chrome', 'os' : 'osx' },\n",
    "    { 'name': 'bob', 'browser' : 'firefox', 'os' : 'win' },\n",
    "    { 'name': 'chris', 'browser' : 'chrome', 'os' : 'win' },\n",
    "    { 'name': 'devin', 'browser' : 'edge', 'os' : 'win' },\n",
    "    { 'name': 'elle', 'browser' : 'chrome', 'os' : 'win' },\n",
    "    { 'name': 'fred', 'browser' : 'safari', 'os' : 'osx' },\n",
    "    { 'name': 'gigi', 'browser' : 'chrome', 'os' : 'win' },\n",
    "    { 'name': 'hank', 'browser' : 'edge', 'os' : 'win' },\n",
    "    { 'name': 'ida', 'browser' : 'chrome', 'os' : 'win' },\n",
    "    { 'name': 'karley', 'browser' : 'chrome', 'os' : 'win' },\n",
    "    { 'name': 'lisa', 'browser' : 'chrome', 'os' : 'osx' },\n",
    "    { 'name': 'mike', 'browser' : 'firefox', 'os' : 'osx' },\n",
    "    { 'name': 'nancy', 'browser' : 'chrome', 'os' : 'win' },\n",
    "    { 'name': 'otto', 'browser' : 'safari', 'os' : 'osx' },\n",
    "    { 'name': 'patty', 'browser' : 'firefox', 'os' : 'win' },\n",
    "    { 'name': 'quinn', 'browser' : 'chrome', 'os' : 'win' },\n",
    "    { 'name': 'rose', 'browser' : 'chrome', 'os' : 'osx' },\n",
    "    { 'name': 'surah', 'browser' : 'firefox', 'os' : 'win' },\n",
    "    { 'name': 'tosh', 'browser' : 'firefox', 'os' : 'win' },\n",
    "    { 'name': 'vaibhav', 'browser' : 'safari', 'os' : 'osx' },\n",
    "    { 'name': 'walt', 'browser' : 'edge', 'os' : 'win' },\n",
    "    { 'name': 'xavier', 'browser' : 'chrome', 'os' : 'win' },\n",
    "    { 'name': 'yolanda', 'browser' : 'chrome', 'os' : 'osx' },\n",
    "    { 'name': 'zeke', 'browser' : 'firefox', 'os' : 'win' }\n",
    "]\n",
    "\n",
    "locations = ['/', '/about', '/products', '/services', '/contact', '/blog', '/', '/', '/blog', '/', '/']\n",
    "max_speed = 1\n",
    "min_speed = 10\n",
    "producer = Producer({'bootstrap.servers' : 'broker:29092'})\n",
    "\n",
    "# main stream of writes.\n",
    "while True:\n",
    "\n",
    "    user = random.choice(user_list)\n",
    "    location = random.choice(locations)\n",
    "    #timestamp = int(datetime.datetime.now().timestamp()*1000) #python 3\n",
    "    timestamp = int(time.mktime(datetime.datetime.now().timetuple())*1000) #python 2\n",
    "    amount = random.randint(1,5)*20+100 if random.randint(1,100) <=25 else random.randint(1,5)*20\n",
    "    id = int(uuid.uuid4())\n",
    "    data = { \"Uri\": location, \"User\" : user['name'], \"TimeStamp\" : timestamp, \"Browser\" : user['browser'], \"OS\" : user['os'] }\n",
    "    encoded = json.dumps(data).encode('utf-8')\n",
    "    print(json.dumps(data))\n",
    "    producer.produce('weblogs',encoded)\n",
    "    producer.flush()    \n",
    "    delay = random.randint(max_speed,min_speed)\n",
    "    time.sleep(delay)\n",
    "\n",
    "    "
   ]
  },
  {
   "cell_type": "code",
   "execution_count": null,
   "id": "ee3f8c45-03b5-43b2-b110-9e7167da4ef6",
   "metadata": {},
   "outputs": [],
   "source": []
  }
 ],
 "metadata": {
  "kernelspec": {
   "display_name": "Python 3 (ipykernel)",
   "language": "python",
   "name": "python3"
  },
  "language_info": {
   "codemirror_mode": {
    "name": "ipython",
    "version": 3
   },
   "file_extension": ".py",
   "mimetype": "text/x-python",
   "name": "python",
   "nbconvert_exporter": "python",
   "pygments_lexer": "ipython3",
   "version": "3.9.6"
  }
 },
 "nbformat": 4,
 "nbformat_minor": 5
}
