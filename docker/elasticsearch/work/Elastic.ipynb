{
 "cells": [
  {
   "cell_type": "code",
   "execution_count": 7,
   "id": "d8a42f28-e70e-45d7-bdb2-edff3a0bf7b3",
   "metadata": {},
   "outputs": [],
   "source": [
    "# Download the required jar library for elastic\n"
   ]
  },
  {
   "cell_type": "code",
   "execution_count": 8,
   "id": "10921e23-20a3-40cd-85c9-7d4766f7231a",
   "metadata": {},
   "outputs": [
    {
     "name": "stdout",
     "output_type": "stream",
     "text": [
      "  % Total    % Received % Xferd  Average Speed   Time    Time     Time  Current\n",
      "                                 Dload  Upload   Total   Spent    Left  Speed\n",
      "100 2052k  100 2052k    0     0  9121k      0 --:--:-- --:--:-- --:--:-- 9121k\n"
     ]
    }
   ],
   "source": [
    "! sudo curl https://repo1.maven.org/maven2/org/elasticsearch/elasticsearch-spark-20_2.12/7.15.0/elasticsearch-spark-20_2.12-7.15.0.jar --output /usr/local/spark/jars/elasticsearch-spark-20_2.12-7.15.0.jar"
   ]
  },
  {
   "cell_type": "code",
   "execution_count": 1,
   "id": "da462505-4b98-49ea-99e1-6b78dbefbd74",
   "metadata": {},
   "outputs": [],
   "source": [
    "import pyspark\n",
    "from pyspark.sql import SparkSession"
   ]
  },
  {
   "cell_type": "code",
   "execution_count": 2,
   "id": "27227b52-c6a7-47e1-85a3-a05fa86df757",
   "metadata": {},
   "outputs": [
    {
     "name": "stderr",
     "output_type": "stream",
     "text": [
      "WARNING: An illegal reflective access operation has occurred\n",
      "WARNING: Illegal reflective access by org.apache.spark.unsafe.Platform (file:/usr/local/spark-3.1.2-bin-hadoop3.2/jars/spark-unsafe_2.12-3.1.2.jar) to constructor java.nio.DirectByteBuffer(long,int)\n",
      "WARNING: Please consider reporting this to the maintainers of org.apache.spark.unsafe.Platform\n",
      "WARNING: Use --illegal-access=warn to enable warnings of further illegal reflective access operations\n",
      "WARNING: All illegal access operations will be denied in a future release\n",
      "21/09/24 15:11:43 WARN NativeCodeLoader: Unable to load native-hadoop library for your platform... using builtin-java classes where applicable\n",
      "Using Spark's default log4j profile: org/apache/spark/log4j-defaults.properties\n",
      "Setting default log level to \"WARN\".\n",
      "To adjust logging level use sc.setLogLevel(newLevel). For SparkR, use setLogLevel(newLevel).\n"
     ]
    }
   ],
   "source": [
    "#   .config(\"spark.es.nodes.wan.only\",\"true\") \\\n",
    "spark = SparkSession.builder \\\n",
    "    .master(\"local\") \\\n",
    "    .appName('jupyter-pyspark') \\\n",
    "    .config(\"spark.es.nodes\",\"es01\") \\\n",
    "    .config(\"spark.es.port\",\"9200\") \\\n",
    "    .getOrCreate()\n",
    "sc = spark.sparkContext\n",
    "sc.setLogLevel(\"ERROR\")"
   ]
  },
  {
   "cell_type": "code",
   "execution_count": 3,
   "id": "fa2ae3c8-9c8a-4b7a-8066-f4faf9706897",
   "metadata": {},
   "outputs": [
    {
     "name": "stdout",
     "output_type": "stream",
     "text": [
      "+------+----------+--------------------+------+---------------+-----------+-----+------------+---------------+---------------+\n",
      "| First|      Last|               Email|Gender|Last IP Address|       City|State|Total Orders|Total Purchased|Months Customer|\n",
      "+------+----------+--------------------+------+---------------+-----------+-----+------------+---------------+---------------+\n",
      "|    Al|    Fresco|  afresco@dayrep.com|     M|  74.111.18.161|   Syracuse|   NY|           1|             45|              1|\n",
      "|  Abby|      Kuss|     akuss@rhyta.com|     F|  23.80.125.101|    Phoenix|   AZ|           1|             25|              2|\n",
      "| Arial|     Photo|   aphoto@dayrep.com|     F|     24.0.14.56|     Newark|   NJ|           1|            680|              1|\n",
      "| Bette|     Alott|    balott@rhyta.com|     F| 56.216.127.219|    Raleigh|   NC|           6|            560|             18|\n",
      "| Barb |    Barion|bbarion@superrito...|     F|   38.68.15.223|     Dallas|   TX|           4|           1590|              1|\n",
      "| Barry|DeHatchett|bdehatchett@dayre...|     M|  23.192.215.78|     Boston|   MA|           1|             15|              6|\n",
      "|  Bill|   Melator| bmelator@einrot.com|     M|   24.11.125.10|       Orem|   UT|           9|           6090|             35|\n",
      "| Candi|     Cayne|    ccayne@rhyta.com|     F|    24.39.14.15|   Portland|   ME|           1|            620|              2|\n",
      "| Carol|      Ling| cling@superrito.com|     F|  23.180.242.66|   Syracuse|   NY|           2|            440|              6|\n",
      "|   Cam|       Rha|     crha@einrot.com|     M|    24.1.25.140|    Chicago|   IL|           0|              0|              1|\n",
      "|   Dan|   Delyons| ddelyons@dayrep.com|     M|  24.38.224.161|  Greenwich|   CT|           2|           2570|             10|\n",
      "|  Erin|   Detyers| edetyers@dayrep.com|     F|   70.209.14.54|      Tampa|   FL|           5|           1105|             38|\n",
      "| Euron| Tasomthin|etasomthin@superr...|     M|  68.199.40.156|  Hempstead|   NY|          13|           4630|             28|\n",
      "|Justin|      Case|    jcase@dayrep.com|     M|  23.192.215.44|     Boston|   MA|           3|           1050|              1|\n",
      "|  Jean|     Poole|   jpoole@dayrep.com|     F|   23.182.25.40|   Kingston|   NY|           7|            185|             12|\n",
      "|   Lee|  Hvmeehom|lhvmeehom@einrot.com|     F|    215.82.23.2|   Columbus|   OH|           9|            207|             18|\n",
      "|  Lisa|Karfurless|lkarfurless@dayre...|     F|  172.189.252.8|    Fairfax|   VA|           6|            250|             27|\n",
      "|  Mary|   Melator|  mmelator@rhyta.com|     F|     23.88.15.5|Los Angeles|   CA|           8|           4275|             40|\n",
      "|  Mike|    Rofone|  mrofone@dayrep.com|     M|   23.224.160.4|   Cheyenne|   WY|           0|              0|              0|\n",
      "|  Oren|   Jouglad| ojouglad@einrot.com|     M|128.122.140.238|   New York|   NY|          12|           4500|             36|\n",
      "+------+----------+--------------------+------+---------------+-----------+-----+------------+---------------+---------------+\n",
      "only showing top 20 rows\n",
      "\n"
     ]
    }
   ],
   "source": [
    "# let's get some file to shove into elastic\n",
    "df = spark.read.csv(\"/home/jovyan/datasets/customers/customers.csv\", header=True, inferSchema=True)\n",
    "df.show()"
   ]
  },
  {
   "cell_type": "code",
   "execution_count": 5,
   "id": "b893c23c-e0d4-4a71-a391-349c30154464",
   "metadata": {},
   "outputs": [],
   "source": [
    "# write the file to the \"customers\" index with type \"_doc\"\n",
    "df.write.format(\"es\").save(\"customers/_doc\")"
   ]
  },
  {
   "cell_type": "code",
   "execution_count": 9,
   "id": "fc601e05-1042-4323-a30a-c5d3376c0165",
   "metadata": {},
   "outputs": [
    {
     "name": "stdout",
     "output_type": "stream",
     "text": [
      "+-----------+--------------------+------+------+----------+---------------+---------------+-----+------------+---------------+\n",
      "|       City|               Email| First|Gender|      Last|Last IP Address|Months Customer|State|Total Orders|Total Purchased|\n",
      "+-----------+--------------------+------+------+----------+---------------+---------------+-----+------------+---------------+\n",
      "|   Syracuse|  afresco@dayrep.com|    Al|     M|    Fresco|  74.111.18.161|              1|   NY|           1|             45|\n",
      "|    Phoenix|     akuss@rhyta.com|  Abby|     F|      Kuss|  23.80.125.101|              2|   AZ|           1|             25|\n",
      "|     Newark|   aphoto@dayrep.com| Arial|     F|     Photo|     24.0.14.56|              1|   NJ|           1|            680|\n",
      "|    Raleigh|    balott@rhyta.com| Bette|     F|     Alott| 56.216.127.219|             18|   NC|           6|            560|\n",
      "|     Dallas|bbarion@superrito...| Barb |     F|    Barion|   38.68.15.223|              1|   TX|           4|           1590|\n",
      "|     Boston|bdehatchett@dayre...| Barry|     M|DeHatchett|  23.192.215.78|              6|   MA|           1|             15|\n",
      "|       Orem| bmelator@einrot.com|  Bill|     M|   Melator|   24.11.125.10|             35|   UT|           9|           6090|\n",
      "|   Portland|    ccayne@rhyta.com| Candi|     F|     Cayne|    24.39.14.15|              2|   ME|           1|            620|\n",
      "|   Syracuse| cling@superrito.com| Carol|     F|      Ling|  23.180.242.66|              6|   NY|           2|            440|\n",
      "|    Chicago|     crha@einrot.com|   Cam|     M|       Rha|    24.1.25.140|              1|   IL|           0|              0|\n",
      "|  Greenwich| ddelyons@dayrep.com|   Dan|     M|   Delyons|  24.38.224.161|             10|   CT|           2|           2570|\n",
      "|      Tampa| edetyers@dayrep.com|  Erin|     F|   Detyers|   70.209.14.54|             38|   FL|           5|           1105|\n",
      "|  Hempstead|etasomthin@superr...| Euron|     M| Tasomthin|  68.199.40.156|             28|   NY|          13|           4630|\n",
      "|     Boston|    jcase@dayrep.com|Justin|     M|      Case|  23.192.215.44|              1|   MA|           3|           1050|\n",
      "|   Kingston|   jpoole@dayrep.com|  Jean|     F|     Poole|   23.182.25.40|             12|   NY|           7|            185|\n",
      "|   Columbus|lhvmeehom@einrot.com|   Lee|     F|  Hvmeehom|    215.82.23.2|             18|   OH|           9|            207|\n",
      "|    Fairfax|lkarfurless@dayre...|  Lisa|     F|Karfurless|  172.189.252.8|             27|   VA|           6|            250|\n",
      "|Los Angeles|  mmelator@rhyta.com|  Mary|     F|   Melator|     23.88.15.5|             40|   CA|           8|           4275|\n",
      "|   Cheyenne|  mrofone@dayrep.com|  Mike|     M|    Rofone|   23.224.160.4|              0|   WY|           0|              0|\n",
      "|   New York| ojouglad@einrot.com|  Oren|     M|   Jouglad|128.122.140.238|             36|   NY|          12|           4500|\n",
      "+-----------+--------------------+------+------+----------+---------------+---------------+-----+------------+---------------+\n",
      "only showing top 20 rows\n",
      "\n"
     ]
    }
   ],
   "source": [
    "# read the exact same data back out again\n",
    "df2 = spark.read.format(\"es\").load(\"customers/_doc\")\n",
    "df2.show()"
   ]
  },
  {
   "cell_type": "code",
   "execution_count": null,
   "id": "d793dfdf-70b1-4eb3-8889-c7962285a0db",
   "metadata": {},
   "outputs": [],
   "source": []
  }
 ],
 "metadata": {
  "kernelspec": {
   "display_name": "Python 3 (ipykernel)",
   "language": "python",
   "name": "python3"
  },
  "language_info": {
   "codemirror_mode": {
    "name": "ipython",
    "version": 3
   },
   "file_extension": ".py",
   "mimetype": "text/x-python",
   "name": "python",
   "nbconvert_exporter": "python",
   "pygments_lexer": "ipython3",
   "version": "3.9.6"
  }
 },
 "nbformat": 4,
 "nbformat_minor": 5
}
