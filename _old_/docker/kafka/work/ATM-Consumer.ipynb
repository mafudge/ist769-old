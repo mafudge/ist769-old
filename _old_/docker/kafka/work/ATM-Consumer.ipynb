{
 "cells": [
  {
   "cell_type": "code",
   "execution_count": 1,
   "id": "f7426494-cbff-4a47-b354-e18d290cae30",
   "metadata": {},
   "outputs": [
    {
     "name": "stdout",
     "output_type": "stream",
     "text": [
      "Requirement already satisfied: confluent-kafka in /opt/conda/lib/python3.9/site-packages (1.7.0)\n"
     ]
    }
   ],
   "source": [
    "!pip install confluent-kafka"
   ]
  },
  {
   "cell_type": "code",
   "execution_count": 2,
   "id": "4dabe53f-8475-4556-b219-69627d9cdf49",
   "metadata": {},
   "outputs": [
    {
     "name": "stdout",
     "output_type": "stream",
     "text": [
      "Received message: 247254338131037809986808245917479284545 $80\n",
      "Received message: 269293049418306226924520963143844889624 $180\n",
      "Received message: 161352465813171047311843393588916494143 $140\n",
      "Received message: 330396603793884398552202703649012716770 $40\n",
      "Received message: 116660141696529470247695216662711852214 $100\n",
      "Received message: 83880079048153849288836935999783875430 $100\n",
      "Received message: 130555332651749327158826137035953053990 $40\n",
      "Received message: 156035721040433675005040048365987865242 $100\n",
      "Received message: 59106033043469150930311490412189859981 $40\n",
      "Received message: 138009326858757766008544434784352584435 $160\n",
      "Received message: 66548638210153088317085262105020421903 $100\n",
      "Received message: 219903601117040556948547722406752714370 $160\n",
      "Received message: 293780417133299064621652753254194764671 $20\n",
      "Received message: 288381401725009721036163363033317076230 $60\n",
      "Received message: 44722756509183482216380896131873814716 $80\n",
      "Received message: 96080501317515266183787808593077089133 $80\n",
      "Received message: 328167783294307244020513162033543784955 $60\n",
      "Received message: 135829117865766720859165919986107351549 $60\n"
     ]
    }
   ],
   "source": [
    "import json\n",
    "from confluent_kafka import Consumer\n",
    "\n",
    "consumer = Consumer({'bootstrap.servers' : 'broker:29092', 'group.id' : '*'})\n",
    "consumer.subscribe(['atm']) # topic\n",
    "\n",
    "try:\n",
    "    while True:\n",
    "        msg = consumer.poll(1.0)\n",
    "\n",
    "        if msg is None:\n",
    "            continue\n",
    "        if msg.error():\n",
    "            print(f\"Consumer error: {msg.error()}\")\n",
    "            continue\n",
    "\n",
    "        raw = msg.value().decode('utf-8')\n",
    "        payload = json.loads(raw) # de-serialize JSON to a Python dictionary!\n",
    "        print(f\"Received message: {payload['Id']} ${payload['Amount']}\")\n",
    "except KeyboardInterrupt:\n",
    "    consumer.close()    \n",
    "    "
   ]
  },
  {
   "cell_type": "code",
   "execution_count": 4,
   "id": "8e45a221-f2ee-4229-ba3d-764093e6dba4",
   "metadata": {},
   "outputs": [],
   "source": [
    "consumer.close()"
   ]
  },
  {
   "cell_type": "code",
   "execution_count": 5,
   "id": "83decc48-bad9-499d-bbea-00e7b1747ff9",
   "metadata": {},
   "outputs": [
    {
     "data": {
      "text/plain": [
       "['__class__',\n",
       " '__delattr__',\n",
       " '__dir__',\n",
       " '__doc__',\n",
       " '__eq__',\n",
       " '__format__',\n",
       " '__ge__',\n",
       " '__getattribute__',\n",
       " '__gt__',\n",
       " '__hash__',\n",
       " '__init__',\n",
       " '__init_subclass__',\n",
       " '__le__',\n",
       " '__lt__',\n",
       " '__ne__',\n",
       " '__new__',\n",
       " '__reduce__',\n",
       " '__reduce_ex__',\n",
       " '__repr__',\n",
       " '__setattr__',\n",
       " '__sizeof__',\n",
       " '__str__',\n",
       " '__subclasshook__',\n",
       " 'assign',\n",
       " 'assignment',\n",
       " 'close',\n",
       " 'commit',\n",
       " 'committed',\n",
       " 'consume',\n",
       " 'consumer_group_metadata',\n",
       " 'get_watermark_offsets',\n",
       " 'incremental_assign',\n",
       " 'incremental_unassign',\n",
       " 'list_topics',\n",
       " 'offsets_for_times',\n",
       " 'pause',\n",
       " 'poll',\n",
       " 'position',\n",
       " 'resume',\n",
       " 'seek',\n",
       " 'store_offsets',\n",
       " 'subscribe',\n",
       " 'unassign',\n",
       " 'unsubscribe']"
      ]
     },
     "execution_count": 5,
     "metadata": {},
     "output_type": "execute_result"
    }
   ],
   "source": [
    "dir(consumer)"
   ]
  },
  {
   "cell_type": "code",
   "execution_count": null,
   "id": "5f1c31a3-2df5-4a59-9d74-56ec76cdf8e1",
   "metadata": {},
   "outputs": [],
   "source": []
  }
 ],
 "metadata": {
  "kernelspec": {
   "display_name": "Python 3 (ipykernel)",
   "language": "python",
   "name": "python3"
  },
  "language_info": {
   "codemirror_mode": {
    "name": "ipython",
    "version": 3
   },
   "file_extension": ".py",
   "mimetype": "text/x-python",
   "name": "python",
   "nbconvert_exporter": "python",
   "pygments_lexer": "ipython3",
   "version": "3.9.6"
  }
 },
 "nbformat": 4,
 "nbformat_minor": 5
}
