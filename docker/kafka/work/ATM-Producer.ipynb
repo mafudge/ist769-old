{
 "cells": [
  {
   "cell_type": "code",
   "execution_count": 1,
   "id": "d63c2aea-38b5-4a3b-92b2-fbb3bb47d5b1",
   "metadata": {},
   "outputs": [
    {
     "name": "stdout",
     "output_type": "stream",
     "text": [
      "Collecting confluent-kafka\n",
      "  Downloading confluent_kafka-1.7.0-cp39-cp39-manylinux2010_x86_64.whl (2.7 MB)\n",
      "\u001b[K     |████████████████████████████████| 2.7 MB 2.8 MB/s eta 0:00:01\n",
      "\u001b[?25hInstalling collected packages: confluent-kafka\n",
      "Successfully installed confluent-kafka-1.7.0\n"
     ]
    }
   ],
   "source": [
    "!pip install confluent-kafka"
   ]
  },
  {
   "cell_type": "code",
   "execution_count": null,
   "id": "5e955bb4-2498-4874-a1de-7ca569f735b4",
   "metadata": {},
   "outputs": [],
   "source": [
    "import json\n",
    "import datetime\n",
    "import random\n",
    "import uuid\n",
    "import time\n",
    "from confluent_kafka import Producer\n",
    "user_list = [ \n",
    "    { 'name': 'abby', 'gender' : 'female', 'level' : 'basic' },\n",
    "    { 'name': 'bob', 'gender' : 'male', 'level' : 'basic' },\n",
    "    { 'name': 'chris', 'gender' : 'female', 'level' : 'premium' },\n",
    "    { 'name': 'devin', 'gender' : 'male', 'level' : 'basic' },\n",
    "    { 'name': 'elle', 'gender' : 'female', 'level' : 'basic' },\n",
    "    { 'name': 'fred', 'gender' : 'male', 'level' : 'premium' },\n",
    "    { 'name': 'gigi', 'gender' : 'female', 'level' : 'basic' },\n",
    "    { 'name': 'hank', 'gender' : 'male', 'level' : 'premium' },\n",
    "    { 'name': 'ida', 'gender' : 'female', 'level' : 'basic' },\n",
    "    { 'name': 'karley', 'gender' : 'female', 'level' : 'basic' },\n",
    "    { 'name': 'lisa', 'gender' : 'female', 'level' : 'basic' },\n",
    "    { 'name': 'mike', 'gender' : 'male', 'level' : 'basic' },\n",
    "    { 'name': 'nancy', 'gender' : 'female', 'level' : 'basic' },\n",
    "    { 'name': 'otto', 'gender' : 'male', 'level' : 'basic' },\n",
    "    { 'name': 'patty', 'gender' : 'female', 'level' : 'basic' },\n",
    "    { 'name': 'quinn', 'gender' : 'female', 'level' : 'basic' },\n",
    "    { 'name': 'rose', 'gender' : 'female', 'level' : 'premium' },\n",
    "    { 'name': 'surah', 'gender' : 'male', 'level' : 'basic' },\n",
    "    { 'name': 'tosh', 'gender' : 'male', 'level' : 'basic' },\n",
    "    { 'name': 'vaibhav', 'gender' : 'male', 'level' : 'basic' },\n",
    "    { 'name': 'walt', 'gender' : 'male', 'level' : 'basic' },\n",
    "    { 'name': 'xavier', 'gender' : 'female', 'level' : 'basic' },\n",
    "    { 'name': 'yolanda', 'gender' : 'female', 'level' : 'basic' },\n",
    "    { 'name': 'zeke', 'gender' : 'male', 'level' : 'premium' }\n",
    "]\n",
    "\n",
    "users = [ 'abby', 'bob', 'chris', 'devin', 'elle', 'fred', 'gigi', 'hank', 'ida', 'karley', 'lisa', 'mike', 'nancy', 'otto', 'patty', 'quinn', 'rose', 'surah', 'tosh', 'vaibhav', 'walt', 'xavier', 'yolanda', 'zeke']\n",
    "locations = ['syracuse', 'dewitt', 'tully', 'syracuse', 'syracuse', 'cicero', 'clay', 'dewitt', 'syracuse', 'clay', 'dewitt']\n",
    "max_speed = 1\n",
    "min_speed = 10\n",
    "error_rate_pct = 2\n",
    "over_100_pct = 25\n",
    "producer = Producer({'bootstrap.servers' : 'broker:29092'})\n",
    "\n",
    "# main stream of writes.\n",
    "while True:\n",
    "\n",
    "    user = random.choice(users)\n",
    "    location = random.choice(locations)\n",
    "    #timestamp = int(datetime.datetime.now().timestamp()*1000) #python 3\n",
    "    timestamp = int(time.mktime(datetime.datetime.now().timetuple())*1000) #python 2\n",
    "    amount = random.randint(1,5)*20+100 if random.randint(1,100) <=25 else random.randint(1,5)*20\n",
    "    id = int(uuid.uuid4())\n",
    "    status = \"error\" if random.randint(1,100) <=2 else \"ok\"\n",
    "\n",
    "    data = { \"Id\" : id, \"Location\": location, \"User\" : user, \"TimeStamp\" : timestamp, \"Amount\" : amount, \"Status\" : status }\n",
    "    encoded = json.dumps(data).encode('utf-8')\n",
    "    print(json.dumps(data))\n",
    "    producer.produce('atm',encoded)\n",
    "    producer.flush()\n",
    "    delay = random.randint(max_speed,min_speed)\n",
    "    time.sleep(delay)\n",
    "\n",
    "    "
   ]
  },
  {
   "cell_type": "code",
   "execution_count": null,
   "id": "f1edc235-8ff4-47dc-ad01-ca8c78df0563",
   "metadata": {},
   "outputs": [],
   "source": [
    "producer.close()"
   ]
  },
  {
   "cell_type": "code",
   "execution_count": null,
   "id": "b81ea098-b219-4fd5-9ad6-a951833740c2",
   "metadata": {},
   "outputs": [],
   "source": []
  }
 ],
 "metadata": {
  "kernelspec": {
   "display_name": "Python 3 (ipykernel)",
   "language": "python",
   "name": "python3"
  },
  "language_info": {
   "codemirror_mode": {
    "name": "ipython",
    "version": 3
   },
   "file_extension": ".py",
   "mimetype": "text/x-python",
   "name": "python",
   "nbconvert_exporter": "python",
   "pygments_lexer": "ipython3",
   "version": "3.9.6"
  }
 },
 "nbformat": 4,
 "nbformat_minor": 5
}
