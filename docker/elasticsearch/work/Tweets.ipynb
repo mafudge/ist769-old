{
 "cells": [
  {
   "cell_type": "code",
   "execution_count": 1,
   "id": "ba1d61d6-fbff-4b7d-a7d4-90759fa0934e",
   "metadata": {},
   "outputs": [
    {
     "name": "stdout",
     "output_type": "stream",
     "text": [
      "http://es01:9200/tweets\n",
      "{'id': '713565632948895940', 'timestamp': time.struct_time(tm_year=2021, tm_mon=11, tm_mday=9, tm_hour=17, tm_min=16, tm_sec=24, tm_wday=1, tm_yday=313, tm_isdst=0), 'timestamp_format': '2021-11-09 17:16:24', 'date': '2021-11-09', 'time': '17:16:24', 'user': 'lkarforless', 'lat': 25.39, 'lon': -108.54, 'text': \"You're the best @fudgemart! A+ shipping!\", 'sentiment': 'positive', 'mentions': ['@fudgemart!'], 'hashtags': []}\n"
     ]
    }
   ],
   "source": [
    "from simtweet import generateRandomTweet\n",
    "import requests\n",
    "from time import sleep\n",
    "import random\n",
    "import json\n",
    "elastic = \"http://es01:9200\"\n",
    "index = \"tweets\"\n",
    "url = f\"{elastic}/{index}\"\n",
    "headers = { \"Content-Type\" : \"application/json\" }\n",
    "print(url)\n",
    "print(generateRandomTweet())"
   ]
  },
  {
   "cell_type": "markdown",
   "id": "5d150750-fe2a-40dc-8370-203c1cabe8e5",
   "metadata": {},
   "source": [
    "THIS CODE WILL RUN UNTIL USER PRESSES BREAK OR TWEET LIMIT IS HIT"
   ]
  },
  {
   "cell_type": "code",
   "execution_count": 2,
   "id": "53850cc5-fe17-4104-b2fd-a3ef6c56b836",
   "metadata": {},
   "outputs": [
    {
     "name": "stdout",
     "output_type": "stream",
     "text": [
      "curl -X POST http://es01:9200/tweets/_doc/1852169740259454036 -H 'Content-Type: application/json' \n",
      "\t-d '{\"id\": \"1852169740259454036\", \"timestamp\": [2021, 11, 9, 17, 16, 29, 1, 313, 0], \"timestamp_format\": \"2021-11-09 17:16:29\", \"date\": \"2021-11-09\", \"time\": \"17:16:29\", \"user\": \"equittin\", \"lat\": 35.38, \"lon\": -77.83, \"text\": \"The books department at #fudgemart is amazing. Great support!\", \"sentiment\": \"positive\", \"mentions\": [], \"hashtags\": [\"#fudgemart\"]}'\n",
      "curl -X POST http://es01:9200/tweets/_doc/4147619957766279129 -H 'Content-Type: application/json' \n",
      "\t-d '{\"id\": \"4147619957766279129\", \"timestamp\": [2021, 11, 9, 17, 16, 30, 1, 313, 0], \"timestamp_format\": \"2021-11-09 17:16:30\", \"date\": \"2021-11-09\", \"time\": \"17:16:30\", \"user\": \"etasomthin\", \"lat\": 43.38, \"lon\": -82.53, \"text\": \"The #books department at #fudgemart is amazing. Very helpful!\", \"sentiment\": \"positive\", \"mentions\": [], \"hashtags\": [\"#books\", \"#fudgemart\"]}'\n",
      "curl -X POST http://es01:9200/tweets/_doc/4100745548072201841 -H 'Content-Type: application/json' \n",
      "\t-d '{\"id\": \"4100745548072201841\", \"timestamp\": [2021, 11, 9, 17, 16, 33, 1, 313, 0], \"timestamp_format\": \"2021-11-09 17:16:33\", \"date\": \"2021-11-09\", \"time\": \"17:16:33\", \"user\": \"afresco\", \"lat\": 33.38, \"lon\": -96.79, \"text\": \"Hey, @fudgemart. You've got products with benefits!\", \"sentiment\": \"positive\", \"mentions\": [\"@fudgemart.\"], \"hashtags\": []}'\n",
      "curl -X POST http://es01:9200/tweets/_doc/294800045819453841 -H 'Content-Type: application/json' \n",
      "\t-d '{\"id\": \"294800045819453841\", \"timestamp\": [2021, 11, 9, 17, 16, 35, 1, 313, 0], \"timestamp_format\": \"2021-11-09 17:16:35\", \"date\": \"2021-11-09\", \"time\": \"17:16:35\", \"user\": \"tpani\", \"lat\": 27.38, \"lon\": -82.64, \"text\": \"Hey fudgemart, why is your support so bad? #frustrated\", \"sentiment\": \"negative\", \"mentions\": [], \"hashtags\": [\"#frustrated\"]}'\n",
      "curl -X POST http://es01:9200/tweets/_doc/354419167518964479 -H 'Content-Type: application/json' \n",
      "\t-d '{\"id\": \"354419167518964479\", \"timestamp\": [2021, 11, 9, 17, 16, 38, 1, 313, 0], \"timestamp_format\": \"2021-11-09 17:16:38\", \"date\": \"2021-11-09\", \"time\": \"17:16:38\", \"user\": \"rdeboat\", \"lat\": 33.39, \"lon\": -90.55, \"text\": \"What's not to like? They have everything.\", \"sentiment\": \"positive\", \"mentions\": [], \"hashtags\": []}'\n",
      "curl -X POST http://es01:9200/tweets/_doc/4482972544148739528 -H 'Content-Type: application/json' \n",
      "\t-d '{\"id\": \"4482972544148739528\", \"timestamp\": [2021, 11, 9, 17, 16, 42, 1, 313, 0], \"timestamp_format\": \"2021-11-09 17:16:42\", \"date\": \"2021-11-09\", \"time\": \"17:16:42\", \"user\": \"etasomthin\", \"lat\": 43.38, \"lon\": -82.53, \"text\": \"Shopping 4 books, electronics, and jewelry at #fudgemart.\", \"sentiment\": \"neutral\", \"mentions\": [], \"hashtags\": [\"#fudgemart.\"]}'\n",
      "curl -X POST http://es01:9200/tweets/_doc/2273941226190826832 -H 'Content-Type: application/json' \n",
      "\t-d '{\"id\": \"2273941226190826832\", \"timestamp\": [2021, 11, 9, 17, 16, 46, 1, 313, 0], \"timestamp_format\": \"2021-11-09 17:16:46\", \"date\": \"2021-11-09\", \"time\": \"17:16:46\", \"user\": \"etasomthin\", \"lat\": 43.38, \"lon\": -82.53, \"text\": \"Just placed an order today. thx @fudgemart\", \"sentiment\": \"neutral\", \"mentions\": [\"@fudgemart\"], \"hashtags\": []}'\n",
      "curl -X POST http://es01:9200/tweets/_doc/1878161589978186034 -H 'Content-Type: application/json' \n",
      "\t-d '{\"id\": \"1878161589978186034\", \"timestamp\": [2021, 11, 9, 17, 16, 48, 1, 313, 0], \"timestamp_format\": \"2021-11-09 17:16:48\", \"date\": \"2021-11-09\", \"time\": \"17:16:48\", \"user\": \"edetyers\", \"lat\": 38.39, \"lon\": -86.76, \"text\": \"You're the best @fudgemart! A+ shipping!\", \"sentiment\": \"positive\", \"mentions\": [\"@fudgemart!\"], \"hashtags\": []}'\n",
      "curl -X POST http://es01:9200/tweets/_doc/570610522989841983 -H 'Content-Type: application/json' \n",
      "\t-d '{\"id\": \"570610522989841983\", \"timestamp\": [2021, 11, 9, 17, 16, 53, 1, 313, 0], \"timestamp_format\": \"2021-11-09 17:16:53\", \"date\": \"2021-11-09\", \"time\": \"17:16:53\", \"user\": \"rdeboat\", \"lat\": 33.39, \"lon\": -90.55, \"text\": \"Wonderful jewelry selection, @fudgemart\", \"sentiment\": \"positive\", \"mentions\": [\"@fudgemart\"], \"hashtags\": []}'\n",
      "curl -X POST http://es01:9200/tweets/_doc/307604092045039474 -H 'Content-Type: application/json' \n",
      "\t-d '{\"id\": \"307604092045039474\", \"timestamp\": [2021, 11, 9, 17, 16, 58, 1, 313, 0], \"timestamp_format\": \"2021-11-09 17:16:58\", \"date\": \"2021-11-09\", \"time\": \"17:16:58\", \"user\": \"tanott\", \"lat\": 29.38, \"lon\": -94.84, \"text\": \"There are some new products on Fudgemart. #fudgemart\", \"sentiment\": \"neutral\", \"mentions\": [], \"hashtags\": [\"#fudgemart\"]}'\n",
      "curl -X POST http://es01:9200/tweets/_doc/3778105165938169688 -H 'Content-Type: application/json' \n",
      "\t-d '{\"id\": \"3778105165938169688\", \"timestamp\": [2021, 11, 9, 17, 17, 3, 1, 313, 0], \"timestamp_format\": \"2021-11-09 17:17:03\", \"date\": \"2021-11-09\", \"time\": \"17:17:03\", \"user\": \"afirenzergon\", \"lat\": 41.38, \"lon\": -73.48, \"text\": \"Do you enjoy books? Try @fudgemart.\", \"sentiment\": \"positive\", \"mentions\": [\"@fudgemart.\"], \"hashtags\": []}'\n",
      "curl -X POST http://es01:9200/tweets/_doc/3637739369625852844 -H 'Content-Type: application/json' \n",
      "\t-d '{\"id\": \"3637739369625852844\", \"timestamp\": [2021, 11, 9, 17, 17, 5, 1, 313, 0], \"timestamp_format\": \"2021-11-09 17:17:05\", \"date\": \"2021-11-09\", \"time\": \"17:17:05\", \"user\": \"equittin\", \"lat\": 35.38, \"lon\": -77.83, \"text\": \"Who uses the fudgemart website\", \"sentiment\": \"neutral\", \"mentions\": [], \"hashtags\": []}'\n",
      "curl -X POST http://es01:9200/tweets/_doc/1081641658934833324 -H 'Content-Type: application/json' \n",
      "\t-d '{\"id\": \"1081641658934833324\", \"timestamp\": [2021, 11, 9, 17, 17, 8, 1, 313, 0], \"timestamp_format\": \"2021-11-09 17:17:08\", \"date\": \"2021-11-09\", \"time\": \"17:17:08\", \"user\": \"etasomthin\", \"lat\": 43.38, \"lon\": -82.53, \"text\": \"There are new digital downloads on #fudgemart\", \"sentiment\": \"neutral\", \"mentions\": [], \"hashtags\": [\"#fudgemart\"]}'\n",
      "curl -X POST http://es01:9200/tweets/_doc/3311795175663663622 -H 'Content-Type: application/json' \n",
      "\t-d '{\"id\": \"3311795175663663622\", \"timestamp\": [2021, 11, 9, 17, 17, 12, 1, 313, 0], \"timestamp_format\": \"2021-11-09 17:17:12\", \"date\": \"2021-11-09\", \"time\": \"17:17:12\", \"user\": \"benarreau\", \"lat\": 37.39, \"lon\": -85.74, \"text\": \"Just got some electronics from #fudgemart. Awesome!\", \"sentiment\": \"positive\", \"mentions\": [], \"hashtags\": [\"#fudgemart.\"]}'\n",
      "curl -X POST http://es01:9200/tweets/_doc/647737884976468000 -H 'Content-Type: application/json' \n",
      "\t-d '{\"id\": \"647737884976468000\", \"timestamp\": [2021, 11, 9, 17, 17, 16, 1, 313, 0], \"timestamp_format\": \"2021-11-09 17:17:16\", \"date\": \"2021-11-09\", \"time\": \"17:17:16\", \"user\": \"edetyers\", \"lat\": 38.39, \"lon\": -86.76, \"text\": \"The Electronics department at #fudgemart is amazing. Great support!\", \"sentiment\": \"positive\", \"mentions\": [], \"hashtags\": [\"#fudgemart\"]}'\n",
      "curl -X POST http://es01:9200/tweets/_doc/2917213197675196856 -H 'Content-Type: application/json' \n",
      "\t-d '{\"id\": \"2917213197675196856\", \"timestamp\": [2021, 11, 9, 17, 17, 17, 1, 313, 0], \"timestamp_format\": \"2021-11-09 17:17:17\", \"date\": \"2021-11-09\", \"time\": \"17:17:17\", \"user\": \"afresco\", \"lat\": 33.38, \"lon\": -96.79, \"text\": \"There are new digital downloads on #fudgemart\", \"sentiment\": \"neutral\", \"mentions\": [], \"hashtags\": [\"#fudgemart\"]}'\n",
      "curl -X POST http://es01:9200/tweets/_doc/1480987010698779261 -H 'Content-Type: application/json' \n",
      "\t-d '{\"id\": \"1480987010698779261\", \"timestamp\": [2021, 11, 9, 17, 17, 22, 1, 313, 0], \"timestamp_format\": \"2021-11-09 17:17:22\", \"date\": \"2021-11-09\", \"time\": \"17:17:22\", \"user\": \"etasomthin\", \"lat\": 43.38, \"lon\": -82.53, \"text\": \"Just placed an order today. thx @fudgemart\", \"sentiment\": \"neutral\", \"mentions\": [\"@fudgemart\"], \"hashtags\": []}'\n",
      "curl -X POST http://es01:9200/tweets/_doc/2850325204353218475 -H 'Content-Type: application/json' \n",
      "\t-d '{\"id\": \"2850325204353218475\", \"timestamp\": [2021, 11, 9, 17, 17, 23, 1, 313, 0], \"timestamp_format\": \"2021-11-09 17:17:23\", \"date\": \"2021-11-09\", \"time\": \"17:17:23\", \"user\": \"cpayne\", \"lat\": 34.39, \"lon\": -83.74, \"text\": \"Do you enjoy #digital #downloads? Try @fudgemart.\", \"sentiment\": \"positive\", \"mentions\": [\"@fudgemart.\"], \"hashtags\": [\"#digital\", \"#downloads?\"]}'\n",
      "curl -X POST http://es01:9200/tweets/_doc/4463536607388902409 -H 'Content-Type: application/json' \n",
      "\t-d '{\"id\": \"4463536607388902409\", \"timestamp\": [2021, 11, 9, 17, 17, 28, 1, 313, 0], \"timestamp_format\": \"2021-11-09 17:17:28\", \"date\": \"2021-11-09\", \"time\": \"17:17:28\", \"user\": \"etasomthin\", \"lat\": 43.38, \"lon\": -82.53, \"text\": \"Just placed an order today. thx @fudgemart\", \"sentiment\": \"neutral\", \"mentions\": [\"@fudgemart\"], \"hashtags\": []}'\n",
      "curl -X POST http://es01:9200/tweets/_doc/1543764169824827256 -H 'Content-Type: application/json' \n",
      "\t-d '{\"id\": \"1543764169824827256\", \"timestamp\": [2021, 11, 9, 17, 17, 29, 1, 313, 0], \"timestamp_format\": \"2021-11-09 17:17:29\", \"date\": \"2021-11-09\", \"time\": \"17:17:29\", \"user\": \"rdeboat\", \"lat\": 33.39, \"lon\": -90.55, \"text\": \"Yo, @fudgemart\", \"sentiment\": \"neutral\", \"mentions\": [\"@fudgemart\"], \"hashtags\": []}'\n",
      "curl -X POST http://es01:9200/tweets/_doc/4308597884875501351 -H 'Content-Type: application/json' \n",
      "\t-d '{\"id\": \"4308597884875501351\", \"timestamp\": [2021, 11, 9, 17, 17, 33, 1, 313, 0], \"timestamp_format\": \"2021-11-09 17:17:33\", \"date\": \"2021-11-09\", \"time\": \"17:17:33\", \"user\": \"lkarforless\", \"lat\": 25.39, \"lon\": -108.54, \"text\": \"Hey fudgemart, why is your support so bad? #upset\", \"sentiment\": \"negative\", \"mentions\": [], \"hashtags\": [\"#upset\"]}'\n",
      "curl -X POST http://es01:9200/tweets/_doc/2752001694118062989 -H 'Content-Type: application/json' \n",
      "\t-d '{\"id\": \"2752001694118062989\", \"timestamp\": [2021, 11, 9, 17, 17, 37, 1, 313, 0], \"timestamp_format\": \"2021-11-09 17:17:37\", \"date\": \"2021-11-09\", \"time\": \"17:17:37\", \"user\": \"equittin\", \"lat\": 35.38, \"lon\": -77.83, \"text\": \"Shipping takes forever. so slow.\", \"sentiment\": \"negative\", \"mentions\": [], \"hashtags\": []}'\n",
      "curl -X POST http://es01:9200/tweets/_doc/2161641381241158909 -H 'Content-Type: application/json' \n",
      "\t-d '{\"id\": \"2161641381241158909\", \"timestamp\": [2021, 11, 9, 17, 17, 38, 1, 313, 0], \"timestamp_format\": \"2021-11-09 17:17:38\", \"date\": \"2021-11-09\", \"time\": \"17:17:38\", \"user\": \"otyme\", \"lat\": 30.39, \"lon\": -87.57, \"text\": \"The #books department at #fudgemart is amazing. Very helpful!\", \"sentiment\": \"positive\", \"mentions\": [], \"hashtags\": [\"#books\", \"#fudgemart\"]}'\n",
      "curl -X POST http://es01:9200/tweets/_doc/890605835646706720 -H 'Content-Type: application/json' \n",
      "\t-d '{\"id\": \"890605835646706720\", \"timestamp\": [2021, 11, 9, 17, 17, 39, 1, 313, 0], \"timestamp_format\": \"2021-11-09 17:17:39\", \"date\": \"2021-11-09\", \"time\": \"17:17:39\", \"user\": \"rdeboat\", \"lat\": 33.39, \"lon\": -90.55, \"text\": \"I like the Fudgemart website\", \"sentiment\": \"positive\", \"mentions\": [], \"hashtags\": []}'\n",
      "curl -X POST http://es01:9200/tweets/_doc/2344038790539052666 -H 'Content-Type: application/json' \n",
      "\t-d '{\"id\": \"2344038790539052666\", \"timestamp\": [2021, 11, 9, 17, 17, 40, 1, 313, 0], \"timestamp_format\": \"2021-11-09 17:17:40\", \"date\": \"2021-11-09\", \"time\": \"17:17:40\", \"user\": \"otyme\", \"lat\": 30.39, \"lon\": -87.57, \"text\": \"Shopping 4 books, electronics, and jewelry at #fudgemart.\", \"sentiment\": \"neutral\", \"mentions\": [], \"hashtags\": [\"#fudgemart.\"]}'\n"
     ]
    }
   ],
   "source": [
    "tweet_limit = 25\n",
    "min_delay = 1\n",
    "max_delay = 10\n",
    "\n",
    "for i in range(tweet_limit):\n",
    "    sleep(random.randint(min_delay, max_delay))\n",
    "    tweet = generateRandomTweet()\n",
    "    endpoint = f\"{url}/_doc/{tweet['id']}\"\n",
    "    response = requests.post(endpoint, headers = headers, data = json.dumps(tweet))\n",
    "    response.raise_for_status()\n",
    "    print(f\"curl -X POST {endpoint} -H 'Content-Type: application/json' \\n\\t-d '{json.dumps(tweet)}'\")\n",
    "    "
   ]
  },
  {
   "cell_type": "code",
   "execution_count": null,
   "id": "7d3b6f9e-bdba-4abd-8cfd-0ca70ebf0556",
   "metadata": {},
   "outputs": [],
   "source": []
  }
 ],
 "metadata": {
  "kernelspec": {
   "display_name": "Python 3 (ipykernel)",
   "language": "python",
   "name": "python3"
  },
  "language_info": {
   "codemirror_mode": {
    "name": "ipython",
    "version": 3
   },
   "file_extension": ".py",
   "mimetype": "text/x-python",
   "name": "python",
   "nbconvert_exporter": "python",
   "pygments_lexer": "ipython3",
   "version": "3.9.6"
  }
 },
 "nbformat": 4,
 "nbformat_minor": 5
}
