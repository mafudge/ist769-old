{
 "cells": [
  {
   "cell_type": "code",
   "execution_count": 1,
   "id": "a1bb0ec5-a22b-484e-93a1-5f674b16ac75",
   "metadata": {},
   "outputs": [
    {
     "name": "stdout",
     "output_type": "stream",
     "text": [
      "Requirement already satisfied: confluent-kafka in /opt/conda/lib/python3.9/site-packages (1.7.0)\n"
     ]
    }
   ],
   "source": [
    "!pip install confluent-kafka"
   ]
  },
  {
   "cell_type": "code",
   "execution_count": 3,
   "id": "366565bb-d2a2-403f-a6d4-9165cf60abd2",
   "metadata": {},
   "outputs": [],
   "source": [
    "from confluent_kafka import Consumer, Producer"
   ]
  },
  {
   "cell_type": "code",
   "execution_count": 4,
   "id": "32d98b6c-a693-4e6f-8d85-89bf89f4a827",
   "metadata": {},
   "outputs": [],
   "source": [
    "consumer = Consumer({'bootstrap.servers' : 'broker:29092', 'group.id' : '*'})"
   ]
  },
  {
   "cell_type": "code",
   "execution_count": 24,
   "id": "68c5aae4-eec3-4b36-92da-951e0c39aa43",
   "metadata": {},
   "outputs": [],
   "source": [
    "topics = consumer.list_topics() # a python dict"
   ]
  },
  {
   "cell_type": "code",
   "execution_count": 27,
   "id": "e16ca9a1-3ee4-42f0-877b-78181debc481",
   "metadata": {},
   "outputs": [],
   "source": [
    "atm_topics = topics.topics['atm']"
   ]
  },
  {
   "cell_type": "code",
   "execution_count": 30,
   "id": "eb1a8139-c621-4ad3-a46d-0ae0674aac2c",
   "metadata": {},
   "outputs": [
    {
     "data": {
      "text/plain": [
       "{0: PartitionMetadata(0)}"
      ]
     },
     "execution_count": 30,
     "metadata": {},
     "output_type": "execute_result"
    }
   ],
   "source": [
    "atm_topics.partitions"
   ]
  },
  {
   "cell_type": "code",
   "execution_count": 32,
   "id": "e17ab67d-e77f-459c-87b5-c417231d5ec7",
   "metadata": {},
   "outputs": [
    {
     "data": {
      "text/plain": [
       "{1: BrokerMetadata(1, broker:29092)}"
      ]
     },
     "execution_count": 32,
     "metadata": {},
     "output_type": "execute_result"
    }
   ],
   "source": [
    "topics.brokers"
   ]
  },
  {
   "cell_type": "code",
   "execution_count": 34,
   "id": "a2106e23-0f74-4606-9468-8aa9bc55eeb6",
   "metadata": {},
   "outputs": [
    {
     "data": {
      "text/plain": [
       "{'_confluent-controlcenter-6-2-0-1-cluster-rekey': TopicMetadata(_confluent-controlcenter-6-2-0-1-cluster-rekey, 1 partitions),\n",
       " '_confluent-controlcenter-6-2-0-1-KSTREAM-OUTEROTHER-0000000106-store-repartition': TopicMetadata(_confluent-controlcenter-6-2-0-1-KSTREAM-OUTEROTHER-0000000106-store-repartition, 1 partitions),\n",
       " '_confluent-controlcenter-6-2-0-1-TriggerEventsStore-changelog': TopicMetadata(_confluent-controlcenter-6-2-0-1-TriggerEventsStore-changelog, 1 partitions),\n",
       " '_confluent-controlcenter-6-2-0-1-group-aggregate-store-ONE_MINUTE-changelog': TopicMetadata(_confluent-controlcenter-6-2-0-1-group-aggregate-store-ONE_MINUTE-changelog, 1 partitions),\n",
       " '_confluent-metrics': TopicMetadata(_confluent-metrics, 12 partitions),\n",
       " '_confluent-controlcenter-6-2-0-1-aggregate-topic-partition-store-changelog': TopicMetadata(_confluent-controlcenter-6-2-0-1-aggregate-topic-partition-store-changelog, 1 partitions),\n",
       " '_confluent-controlcenter-6-2-0-1-MonitoringStream-THREE_HOURS-repartition': TopicMetadata(_confluent-controlcenter-6-2-0-1-MonitoringStream-THREE_HOURS-repartition, 1 partitions),\n",
       " '_confluent-controlcenter-6-2-0-1-monitoring-message-rekey-store': TopicMetadata(_confluent-controlcenter-6-2-0-1-monitoring-message-rekey-store, 1 partitions),\n",
       " '_confluent-controlcenter-6-2-0-1-MonitoringStream-ONE_MINUTE-changelog': TopicMetadata(_confluent-controlcenter-6-2-0-1-MonitoringStream-ONE_MINUTE-changelog, 1 partitions),\n",
       " '_confluent-controlcenter-6-2-0-1-group-aggregate-store-THREE_HOURS-repartition': TopicMetadata(_confluent-controlcenter-6-2-0-1-group-aggregate-store-THREE_HOURS-repartition, 1 partitions),\n",
       " '_confluent-controlcenter-6-2-0-1-aggregatedTopicPartitionTableWindows-ONE_MINUTE-repartition': TopicMetadata(_confluent-controlcenter-6-2-0-1-aggregatedTopicPartitionTableWindows-ONE_MINUTE-repartition, 1 partitions),\n",
       " '_confluent-controlcenter-6-2-0-1-KSTREAM-OUTEROTHER-0000000106-store-changelog': TopicMetadata(_confluent-controlcenter-6-2-0-1-KSTREAM-OUTEROTHER-0000000106-store-changelog, 1 partitions),\n",
       " '_confluent-controlcenter-6-2-0-1-Group-ONE_MINUTE-changelog': TopicMetadata(_confluent-controlcenter-6-2-0-1-Group-ONE_MINUTE-changelog, 1 partitions),\n",
       " '__transaction_state': TopicMetadata(__transaction_state, 50 partitions),\n",
       " '_confluent-controlcenter-6-2-0-1-Group-THREE_HOURS-changelog': TopicMetadata(_confluent-controlcenter-6-2-0-1-Group-THREE_HOURS-changelog, 1 partitions),\n",
       " 'default_ksql_processing_log': TopicMetadata(default_ksql_processing_log, 1 partitions),\n",
       " '_confluent-controlcenter-6-2-0-1-MonitoringMessageAggregatorWindows-ONE_MINUTE-changelog': TopicMetadata(_confluent-controlcenter-6-2-0-1-MonitoringMessageAggregatorWindows-ONE_MINUTE-changelog, 1 partitions),\n",
       " 'docker-connect-status': TopicMetadata(docker-connect-status, 5 partitions),\n",
       " '_confluent-controlcenter-6-2-0-1-group-stream-extension-rekey': TopicMetadata(_confluent-controlcenter-6-2-0-1-group-stream-extension-rekey, 1 partitions),\n",
       " '_confluent-controlcenter-6-2-0-1-Group-ONE_MINUTE-repartition': TopicMetadata(_confluent-controlcenter-6-2-0-1-Group-ONE_MINUTE-repartition, 1 partitions),\n",
       " '_schemas': TopicMetadata(_schemas, 1 partitions),\n",
       " '_confluent-controlcenter-6-2-0-1-monitoring-aggregate-rekey-store-changelog': TopicMetadata(_confluent-controlcenter-6-2-0-1-monitoring-aggregate-rekey-store-changelog, 1 partitions),\n",
       " '_confluent-telemetry-metrics': TopicMetadata(_confluent-telemetry-metrics, 12 partitions),\n",
       " '_confluent-controlcenter-6-2-0-1-Group-THREE_HOURS-repartition': TopicMetadata(_confluent-controlcenter-6-2-0-1-Group-THREE_HOURS-repartition, 1 partitions),\n",
       " '_confluent-controlcenter-6-2-0-1-MonitoringTriggerStore-changelog': TopicMetadata(_confluent-controlcenter-6-2-0-1-MonitoringTriggerStore-changelog, 1 partitions),\n",
       " '_confluent-controlcenter-6-2-0-1-TriggerActionsStore-repartition': TopicMetadata(_confluent-controlcenter-6-2-0-1-TriggerActionsStore-repartition, 1 partitions),\n",
       " '_confluent-controlcenter-6-2-0-1-MetricsAggregateStore-changelog': TopicMetadata(_confluent-controlcenter-6-2-0-1-MetricsAggregateStore-changelog, 1 partitions),\n",
       " '_confluent-controlcenter-6-2-0-1-MonitoringMessageAggregatorWindows-THREE_HOURS-changelog': TopicMetadata(_confluent-controlcenter-6-2-0-1-MonitoringMessageAggregatorWindows-THREE_HOURS-changelog, 1 partitions),\n",
       " '_confluent-ksql-default__command_topic': TopicMetadata(_confluent-ksql-default__command_topic, 1 partitions),\n",
       " '_confluent-controlcenter-6-2-0-1-monitoring-aggregate-rekey-store-repartition': TopicMetadata(_confluent-controlcenter-6-2-0-1-monitoring-aggregate-rekey-store-repartition, 1 partitions),\n",
       " '_confluent-controlcenter-6-2-0-1-MonitoringStream-ONE_MINUTE-repartition': TopicMetadata(_confluent-controlcenter-6-2-0-1-MonitoringStream-ONE_MINUTE-repartition, 1 partitions),\n",
       " '_confluent-controlcenter-6-2-0-1-expected-group-consumption-rekey': TopicMetadata(_confluent-controlcenter-6-2-0-1-expected-group-consumption-rekey, 1 partitions),\n",
       " '_confluent-monitoring': TopicMetadata(_confluent-monitoring, 1 partitions),\n",
       " '_confluent-controlcenter-6-2-0-1-aggregatedTopicPartitionTableWindows-THREE_HOURS-repartition': TopicMetadata(_confluent-controlcenter-6-2-0-1-aggregatedTopicPartitionTableWindows-THREE_HOURS-repartition, 1 partitions),\n",
       " '_confluent-controlcenter-6-2-0-1-aggregatedTopicPartitionTableWindows-ONE_MINUTE-changelog': TopicMetadata(_confluent-controlcenter-6-2-0-1-aggregatedTopicPartitionTableWindows-ONE_MINUTE-changelog, 1 partitions),\n",
       " '_confluent-controlcenter-6-2-0-1-MetricsAggregateStore-repartition': TopicMetadata(_confluent-controlcenter-6-2-0-1-MetricsAggregateStore-repartition, 1 partitions),\n",
       " '_confluent-controlcenter-6-2-0-1-MonitoringVerifierStore-changelog': TopicMetadata(_confluent-controlcenter-6-2-0-1-MonitoringVerifierStore-changelog, 1 partitions),\n",
       " '_confluent-controlcenter-6-2-0-1-MonitoringTriggerStore-repartition': TopicMetadata(_confluent-controlcenter-6-2-0-1-MonitoringTriggerStore-repartition, 1 partitions),\n",
       " '_confluent-controlcenter-6-2-0-1-KSTREAM-OUTERTHIS-0000000105-store-changelog': TopicMetadata(_confluent-controlcenter-6-2-0-1-KSTREAM-OUTERTHIS-0000000105-store-changelog, 1 partitions),\n",
       " '_confluent-controlcenter-6-2-0-1-monitoring-trigger-event-rekey': TopicMetadata(_confluent-controlcenter-6-2-0-1-monitoring-trigger-event-rekey, 1 partitions),\n",
       " '__consumer_offsets': TopicMetadata(__consumer_offsets, 50 partitions),\n",
       " '_confluent_balancer_broker_samples': TopicMetadata(_confluent_balancer_broker_samples, 32 partitions),\n",
       " '_confluent-controlcenter-6-2-0-1-aggregate-topic-partition-store-repartition': TopicMetadata(_confluent-controlcenter-6-2-0-1-aggregate-topic-partition-store-repartition, 1 partitions),\n",
       " '_confluent-controlcenter-6-2-0-1-TriggerEventsStore-repartition': TopicMetadata(_confluent-controlcenter-6-2-0-1-TriggerEventsStore-repartition, 1 partitions),\n",
       " '_confluent_balancer_partition_samples': TopicMetadata(_confluent_balancer_partition_samples, 32 partitions),\n",
       " '_confluent-license': TopicMetadata(_confluent-license, 1 partitions),\n",
       " '_confluent-controlcenter-6-2-0-1-AlertHistoryStore-changelog': TopicMetadata(_confluent-controlcenter-6-2-0-1-AlertHistoryStore-changelog, 1 partitions),\n",
       " '_confluent-controlcenter-6-2-0-1-MonitoringVerifierStore-repartition': TopicMetadata(_confluent-controlcenter-6-2-0-1-MonitoringVerifierStore-repartition, 1 partitions),\n",
       " '_confluent-controlcenter-6-2-0-1-MonitoringMessageAggregatorWindows-ONE_MINUTE-repartition': TopicMetadata(_confluent-controlcenter-6-2-0-1-MonitoringMessageAggregatorWindows-ONE_MINUTE-repartition, 1 partitions),\n",
       " 'docker-connect-offsets': TopicMetadata(docker-connect-offsets, 25 partitions),\n",
       " '_confluent-controlcenter-6-2-0-1-TriggerActionsStore-changelog': TopicMetadata(_confluent-controlcenter-6-2-0-1-TriggerActionsStore-changelog, 1 partitions),\n",
       " 'docker-connect-configs': TopicMetadata(docker-connect-configs, 1 partitions),\n",
       " '_confluent-controlcenter-6-2-0-1-KSTREAM-OUTERTHIS-0000000105-store-repartition': TopicMetadata(_confluent-controlcenter-6-2-0-1-KSTREAM-OUTERTHIS-0000000105-store-repartition, 1 partitions),\n",
       " '_confluent-controlcenter-6-2-0-1-MonitoringStream-THREE_HOURS-changelog': TopicMetadata(_confluent-controlcenter-6-2-0-1-MonitoringStream-THREE_HOURS-changelog, 1 partitions),\n",
       " '_confluent-controlcenter-6-2-0-1-actual-group-consumption-rekey': TopicMetadata(_confluent-controlcenter-6-2-0-1-actual-group-consumption-rekey, 1 partitions),\n",
       " '_confluent-controlcenter-6-2-0-1-AlertHistoryStore-repartition': TopicMetadata(_confluent-controlcenter-6-2-0-1-AlertHistoryStore-repartition, 1 partitions),\n",
       " '_confluent-controlcenter-6-2-0-1-aggregatedTopicPartitionTableWindows-THREE_HOURS-changelog': TopicMetadata(_confluent-controlcenter-6-2-0-1-aggregatedTopicPartitionTableWindows-THREE_HOURS-changelog, 1 partitions),\n",
       " '_confluent_balancer_api_state': TopicMetadata(_confluent_balancer_api_state, 1 partitions),\n",
       " '_confluent-controlcenter-6-2-0-1-MonitoringMessageAggregatorWindows-THREE_HOURS-repartition': TopicMetadata(_confluent-controlcenter-6-2-0-1-MonitoringMessageAggregatorWindows-THREE_HOURS-repartition, 1 partitions),\n",
       " '_confluent-controlcenter-6-2-0-1-metrics-trigger-measurement-rekey': TopicMetadata(_confluent-controlcenter-6-2-0-1-metrics-trigger-measurement-rekey, 1 partitions),\n",
       " '_confluent-command': TopicMetadata(_confluent-command, 1 partitions),\n",
       " '_confluent-controlcenter-6-2-0-1-group-aggregate-store-THREE_HOURS-changelog': TopicMetadata(_confluent-controlcenter-6-2-0-1-group-aggregate-store-THREE_HOURS-changelog, 1 partitions),\n",
       " '_confluent-controlcenter-6-2-0-1-group-aggregate-store-ONE_MINUTE-repartition': TopicMetadata(_confluent-controlcenter-6-2-0-1-group-aggregate-store-ONE_MINUTE-repartition, 1 partitions),\n",
       " 'atm': TopicMetadata(atm, 1 partitions)}"
      ]
     },
     "execution_count": 34,
     "metadata": {},
     "output_type": "execute_result"
    }
   ],
   "source": [
    "topics.topics"
   ]
  },
  {
   "cell_type": "code",
   "execution_count": null,
   "id": "9291b472-8608-4b95-ab58-d875c75d258f",
   "metadata": {},
   "outputs": [],
   "source": []
  }
 ],
 "metadata": {
  "kernelspec": {
   "display_name": "Python 3 (ipykernel)",
   "language": "python",
   "name": "python3"
  },
  "language_info": {
   "codemirror_mode": {
    "name": "ipython",
    "version": 3
   },
   "file_extension": ".py",
   "mimetype": "text/x-python",
   "name": "python",
   "nbconvert_exporter": "python",
   "pygments_lexer": "ipython3",
   "version": "3.9.6"
  }
 },
 "nbformat": 4,
 "nbformat_minor": 5
}
