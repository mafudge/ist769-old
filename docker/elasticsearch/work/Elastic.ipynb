{
 "cells": [
  {
   "cell_type": "code",
   "execution_count": 7,
   "id": "d8a42f28-e70e-45d7-bdb2-edff3a0bf7b3",
   "metadata": {},
   "outputs": [],
   "source": [
    "# Download the required jar library for elastic\n"
   ]
  },
  {
   "cell_type": "code",
   "execution_count": 1,
   "id": "10921e23-20a3-40cd-85c9-7d4766f7231a",
   "metadata": {},
   "outputs": [
    {
     "name": "stdout",
     "output_type": "stream",
     "text": [
      "  % Total    % Received % Xferd  Average Speed   Time    Time     Time  Current\n",
      "                                 Dload  Upload   Total   Spent    Left  Speed\n",
      "100 2052k  100 2052k    0     0  6536k      0 --:--:-- --:--:-- --:--:-- 6515k\n"
     ]
    }
   ],
   "source": [
    "! sudo curl https://repo1.maven.org/maven2/org/elasticsearch/elasticsearch-spark-20_2.12/7.15.0/elasticsearch-spark-20_2.12-7.15.0.jar --output /usr/local/spark/jars/elasticsearch-spark-20_2.12-7.15.0.jar"
   ]
  },
  {
   "cell_type": "code",
   "execution_count": 2,
   "id": "da462505-4b98-49ea-99e1-6b78dbefbd74",
   "metadata": {},
   "outputs": [],
   "source": [
    "import pyspark\n",
    "from pyspark.sql import SparkSession"
   ]
  },
  {
   "cell_type": "code",
   "execution_count": 75,
   "id": "27227b52-c6a7-47e1-85a3-a05fa86df757",
   "metadata": {},
   "outputs": [],
   "source": [
    "#   .config(\"spark.es.nodes.wan.only\",\"true\") \\\n",
    "spark = SparkSession.builder \\\n",
    "    .master(\"local\") \\\n",
    "    .appName('jupyter-pyspark') \\\n",
    "    .config(\"spark.es.nodes\",\"es01\") \\\n",
    "    .config(\"spark.es.port\",\"9200\") \\\n",
    "    .getOrCreate()\n",
    "sc = spark.sparkContext\n",
    "sc.setLogLevel(\"ERROR\")"
   ]
  },
  {
   "cell_type": "code",
   "execution_count": 76,
   "id": "fa2ae3c8-9c8a-4b7a-8066-f4faf9706897",
   "metadata": {},
   "outputs": [
    {
     "name": "stdout",
     "output_type": "stream",
     "text": [
      "+------+----------+--------------------+------+---------------+-----------+-----+------------+---------------+---------------+\n",
      "| First|      Last|               Email|Gender|Last IP Address|       City|State|Total Orders|Total Purchased|Months Customer|\n",
      "+------+----------+--------------------+------+---------------+-----------+-----+------------+---------------+---------------+\n",
      "|    Al|    Fresco|  afresco@dayrep.com|     M|  74.111.18.161|   Syracuse|   NY|           1|             45|              1|\n",
      "|  Abby|      Kuss|     akuss@rhyta.com|     F|  23.80.125.101|    Phoenix|   AZ|           1|             25|              2|\n",
      "| Arial|     Photo|   aphoto@dayrep.com|     F|     24.0.14.56|     Newark|   NJ|           1|            680|              1|\n",
      "| Bette|     Alott|    balott@rhyta.com|     F| 56.216.127.219|    Raleigh|   NC|           6|            560|             18|\n",
      "| Barb |    Barion|bbarion@superrito...|     F|   38.68.15.223|     Dallas|   TX|           4|           1590|              1|\n",
      "| Barry|DeHatchett|bdehatchett@dayre...|     M|  23.192.215.78|     Boston|   MA|           1|             15|              6|\n",
      "|  Bill|   Melator| bmelator@einrot.com|     M|   24.11.125.10|       Orem|   UT|           9|           6090|             35|\n",
      "| Candi|     Cayne|    ccayne@rhyta.com|     F|    24.39.14.15|   Portland|   ME|           1|            620|              2|\n",
      "| Carol|      Ling| cling@superrito.com|     F|  23.180.242.66|   Syracuse|   NY|           2|            440|              6|\n",
      "|   Cam|       Rha|     crha@einrot.com|     M|    24.1.25.140|    Chicago|   IL|           0|              0|              1|\n",
      "|   Dan|   Delyons| ddelyons@dayrep.com|     M|  24.38.224.161|  Greenwich|   CT|           2|           2570|             10|\n",
      "|  Erin|   Detyers| edetyers@dayrep.com|     F|   70.209.14.54|      Tampa|   FL|           5|           1105|             38|\n",
      "| Euron| Tasomthin|etasomthin@superr...|     M|  68.199.40.156|  Hempstead|   NY|          13|           4630|             28|\n",
      "|Justin|      Case|    jcase@dayrep.com|     M|  23.192.215.44|     Boston|   MA|           3|           1050|              1|\n",
      "|  Jean|     Poole|   jpoole@dayrep.com|     F|   23.182.25.40|   Kingston|   NY|           7|            185|             12|\n",
      "|   Lee|  Hvmeehom|lhvmeehom@einrot.com|     F|    215.82.23.2|   Columbus|   OH|           9|            207|             18|\n",
      "|  Lisa|Karfurless|lkarfurless@dayre...|     F|  172.189.252.8|    Fairfax|   VA|           6|            250|             27|\n",
      "|  Mary|   Melator|  mmelator@rhyta.com|     F|     23.88.15.5|Los Angeles|   CA|           8|           4275|             40|\n",
      "|  Mike|    Rofone|  mrofone@dayrep.com|     M|   23.224.160.4|   Cheyenne|   WY|           0|              0|              0|\n",
      "|  Oren|   Jouglad| ojouglad@einrot.com|     M|128.122.140.238|   New York|   NY|          12|           4500|             36|\n",
      "+------+----------+--------------------+------+---------------+-----------+-----+------------+---------------+---------------+\n",
      "only showing top 20 rows\n",
      "\n"
     ]
    }
   ],
   "source": [
    "# let's get some file to shove into elastic\n",
    "df = spark.read.csv(\"/home/jovyan/datasets/customers/customers.csv\", header=True, inferSchema=True)\n",
    "df.show()"
   ]
  },
  {
   "cell_type": "markdown",
   "id": "79dc80db-bea7-4c8f-88a0-a21adf875746",
   "metadata": {},
   "source": [
    "## Geocoding\n",
    "\n",
    "To use a map in Kibana our data must contain geopoints.We will use a python library to help."
   ]
  },
  {
   "cell_type": "code",
   "execution_count": 77,
   "id": "20cd6d98-a834-43a7-a355-46d194672838",
   "metadata": {},
   "outputs": [],
   "source": [
    "!pip install -q  geocoder"
   ]
  },
  {
   "cell_type": "code",
   "execution_count": 78,
   "id": "ae0e5138-94b6-42ab-a7ab-c19232cf0901",
   "metadata": {},
   "outputs": [
    {
     "data": {
      "text/plain": [
       "[37.4056, -122.0775]"
      ]
     },
     "execution_count": 78,
     "metadata": {},
     "output_type": "execute_result"
    }
   ],
   "source": [
    "import geocoder\n",
    "def geoiplookup(ipaddress) ->list :\n",
    "    geo =  geocoder.ip(ipaddress).latlng\n",
    "    #return  {'lat' : geo[0], 'lon' : geo[1] }\n",
    "    return geo\n",
    "\n",
    "def geoiplookup_lat(ipaddress):\n",
    "    geo =  geocoder.ip(ipaddress).latlng\n",
    "    #return  {'lat' : geo[0], 'lon' : geo[1] }\n",
    "    return geo[0]\n",
    "\n",
    "def geoiplookup_lon(ipaddress):\n",
    "    geo =  geocoder.ip(ipaddress).latlng\n",
    "    #return  {'lat' : geo[0], 'lon' : geo[1] }\n",
    "    return geo[1]\n",
    "\n",
    "geoiplookup(\"8.8.8.8\")"
   ]
  },
  {
   "cell_type": "code",
   "execution_count": 79,
   "id": "b920624f-f2d9-4b73-b29c-ec55cd311870",
   "metadata": {},
   "outputs": [
    {
     "name": "stdout",
     "output_type": "stream",
     "text": [
      "root\n",
      " |-- First: string (nullable = true)\n",
      " |-- Last: string (nullable = true)\n",
      " |-- Email: string (nullable = true)\n",
      " |-- Gender: string (nullable = true)\n",
      " |-- Last IP Address: string (nullable = true)\n",
      " |-- City: string (nullable = true)\n",
      " |-- State: string (nullable = true)\n",
      " |-- Total Orders: integer (nullable = true)\n",
      " |-- Total Purchased: integer (nullable = true)\n",
      " |-- Months Customer: integer (nullable = true)\n",
      " |-- geolat: float (nullable = true)\n",
      " |-- geolon: float (nullable = true)\n",
      "\n"
     ]
    }
   ],
   "source": [
    "from pyspark.sql.functions import udf \n",
    "\n",
    "geoiplookup_lat_udf = udf(geoiplookup_lat)\n",
    "geoiplookup_lon_udf = udf(geoiplookup_lon)\n",
    "\n",
    "df = df.withColumn(\"geolat\",geoiplookup_lat_udf(\"Last IP Address\").cast(\"float\"))\n",
    "df = df.withColumn(\"geolon\",geoiplookup_lon_udf(\"Last IP Address\").cast(\"float\"))\n",
    "df.printSchema()"
   ]
  },
  {
   "cell_type": "code",
   "execution_count": 80,
   "id": "b893c23c-e0d4-4a71-a391-349c30154464",
   "metadata": {},
   "outputs": [
    {
     "name": "stderr",
     "output_type": "stream",
     "text": [
      "                                                                                \r"
     ]
    }
   ],
   "source": [
    "# write the file to the \"customers\" index with type \"_doc\"\n",
    "df.write.format(\"es\").mode(\"overwrite\").save(\"customers/_doc\")"
   ]
  },
  {
   "cell_type": "code",
   "execution_count": 81,
   "id": "fc601e05-1042-4323-a30a-c5d3376c0165",
   "metadata": {},
   "outputs": [
    {
     "name": "stdout",
     "output_type": "stream",
     "text": [
      "+-----------+--------------------+------+------+----------+---------------+---------------+-----+------------+---------------+----+-------+---------+\n",
      "|       City|               Email| First|Gender|      Last|Last IP Address|Months Customer|State|Total Orders|Total Purchased| geo| geolat|   geolon|\n",
      "+-----------+--------------------+------+------+----------+---------------+---------------+-----+------------+---------------+----+-------+---------+\n",
      "|   Syracuse|  afresco@dayrep.com|    Al|     M|    Fresco|  74.111.18.161|              1|   NY|           1|             45|null|42.9317| -76.5661|\n",
      "|    Phoenix|     akuss@rhyta.com|  Abby|     F|      Kuss|  23.80.125.101|              2|   AZ|           1|             25|null|34.0522|-118.2437|\n",
      "|     Newark|   aphoto@dayrep.com| Arial|     F|     Photo|     24.0.14.56|              1|   NJ|           1|            680|null|40.5576| -74.2846|\n",
      "|    Raleigh|    balott@rhyta.com| Bette|     F|     Alott| 56.216.127.219|             18|   NC|           6|            560|null|35.7977| -78.6253|\n",
      "|     Dallas|bbarion@superrito...| Barb |     F|    Barion|   38.68.15.223|              1|   TX|           4|           1590|null|38.9014| -77.0504|\n",
      "|     Boston|bdehatchett@dayre...| Barry|     M|DeHatchett|  23.192.215.78|              6|   MA|           1|             15|null|47.6062|-122.3321|\n",
      "|       Orem| bmelator@einrot.com|  Bill|     M|   Melator|   24.11.125.10|             35|   UT|           9|           6090|null|40.6869|-111.8755|\n",
      "|   Portland|    ccayne@rhyta.com| Candi|     F|     Cayne|    24.39.14.15|              2|   ME|           1|            620|null|43.6253| -75.3671|\n",
      "|   Syracuse| cling@superrito.com| Carol|     F|      Ling|  23.180.242.66|              6|   NY|           2|            440|null|40.7143|  -74.006|\n",
      "|    Chicago|     crha@einrot.com|   Cam|     M|       Rha|    24.1.25.140|              1|   IL|           0|              0|null|  41.85|   -87.65|\n",
      "|  Greenwich| ddelyons@dayrep.com|   Dan|     M|   Delyons|  24.38.224.161|             10|   CT|           2|           2570|null|41.1792| -73.1894|\n",
      "|      Tampa| edetyers@dayrep.com|  Erin|     F|   Detyers|   70.209.14.54|             38|   FL|           5|           1105|null| 33.749|  -84.388|\n",
      "|  Hempstead|etasomthin@superr...| Euron|     M| Tasomthin|  68.199.40.156|             28|   NY|          13|           4630|null|40.3154| -74.2463|\n",
      "|     Boston|    jcase@dayrep.com|Justin|     M|      Case|  23.192.215.44|              1|   MA|           3|           1050|null|47.6062|-122.3321|\n",
      "|   Kingston|   jpoole@dayrep.com|  Jean|     F|     Poole|   23.182.25.40|             12|   NY|           7|            185|null|40.7143|  -74.006|\n",
      "|   Columbus|lhvmeehom@einrot.com|   Lee|     F|  Hvmeehom|    215.82.23.2|             18|   OH|           9|            207|null| 39.969| -83.0114|\n",
      "|    Fairfax|lkarfurless@dayre...|  Lisa|     F|Karfurless|  172.189.252.8|             27|   VA|           6|            250|null|37.7712|-122.4413|\n",
      "|Los Angeles|  mmelator@rhyta.com|  Mary|     F|   Melator|     23.88.15.5|             40|   CA|           8|           4275|null|50.4779|  12.3713|\n",
      "|   Cheyenne|  mrofone@dayrep.com|  Mike|     M|    Rofone|   23.224.160.4|              0|   WY|           0|              0|null|34.0522|-118.2437|\n",
      "|   New York| ojouglad@einrot.com|  Oren|     M|   Jouglad|128.122.140.238|             36|   NY|          12|           4500|null|40.7143|  -74.006|\n",
      "+-----------+--------------------+------+------+----------+---------------+---------------+-----+------------+---------------+----+-------+---------+\n",
      "only showing top 20 rows\n",
      "\n"
     ]
    }
   ],
   "source": [
    "# read the exact same data back out again\n",
    "df2 = spark.read.format(\"es\").load(\"customers/_doc\")\n",
    "df2.show()"
   ]
  },
  {
   "cell_type": "code",
   "execution_count": null,
   "id": "d793dfdf-70b1-4eb3-8889-c7962285a0db",
   "metadata": {},
   "outputs": [],
   "source": []
  }
 ],
 "metadata": {
  "kernelspec": {
   "display_name": "Python 3 (ipykernel)",
   "language": "python",
   "name": "python3"
  },
  "language_info": {
   "codemirror_mode": {
    "name": "ipython",
    "version": 3
   },
   "file_extension": ".py",
   "mimetype": "text/x-python",
   "name": "python",
   "nbconvert_exporter": "python",
   "pygments_lexer": "ipython3",
   "version": "3.9.6"
  }
 },
 "nbformat": 4,
 "nbformat_minor": 5
}
