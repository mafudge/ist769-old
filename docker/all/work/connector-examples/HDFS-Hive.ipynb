{
 "cells": [
  {
   "cell_type": "code",
   "execution_count": 1,
   "id": "c1115b7e-088e-4acb-b43e-c60f05687dc9",
   "metadata": {},
   "outputs": [],
   "source": [
    "import pyspark\n",
    "from pyspark.sql import SparkSession"
   ]
  },
  {
   "cell_type": "code",
   "execution_count": 2,
   "id": "ac4ad9bf-2f64-4a26-97ab-ed618e7ca294",
   "metadata": {},
   "outputs": [
    {
     "name": "stderr",
     "output_type": "stream",
     "text": [
      "Warning: Ignoring non-Spark config property: hive.metastore.uris\n",
      "WARNING: An illegal reflective access operation has occurred\n",
      "WARNING: Illegal reflective access by org.apache.spark.unsafe.Platform (file:/usr/local/spark-3.1.2-bin-hadoop3.2/jars/spark-unsafe_2.12-3.1.2.jar) to constructor java.nio.DirectByteBuffer(long,int)\n",
      "WARNING: Please consider reporting this to the maintainers of org.apache.spark.unsafe.Platform\n",
      "WARNING: Use --illegal-access=warn to enable warnings of further illegal reflective access operations\n",
      "WARNING: All illegal access operations will be denied in a future release\n",
      "21/12/08 18:16:11 WARN NativeCodeLoader: Unable to load native-hadoop library for your platform... using builtin-java classes where applicable\n",
      "Using Spark's default log4j profile: org/apache/spark/log4j-defaults.properties\n",
      "Setting default log level to \"WARN\".\n",
      "To adjust logging level use sc.setLogLevel(newLevel). For SparkR, use setLogLevel(newLevel).\n"
     ]
    }
   ],
   "source": [
    "spark = SparkSession \\\n",
    "    .builder \\\n",
    "    .master(\"local\") \\\n",
    "    .appName('jupyter-pyspark') \\\n",
    "        .config(\"hive.metastore.uris\", \"thrift://hive-metastore:9083\")\\\n",
    "        .enableHiveSupport()\\\n",
    "    .getOrCreate()\n",
    "sc = spark.sparkContext\n",
    "sc.setLogLevel(\"ERROR\")"
   ]
  },
  {
   "cell_type": "code",
   "execution_count": null,
   "id": "5bb07e2b-a1ff-4183-975f-21344eb71eed",
   "metadata": {},
   "outputs": [],
   "source": []
  },
  {
   "cell_type": "markdown",
   "id": "1c0cd409-2bb2-409a-a5b0-e9085575e849",
   "metadata": {},
   "source": [
    "# HDFS\n",
    "\n",
    "http://localhost:50070/  (Outside the docker environment)"
   ]
  },
  {
   "cell_type": "code",
   "execution_count": 3,
   "id": "2609ad72-3d0f-4e97-907c-9785ceb76fb2",
   "metadata": {},
   "outputs": [
    {
     "data": {
      "text/html": [
       "<div>\n",
       "<style scoped>\n",
       "    .dataframe tbody tr th:only-of-type {\n",
       "        vertical-align: middle;\n",
       "    }\n",
       "\n",
       "    .dataframe tbody tr th {\n",
       "        vertical-align: top;\n",
       "    }\n",
       "\n",
       "    .dataframe thead th {\n",
       "        text-align: right;\n",
       "    }\n",
       "</style>\n",
       "<table border=\"1\" class=\"dataframe\">\n",
       "  <thead>\n",
       "    <tr style=\"text-align: right;\">\n",
       "      <th></th>\n",
       "      <th>First</th>\n",
       "      <th>Last</th>\n",
       "      <th>Email</th>\n",
       "      <th>Gender</th>\n",
       "      <th>Last IP Address</th>\n",
       "      <th>City</th>\n",
       "      <th>State</th>\n",
       "      <th>Total Orders</th>\n",
       "      <th>Total Purchased</th>\n",
       "      <th>Months Customer</th>\n",
       "    </tr>\n",
       "  </thead>\n",
       "  <tbody>\n",
       "    <tr>\n",
       "      <th>0</th>\n",
       "      <td>Barb</td>\n",
       "      <td>Barion</td>\n",
       "      <td>bbarion@superrito.com</td>\n",
       "      <td>F</td>\n",
       "      <td>38.68.15.223</td>\n",
       "      <td>Dallas</td>\n",
       "      <td>TX</td>\n",
       "      <td>4</td>\n",
       "      <td>1590</td>\n",
       "      <td>1</td>\n",
       "    </tr>\n",
       "    <tr>\n",
       "      <th>1</th>\n",
       "      <td>Barry</td>\n",
       "      <td>DeHatchett</td>\n",
       "      <td>bdehatchett@dayrep.com</td>\n",
       "      <td>M</td>\n",
       "      <td>23.192.215.78</td>\n",
       "      <td>Boston</td>\n",
       "      <td>MA</td>\n",
       "      <td>1</td>\n",
       "      <td>15</td>\n",
       "      <td>6</td>\n",
       "    </tr>\n",
       "    <tr>\n",
       "      <th>2</th>\n",
       "      <td>Bill</td>\n",
       "      <td>Melator</td>\n",
       "      <td>bmelator@einrot.com</td>\n",
       "      <td>M</td>\n",
       "      <td>24.11.125.10</td>\n",
       "      <td>Orem</td>\n",
       "      <td>UT</td>\n",
       "      <td>9</td>\n",
       "      <td>6090</td>\n",
       "      <td>35</td>\n",
       "    </tr>\n",
       "    <tr>\n",
       "      <th>3</th>\n",
       "      <td>Candi</td>\n",
       "      <td>Cayne</td>\n",
       "      <td>ccayne@rhyta.com</td>\n",
       "      <td>F</td>\n",
       "      <td>24.39.14.15</td>\n",
       "      <td>Portland</td>\n",
       "      <td>ME</td>\n",
       "      <td>1</td>\n",
       "      <td>620</td>\n",
       "      <td>2</td>\n",
       "    </tr>\n",
       "    <tr>\n",
       "      <th>4</th>\n",
       "      <td>Justin</td>\n",
       "      <td>Case</td>\n",
       "      <td>jcase@dayrep.com</td>\n",
       "      <td>M</td>\n",
       "      <td>23.192.215.44</td>\n",
       "      <td>Boston</td>\n",
       "      <td>MA</td>\n",
       "      <td>3</td>\n",
       "      <td>1050</td>\n",
       "      <td>1</td>\n",
       "    </tr>\n",
       "    <tr>\n",
       "      <th>5</th>\n",
       "      <td>Lee</td>\n",
       "      <td>Hvmeehom</td>\n",
       "      <td>lhvmeehom@einrot.com</td>\n",
       "      <td>F</td>\n",
       "      <td>215.82.23.2</td>\n",
       "      <td>Columbus</td>\n",
       "      <td>OH</td>\n",
       "      <td>9</td>\n",
       "      <td>207</td>\n",
       "      <td>18</td>\n",
       "    </tr>\n",
       "    <tr>\n",
       "      <th>6</th>\n",
       "      <td>Rowan</td>\n",
       "      <td>Deboat</td>\n",
       "      <td>rdeboat@dayrep.com</td>\n",
       "      <td>M</td>\n",
       "      <td>23.84.32.22</td>\n",
       "      <td>Topeka</td>\n",
       "      <td>KS</td>\n",
       "      <td>1</td>\n",
       "      <td>3500</td>\n",
       "      <td>42</td>\n",
       "    </tr>\n",
       "    <tr>\n",
       "      <th>7</th>\n",
       "      <td>Ray</td>\n",
       "      <td>Ovlight</td>\n",
       "      <td>rovlight@dayrep.com</td>\n",
       "      <td>M</td>\n",
       "      <td>74.111.18.59</td>\n",
       "      <td>Syracuse</td>\n",
       "      <td>NY</td>\n",
       "      <td>6</td>\n",
       "      <td>125</td>\n",
       "      <td>42</td>\n",
       "    </tr>\n",
       "    <tr>\n",
       "      <th>8</th>\n",
       "      <td>Tim</td>\n",
       "      <td>Pani</td>\n",
       "      <td>tpani@superrito.com</td>\n",
       "      <td>M</td>\n",
       "      <td>23.84.132.226</td>\n",
       "      <td>Buffalo</td>\n",
       "      <td>NY</td>\n",
       "      <td>0</td>\n",
       "      <td>0</td>\n",
       "      <td>1</td>\n",
       "    </tr>\n",
       "  </tbody>\n",
       "</table>\n",
       "</div>"
      ],
      "text/plain": [
       "    First        Last                   Email Gender Last IP Address  \\\n",
       "0   Barb       Barion   bbarion@superrito.com      F    38.68.15.223   \n",
       "1   Barry  DeHatchett  bdehatchett@dayrep.com      M   23.192.215.78   \n",
       "2    Bill     Melator     bmelator@einrot.com      M    24.11.125.10   \n",
       "3   Candi       Cayne        ccayne@rhyta.com      F     24.39.14.15   \n",
       "4  Justin        Case        jcase@dayrep.com      M   23.192.215.44   \n",
       "5     Lee    Hvmeehom    lhvmeehom@einrot.com      F     215.82.23.2   \n",
       "6   Rowan      Deboat      rdeboat@dayrep.com      M     23.84.32.22   \n",
       "7     Ray     Ovlight     rovlight@dayrep.com      M    74.111.18.59   \n",
       "8     Tim        Pani     tpani@superrito.com      M   23.84.132.226   \n",
       "\n",
       "       City State Total Orders Total Purchased Months Customer  \n",
       "0    Dallas    TX            4            1590               1  \n",
       "1    Boston    MA            1              15               6  \n",
       "2      Orem    UT            9            6090              35  \n",
       "3  Portland    ME            1             620               2  \n",
       "4    Boston    MA            3            1050               1  \n",
       "5  Columbus    OH            9             207              18  \n",
       "6    Topeka    KS            1            3500              42  \n",
       "7  Syracuse    NY            6             125              42  \n",
       "8   Buffalo    NY            0               0               1  "
      ]
     },
     "execution_count": 3,
     "metadata": {},
     "output_type": "execute_result"
    }
   ],
   "source": [
    "# Read local\n",
    "df = spark.read.csv(\"/home/jovyan/datasets/customers/customers.csv\", header=True)\n",
    "df.sample(0.2).toPandas()"
   ]
  },
  {
   "cell_type": "code",
   "execution_count": 4,
   "id": "595affb9-4363-4db7-948e-6517989e865a",
   "metadata": {},
   "outputs": [
    {
     "name": "stderr",
     "output_type": "stream",
     "text": [
      "                                                                                \r"
     ]
    }
   ],
   "source": [
    "# Write to HDFS\n",
    "df.write.csv(\"webhdfs://namenode:50070/user/demo/customers/\")"
   ]
  },
  {
   "cell_type": "code",
   "execution_count": 5,
   "id": "072f4539-d7ce-437d-baea-f71fc18fc4a8",
   "metadata": {},
   "outputs": [
    {
     "name": "stdout",
     "output_type": "stream",
     "text": [
      "+------+----------+--------------------+---+---------------+-----------+---+---+----+---+\n",
      "|   _c0|       _c1|                 _c2|_c3|            _c4|        _c5|_c6|_c7| _c8|_c9|\n",
      "+------+----------+--------------------+---+---------------+-----------+---+---+----+---+\n",
      "|    Al|    Fresco|  afresco@dayrep.com|  M|  74.111.18.161|   Syracuse| NY|  1|  45|  1|\n",
      "|  Abby|      Kuss|     akuss@rhyta.com|  F|  23.80.125.101|    Phoenix| AZ|  1|  25|  2|\n",
      "| Arial|     Photo|   aphoto@dayrep.com|  F|     24.0.14.56|     Newark| NJ|  1| 680|  1|\n",
      "| Bette|     Alott|    balott@rhyta.com|  F| 56.216.127.219|    Raleigh| NC|  6| 560| 18|\n",
      "|  Barb|    Barion|bbarion@superrito...|  F|   38.68.15.223|     Dallas| TX|  4|1590|  1|\n",
      "| Barry|DeHatchett|bdehatchett@dayre...|  M|  23.192.215.78|     Boston| MA|  1|  15|  6|\n",
      "|  Bill|   Melator| bmelator@einrot.com|  M|   24.11.125.10|       Orem| UT|  9|6090| 35|\n",
      "| Candi|     Cayne|    ccayne@rhyta.com|  F|    24.39.14.15|   Portland| ME|  1| 620|  2|\n",
      "| Carol|      Ling| cling@superrito.com|  F|  23.180.242.66|   Syracuse| NY|  2| 440|  6|\n",
      "|   Cam|       Rha|     crha@einrot.com|  M|    24.1.25.140|    Chicago| IL|  0|   0|  1|\n",
      "|   Dan|   Delyons| ddelyons@dayrep.com|  M|  24.38.224.161|  Greenwich| CT|  2|2570| 10|\n",
      "|  Erin|   Detyers| edetyers@dayrep.com|  F|   70.209.14.54|      Tampa| FL|  5|1105| 38|\n",
      "| Euron| Tasomthin|etasomthin@superr...|  M|  68.199.40.156|  Hempstead| NY| 13|4630| 28|\n",
      "|Justin|      Case|    jcase@dayrep.com|  M|  23.192.215.44|     Boston| MA|  3|1050|  1|\n",
      "|  Jean|     Poole|   jpoole@dayrep.com|  F|   23.182.25.40|   Kingston| NY|  7| 185| 12|\n",
      "|   Lee|  Hvmeehom|lhvmeehom@einrot.com|  F|    215.82.23.2|   Columbus| OH|  9| 207| 18|\n",
      "|  Lisa|Karfurless|lkarfurless@dayre...|  F|  172.189.252.8|    Fairfax| VA|  6| 250| 27|\n",
      "|  Mary|   Melator|  mmelator@rhyta.com|  F|     23.88.15.5|Los Angeles| CA|  8|4275| 40|\n",
      "|  Mike|    Rofone|  mrofone@dayrep.com|  M|   23.224.160.4|   Cheyenne| WY|  0|   0|  0|\n",
      "|  Oren|   Jouglad| ojouglad@einrot.com|  M|128.122.140.238|   New York| NY| 12|4500| 36|\n",
      "+------+----------+--------------------+---+---------------+-----------+---+---+----+---+\n",
      "only showing top 20 rows\n",
      "\n"
     ]
    }
   ],
   "source": [
    "# Read back from HDFS\n",
    "spark.read.csv(\"webhdfs://namenode:50070/user/demo/customers/\", header=False).show()"
   ]
  },
  {
   "cell_type": "code",
   "execution_count": 8,
   "id": "712214e1-cf1e-4132-b6b5-61f91f6964d1",
   "metadata": {},
   "outputs": [],
   "source": [
    "# Upload to HDFS\n",
    "df = spark.read.options(inferSchema=True,delimiter='\\t').csv(\"/home/jovyan/datasets/grades/*.tsv\", header=False)\n",
    "df.write.options(inferSchema=True,delimiter='\\t').csv(\"webhdfs://namenode:50070/user/demo/grades/\")"
   ]
  },
  {
   "cell_type": "markdown",
   "id": "9313978e-74c2-4b47-920f-74dcfe3799ef",
   "metadata": {},
   "source": [
    "### HDFS API\n",
    "\n",
    "You can maniuplate HDFS with a REST API:  \n",
    "https://hadoop.apache.org/docs/r2.7.4/hadoop-project-dist/hadoop-hdfs/WebHDFS.html"
   ]
  },
  {
   "cell_type": "code",
   "execution_count": 22,
   "id": "a65e7de2-0fec-461a-92cd-4f1f54bc580e",
   "metadata": {},
   "outputs": [
    {
     "name": "stdout",
     "output_type": "stream",
     "text": [
      "HTTP/1.1 200 OK\n",
      "\u001b[1mCache-Control\u001b[0m: no-cache\n",
      "\u001b[1mExpires\u001b[0m: Wed, 08 Dec 2021 18:28:58 GMT\n",
      "\u001b[1mDate\u001b[0m: Wed, 08 Dec 2021 18:28:58 GMT\n",
      "\u001b[1mPragma\u001b[0m: no-cache\n",
      "\u001b[1mExpires\u001b[0m: Wed, 08 Dec 2021 18:28:58 GMT\n",
      "\u001b[1mDate\u001b[0m: Wed, 08 Dec 2021 18:28:58 GMT\n",
      "\u001b[1mPragma\u001b[0m: no-cache\n",
      "\u001b[1mContent-Type\u001b[0m: application/json\n",
      "\u001b[1mTransfer-Encoding\u001b[0m: chunked\n",
      "\u001b[1mServer\u001b[0m: Jetty(6.1.26)\n",
      "\n",
      "{\"FileStatuses\":{\"FileStatus\":[\n",
      "{\"accessTime\":0,\"blockSize\":0,\"childrenNum\":2,\"fileId\":16394,\"group\":\"supergroup\",\"length\":0,\"modificationTime\":1638987712433,\"owner\":\"jovyan\",\"pathSuffix\":\"demo\",\"permission\":\"755\",\"replication\":0,\"storagePolicy\":0,\"type\":\"DIRECTORY\"},\n",
      "{\"accessTime\":0,\"blockSize\":0,\"childrenNum\":1,\"fileId\":16388,\"group\":\"supergroup\",\"length\":0,\"modificationTime\":1638987350742,\"owner\":\"root\",\"pathSuffix\":\"hive\",\"permission\":\"755\",\"replication\":0,\"storagePolicy\":0,\"type\":\"DIRECTORY\"}\n",
      "]}}\n"
     ]
    }
   ],
   "source": [
    "# list folders in /user\n",
    "!curl -i  \"http://namenode:50070/webhdfs/v1/user?op=LISTSTATUS\""
   ]
  },
  {
   "cell_type": "markdown",
   "id": "eec7e6f2-5372-4c3e-8a29-cb185dadea57",
   "metadata": {},
   "source": [
    "## Python HDFS Module\n",
    "\n",
    "A Python (not spark) module for interacting with the HDFS filesystem\n",
    "\n",
    "https://hdfscli.readthedocs.io/en/latest/quickstart.html"
   ]
  },
  {
   "cell_type": "code",
   "execution_count": 27,
   "id": "be9c4564-2b09-472c-9378-a96f45073910",
   "metadata": {},
   "outputs": [],
   "source": [
    "!pip install -q hdfs"
   ]
  },
  {
   "cell_type": "code",
   "execution_count": 31,
   "id": "e153ae66-191a-4852-a974-ca50e6c2ac48",
   "metadata": {},
   "outputs": [
    {
     "data": {
      "text/plain": [
       "({'directoryCount': 3,\n",
       "  'fileCount': 2,\n",
       "  'length': 404,\n",
       "  'quota': -1,\n",
       "  'spaceConsumed': 1212,\n",
       "  'spaceQuota': -1},\n",
       " ['*.csv',\n",
       "  '*.tsv',\n",
       "  '_SUCCESS',\n",
       "  'part-00000-870587d4-c231-44d9-a4cb-03a4d2f4a476-c000.csv'])"
      ]
     },
     "execution_count": 31,
     "metadata": {},
     "output_type": "execute_result"
    }
   ],
   "source": [
    "from hdfs import InsecureClient\n",
    "client = InsecureClient('http://namenode:50070', user='root')\n",
    "client.content(\"/user/demo/grades/\"), client.list(\"/user/demo/grades/\")"
   ]
  },
  {
   "cell_type": "markdown",
   "id": "6fe245ce-fa4e-4c75-b6b4-7a73f3e2cda5",
   "metadata": {},
   "source": [
    "# Hive"
   ]
  },
  {
   "cell_type": "code",
   "execution_count": 9,
   "id": "cd970c8e-746f-41a8-8553-3d9b2e258cac",
   "metadata": {},
   "outputs": [
    {
     "name": "stdout",
     "output_type": "stream",
     "text": [
      "+--------+---------+-----------+\n",
      "|database|tableName|isTemporary|\n",
      "+--------+---------+-----------+\n",
      "+--------+---------+-----------+\n",
      "\n"
     ]
    }
   ],
   "source": [
    "spark.sql(\"show tables;\").show()"
   ]
  },
  {
   "cell_type": "markdown",
   "id": "567d87b9-1a02-4e27-b8b9-520a39db0f6f",
   "metadata": {},
   "source": [
    "## Internal Tables\n",
    "\n",
    "Internal tables are stored in `/user/hive/warehouse`"
   ]
  },
  {
   "cell_type": "code",
   "execution_count": 10,
   "id": "7b270147-b516-4f9b-bd41-e60dc48e42d8",
   "metadata": {},
   "outputs": [
    {
     "data": {
      "text/html": [
       "<div>\n",
       "<style scoped>\n",
       "    .dataframe tbody tr th:only-of-type {\n",
       "        vertical-align: middle;\n",
       "    }\n",
       "\n",
       "    .dataframe tbody tr th {\n",
       "        vertical-align: top;\n",
       "    }\n",
       "\n",
       "    .dataframe thead th {\n",
       "        text-align: right;\n",
       "    }\n",
       "</style>\n",
       "<table border=\"1\" class=\"dataframe\">\n",
       "  <thead>\n",
       "    <tr style=\"text-align: right;\">\n",
       "      <th></th>\n",
       "      <th>price</th>\n",
       "      <th>symbol</th>\n",
       "    </tr>\n",
       "  </thead>\n",
       "  <tbody>\n",
       "    <tr>\n",
       "      <th>0</th>\n",
       "      <td>126.82</td>\n",
       "      <td>AAPL</td>\n",
       "    </tr>\n",
       "    <tr>\n",
       "      <th>1</th>\n",
       "      <td>3098.12</td>\n",
       "      <td>AMZN</td>\n",
       "    </tr>\n",
       "    <tr>\n",
       "      <th>2</th>\n",
       "      <td>251.11</td>\n",
       "      <td>FB</td>\n",
       "    </tr>\n",
       "    <tr>\n",
       "      <th>3</th>\n",
       "      <td>1725.05</td>\n",
       "      <td>GOOG</td>\n",
       "    </tr>\n",
       "    <tr>\n",
       "      <th>4</th>\n",
       "      <td>128.39</td>\n",
       "      <td>IBM</td>\n",
       "    </tr>\n",
       "    <tr>\n",
       "      <th>5</th>\n",
       "      <td>212.55</td>\n",
       "      <td>MSFT</td>\n",
       "    </tr>\n",
       "    <tr>\n",
       "      <th>6</th>\n",
       "      <td>78.00</td>\n",
       "      <td>NET</td>\n",
       "    </tr>\n",
       "    <tr>\n",
       "      <th>7</th>\n",
       "      <td>497.00</td>\n",
       "      <td>NFLX</td>\n",
       "    </tr>\n",
       "    <tr>\n",
       "      <th>8</th>\n",
       "      <td>823.80</td>\n",
       "      <td>TSLA</td>\n",
       "    </tr>\n",
       "    <tr>\n",
       "      <th>9</th>\n",
       "      <td>45.11</td>\n",
       "      <td>TWTR</td>\n",
       "    </tr>\n",
       "  </tbody>\n",
       "</table>\n",
       "</div>"
      ],
      "text/plain": [
       "     price symbol\n",
       "0   126.82   AAPL\n",
       "1  3098.12   AMZN\n",
       "2   251.11     FB\n",
       "3  1725.05   GOOG\n",
       "4   128.39    IBM\n",
       "5   212.55   MSFT\n",
       "6    78.00    NET\n",
       "7   497.00   NFLX\n",
       "8   823.80   TSLA\n",
       "9    45.11   TWTR"
      ]
     },
     "execution_count": 10,
     "metadata": {},
     "output_type": "execute_result"
    }
   ],
   "source": [
    "# read Local Data\n",
    "df = spark.read.option(\"multiline\",\"true\").json(\"/home/jovyan/datasets/json-samples/stocks.json\")\n",
    "df.toPandas()"
   ]
  },
  {
   "cell_type": "code",
   "execution_count": 11,
   "id": "ca946bcd-0775-4374-ba9c-91bdbfa9d57c",
   "metadata": {},
   "outputs": [
    {
     "name": "stdout",
     "output_type": "stream",
     "text": [
      "+-------+------+\n",
      "|  price|symbol|\n",
      "+-------+------+\n",
      "| 126.82|  AAPL|\n",
      "|3098.12|  AMZN|\n",
      "| 251.11|    FB|\n",
      "|1725.05|  GOOG|\n",
      "| 128.39|   IBM|\n",
      "| 212.55|  MSFT|\n",
      "|   78.0|   NET|\n",
      "|  497.0|  NFLX|\n",
      "|  823.8|  TSLA|\n",
      "|  45.11|  TWTR|\n",
      "+-------+------+\n",
      "\n"
     ]
    }
   ],
   "source": [
    "# Hive Internal Table Bulk import\n",
    "\n",
    "spark.sql(\"DROP TABLE IF EXISTS default.stocks;\")\n",
    "df.createOrReplaceTempView(\"tmp_stocks\") \n",
    "spark.sql(\"\"\"\n",
    "CREATE TABLE IF NOT EXISTS default.stocks \n",
    "    AS select * from tmp_stocks\n",
    "\"\"\")\n",
    "spark.sql(\"select * from default.stocks\").show()"
   ]
  },
  {
   "cell_type": "code",
   "execution_count": 12,
   "id": "b8072d55-aa24-4f0d-b51d-f419d994ba57",
   "metadata": {},
   "outputs": [
    {
     "name": "stdout",
     "output_type": "stream",
     "text": [
      "+-------------+---------------+\n",
      "|department_id|department_name|\n",
      "+-------------+---------------+\n",
      "|          101|       Oncology|\n",
      "|          102|     Hematology|\n",
      "+-------------+---------------+\n",
      "\n"
     ]
    }
   ],
   "source": [
    "# Hive Internal Table create stuff.\n",
    "\n",
    "spark.sql(\"\"\"drop table if exists default.department\"\"\")\n",
    "spark.sql(\"\"\"CREATE TABLE default.department(\n",
    "department_id int ,\n",
    "department_name string\n",
    ")    \n",
    "\"\"\")\n",
    "spark.sql(\"\"\"\n",
    "INSERT INTO default.department values (101,\"Oncology\")    \n",
    "\"\"\")\n",
    "spark.sql(\"\"\"\n",
    "INSERT INTO default.department values (102,\"Hematology\")    \n",
    "\"\"\")\n",
    "spark.sql(\"SELECT * FROM default.department\").show()"
   ]
  },
  {
   "cell_type": "markdown",
   "id": "5bc62704-d20a-40a1-bdd1-e83d9997b52a",
   "metadata": {},
   "source": [
    "## External Tables\n",
    "\n",
    "External tables exist in the metastore only and point to an HDFS loocation"
   ]
  },
  {
   "cell_type": "code",
   "execution_count": 13,
   "id": "97f40b65-e735-4d7f-9461-dfcfff77597f",
   "metadata": {},
   "outputs": [
    {
     "name": "stdout",
     "output_type": "stream",
     "text": [
      "+---------+\n",
      "|namespace|\n",
      "+---------+\n",
      "|  default|\n",
      "|  ischool|\n",
      "+---------+\n",
      "\n"
     ]
    }
   ],
   "source": [
    "# Create a database\n",
    "spark.sql(\"CREATE DATABASE IF NOT EXISTS ischool\")\n",
    "spark.sql(\"show databases;\").show()"
   ]
  },
  {
   "cell_type": "code",
   "execution_count": 16,
   "id": "576ea0ef-e9f1-44eb-bd63-b5af485ba442",
   "metadata": {},
   "outputs": [
    {
     "name": "stdout",
     "output_type": "stream",
     "text": [
      "+----+--------+------+-------+-----+\n",
      "|year|semester|course|credits|grade|\n",
      "+----+--------+------+-------+-----+\n",
      "|2016|    Fall|IST346|      3|    A|\n",
      "|2016|    Fall|CHE111|      4|   A-|\n",
      "|2016|    Fall|PSY120|      3|   B+|\n",
      "|2016|    Fall|IST256|      3|    A|\n",
      "|2016|    Fall|ENG121|      3|   B+|\n",
      "|2015|    Fall|IST101|      1|    A|\n",
      "|2015|    Fall|IST195|      3|    A|\n",
      "|2015|    Fall|IST233|      3|   B+|\n",
      "|2015|    Fall|SOC101|      3|   A-|\n",
      "|2015|    Fall|MAT221|      3|    C|\n",
      "|2016|  Spring|GEO110|      3|   B+|\n",
      "|2016|  Spring|MAT222|      3|    A|\n",
      "|2016|  Spring|SOC121|      3|   C+|\n",
      "|2016|  Spring|BIO240|      3|   B-|\n",
      "|2017|  Spring|IST462|      3|    A|\n",
      "|2017|  Spring|MAT411|      3|    C|\n",
      "|2017|  Spring|SOC422|      3|   B-|\n",
      "|2017|  Spring|ENV201|      3|   A-|\n",
      "+----+--------+------+-------+-----+\n",
      "\n"
     ]
    }
   ],
   "source": [
    "# external table\n",
    "spark.sql(\"drop table if exists ischool.grades\")\n",
    "spark.sql(\"\"\"\n",
    "create external table ischool.grades (\n",
    "  year int,\n",
    "  semester string,\n",
    "  course string,\n",
    "  credits int,\n",
    "  grade string\n",
    ") \n",
    "row format delimited \n",
    "fields terminated by '\\t' \n",
    "location  'hdfs:///user/demo/grades/*.csv'\n",
    "\"\"\")\n",
    "spark.sql(\"select * from ischool.grades\").show()"
   ]
  },
  {
   "cell_type": "code",
   "execution_count": 17,
   "id": "58227012-39bb-4d3e-94d5-1d12d0f5b99b",
   "metadata": {},
   "outputs": [
    {
     "name": "stdout",
     "output_type": "stream",
     "text": [
      "+-------------+---------------+\n",
      "|department_id|department_name|\n",
      "+-------------+---------------+\n",
      "|          101|       Oncology|\n",
      "|          102|     Hematology|\n",
      "+-------------+---------------+\n",
      "\n"
     ]
    }
   ],
   "source": [
    "spark.sql(\"SELECT * FROM default.department\").show()"
   ]
  },
  {
   "cell_type": "code",
   "execution_count": 18,
   "id": "afceb098-a92e-411d-8a80-f795f8961818",
   "metadata": {},
   "outputs": [
    {
     "name": "stdout",
     "output_type": "stream",
     "text": [
      "+----+--------+------+-------+-----+\n",
      "|year|semester|course|credits|grade|\n",
      "+----+--------+------+-------+-----+\n",
      "|2016|    Fall|IST346|      3|    A|\n",
      "|2016|    Fall|CHE111|      4|   A-|\n",
      "|2016|    Fall|PSY120|      3|   B+|\n",
      "|2016|    Fall|IST256|      3|    A|\n",
      "|2016|    Fall|ENG121|      3|   B+|\n",
      "|2015|    Fall|IST101|      1|    A|\n",
      "|2015|    Fall|IST195|      3|    A|\n",
      "|2015|    Fall|IST233|      3|   B+|\n",
      "|2015|    Fall|SOC101|      3|   A-|\n",
      "|2015|    Fall|MAT221|      3|    C|\n",
      "|2016|  Spring|GEO110|      3|   B+|\n",
      "|2016|  Spring|MAT222|      3|    A|\n",
      "|2016|  Spring|SOC121|      3|   C+|\n",
      "|2016|  Spring|BIO240|      3|   B-|\n",
      "|2017|  Spring|IST462|      3|    A|\n",
      "|2017|  Spring|MAT411|      3|    C|\n",
      "|2017|  Spring|SOC422|      3|   B-|\n",
      "|2017|  Spring|ENV201|      3|   A-|\n",
      "+----+--------+------+-------+-----+\n",
      "\n"
     ]
    }
   ],
   "source": [
    "spark.sql(\"select * from ischool.grades\").show()"
   ]
  },
  {
   "cell_type": "code",
   "execution_count": null,
   "id": "a304ec13-2587-47a1-939d-6407970951fb",
   "metadata": {},
   "outputs": [],
   "source": []
  }
 ],
 "metadata": {
  "kernelspec": {
   "display_name": "Python 3 (ipykernel)",
   "language": "python",
   "name": "python3"
  },
  "language_info": {
   "codemirror_mode": {
    "name": "ipython",
    "version": 3
   },
   "file_extension": ".py",
   "mimetype": "text/x-python",
   "name": "python",
   "nbconvert_exporter": "python",
   "pygments_lexer": "ipython3",
   "version": "3.9.6"
  }
 },
 "nbformat": 4,
 "nbformat_minor": 5
}
