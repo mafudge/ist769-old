{
 "cells": [
  {
   "cell_type": "code",
   "execution_count": 1,
   "id": "d5229c2e-fc6b-4556-b7b1-92be88efecdc",
   "metadata": {},
   "outputs": [],
   "source": [
    "! sudo cp /home/jovyan/work/jar/spark-cassandra-connector-assembly-3.1.0-11-g53f24ce9.jar /usr/local/spark/jars/spark-cassandra-connector-assembly-3.1.0-11-g53f24ce9.jar"
   ]
  },
  {
   "cell_type": "code",
   "execution_count": 45,
   "id": "b553f052-3877-4de1-a69f-23ee12698499",
   "metadata": {},
   "outputs": [],
   "source": [
    "import pyspark\n",
    "from pyspark.sql import SparkSession"
   ]
  },
  {
   "cell_type": "code",
   "execution_count": 46,
   "id": "edc45ec8-0709-4bd2-acab-bca679fc5bf2",
   "metadata": {},
   "outputs": [],
   "source": [
    "#     .config(\"spark.sql.extensions\",\"com.datastax.spark.connector.CassandraSparkExtensions\") \\\n",
    "\n",
    "spark = SparkSession.builder \\\n",
    "    .master(\"local\") \\\n",
    "    .appName('jupyter-pyspark') \\\n",
    "    .config(\"spark.cassandra.connection.host\", \"cassandra0\") \\\n",
    "    .config(\"spark.sql.catalog.cassandra\", \"com.datastax.spark.connector.datasource.CassandraCatalog\") \\\n",
    "    .getOrCreate()\n",
    "sc = spark.sparkContext\n",
    "sc.setLogLevel(\"ERROR\")"
   ]
  },
  {
   "cell_type": "markdown",
   "id": "a40e972f-a7db-4b95-a20b-f652d5232da1",
   "metadata": {},
   "source": [
    "RUN THIS CSQL Code in CQLSH\n",
    "```\n",
    "CREATE KEYSPACE test WITH replication = {'class': 'SimpleStrategy', 'replication_factor': 1 };\n",
    "CREATE TABLE test.words (word text , count int, primary key (word) );\n",
    "INSERT INTO test.words(word, count) VALUES ('and', 50);\n",
    "```"
   ]
  },
  {
   "cell_type": "code",
   "execution_count": 47,
   "id": "132cb3ff-1c24-450e-96cf-5085de476797",
   "metadata": {},
   "outputs": [
    {
     "name": "stdout",
     "output_type": "stream",
     "text": [
      "+----+-----+\n",
      "|word|count|\n",
      "+----+-----+\n",
      "| and|   50|\n",
      "+----+-----+\n",
      "\n"
     ]
    }
   ],
   "source": [
    "# read table\n",
    "spark.read.format(\"org.apache.spark.sql.cassandra\")\\\n",
    "    .options(table=\"words\", keyspace=\"test\")\\\n",
    "    .load().show()"
   ]
  },
  {
   "cell_type": "code",
   "execution_count": 48,
   "id": "a726b9e5-ff57-420e-9ce7-5b6208082ff4",
   "metadata": {},
   "outputs": [
    {
     "name": "stdout",
     "output_type": "stream",
     "text": [
      "+----+-----+\n",
      "|word|count|\n",
      "+----+-----+\n",
      "| and|   50|\n",
      "+----+-----+\n",
      "\n"
     ]
    }
   ],
   "source": [
    "# another way to read a table\n",
    "spark.read.table(\"cassandra.test.words\").show()"
   ]
  },
  {
   "cell_type": "code",
   "execution_count": 49,
   "id": "ce93fe58-ff93-43c4-99a8-398689cee81e",
   "metadata": {},
   "outputs": [
    {
     "name": "stdout",
     "output_type": "stream",
     "text": [
      "+--------+-------------------+-------+-------+\n",
      "|hostname|        measured_on|cpu_pct|     os|\n",
      "+--------+-------------------+-------+-------+\n",
      "|    mars|2018-07-19 09:00:00|      5|windows|\n",
      "|  Saturn|2018-07-19 10:00:00|      5|windows|\n",
      "|   venus|2018-07-19 09:00:00|      5|    osx|\n",
      "+--------+-------------------+-------+-------+\n",
      "\n"
     ]
    }
   ],
   "source": [
    "# Spark doesn't care about cassandra constraints.\n",
    "spark.read.table(\"cassandra.demo.system_utilization\").filter(\"cpu_pct = 5\").show()"
   ]
  },
  {
   "cell_type": "code",
   "execution_count": 51,
   "id": "1e1fd907-879c-473d-98a3-8fe171632f61",
   "metadata": {},
   "outputs": [
    {
     "name": "stdout",
     "output_type": "stream",
     "text": [
      "+-------------+--------------------+-----+---------+-------------+--------------------+--------+\n",
      "|  Date / Time|                City|State|    Shape|     Duration|             Summary|  Posted|\n",
      "+-------------+--------------------+-----+---------+-------------+--------------------+--------+\n",
      "|2/29/16 23:45|        Harbor Beach|   MI|    Light|     1 minute|Yellow/white ball...|3/4/2016|\n",
      "|2/29/16 23:30|           Sebastian|   FL| Triangle|20-40 minutes|6 low flying craf...|3/4/2016|\n",
      "|2/29/16 23:00|Salunga/Landisvil...|   PA| Triangle| 5-15 minutes|Pennsylvania tria...|3/4/2016|\n",
      "|2/29/16 22:00|                York|   PA| Triangle|   30 minutes|Myself and 2 frie...|3/4/2016|\n",
      "|2/29/16 21:35|              Joliet|   IL|  Unknown|   10 minutes|At approximately ...|3/4/2016|\n",
      "|2/29/16 20:45|  Port Hope (Canada)|   ON|    Light|   20 minutes|Strange glowing l...|3/4/2016|\n",
      "|2/29/16 20:29|       Warner Robins|   GA| Fireball|    2 minutes|There were severa...|3/4/2016|\n",
      "|2/29/16 19:50|              Athens|   GA|    Other|  Few seconds|Object with a lin...|3/4/2016|\n",
      "|2/29/16 19:30|             Clinton|   MO|  Unknown|   20 minutes|Orange low level ...|3/4/2016|\n",
      "|2/29/16 19:20|              Stover|   MO|Formation|    5 minutes|At least 6 orange...|3/4/2016|\n",
      "+-------------+--------------------+-----+---------+-------------+--------------------+--------+\n",
      "only showing top 10 rows\n",
      "\n",
      "root\n",
      " |-- Date / Time: string (nullable = true)\n",
      " |-- City: string (nullable = true)\n",
      " |-- State: string (nullable = true)\n",
      " |-- Shape: string (nullable = true)\n",
      " |-- Duration: string (nullable = true)\n",
      " |-- Summary: string (nullable = true)\n",
      " |-- Posted: string (nullable = true)\n",
      "\n"
     ]
    }
   ],
   "source": [
    "# read csv files....\n",
    "df = spark.read.csv(\"/home/jovyan/datasets/ufo-sightings/ufo-sightings-2016-*.csv\",header=True, inferSchema=True).cache()\n",
    "df.filter(\"State is not null\").show(10)\n",
    "df.printSchema()"
   ]
  },
  {
   "cell_type": "markdown",
   "id": "2c0f9922-2cd7-4890-aa89-bbef4eb5fec0",
   "metadata": {},
   "source": [
    "# CQL\n",
    "```\n",
    "create table ufos ( \n",
    "    \"Date / Time\" timestamp, \n",
    "    State text, \n",
    "    City text, \n",
    "    Duration text, \n",
    "    Posted date, \n",
    "    Shape text, Summary text, \n",
    "    primary key ( State, \"Date / Time\")\n",
    ");\n",
    "```"
   ]
  },
  {
   "cell_type": "code",
   "execution_count": 63,
   "id": "b3de7ec6-64e8-498d-bf86-25b47831f796",
   "metadata": {},
   "outputs": [],
   "source": [
    "# Save To Cassandra!!!\n",
    "\n",
    "# Make sure there are not nulls in the PK values!\n",
    "df2 = df.filter(\"State is not null\").filter(\"\\\"Date / Time\\\" is not null\")\n",
    "\n",
    "# Write to the cassandra table!\n",
    "df2.write.format(\"org.apache.spark.sql.cassandra\")\\\n",
    "    .mode('overwrite')\\\n",
    "    .option(\"confirm.truncate\",\"true\")\\\n",
    "    .options(table=\"ufos\", keyspace=\"test\")\\\n",
    "    .save()"
   ]
  },
  {
   "cell_type": "code",
   "execution_count": 64,
   "id": "1e132eef-f76e-46c6-bee9-44492d792343",
   "metadata": {},
   "outputs": [
    {
     "name": "stdout",
     "output_type": "stream",
     "text": [
      "+-----+-------------+--------------------+--------------------+---------+---------+--------------------+\n",
      "|State|  Date / Time|                City|            Duration|   Posted|    Shape|             Summary|\n",
      "+-----+-------------+--------------------+--------------------+---------+---------+--------------------+\n",
      "|   VT|1/20/16 19:00|    Norwich/Thetford|          10 minutes|1/23/2016|    Other|Trio of very brig...|\n",
      "|   VT|1/20/16 20:00|          Barre Town|          10 seconds|1/20/2016|   Circle|3 bright-warm yel...|\n",
      "|   VT| 3/3/16 20:30|        West Topsham|          10 minutes| 3/4/2016| Changing|Several orange li...|\n",
      "|   VT| 3/4/16 18:15|             Fairlee|           5 minutes|3/11/2016|     Oval|Three pairs of tw...|\n",
      "|   VT| 3/4/16 18:25|            Thetford|            1 minute|3/11/2016|    Light|Two circular ball...|\n",
      "|   CO| 1/1/16 00:15|            Longmont|                  20| 1/5/2016|  Diamond|4 or 5 red/orange...|\n",
      "|   CO|1/10/16 16:53|              Denver|        5-10 seconds|1/14/2016| Teardrop|Object had a tail...|\n",
      "|   CO|1/11/16 20:20|            Fountain|           2 minutes|1/14/2016|  Diamond|Craft hovers over...|\n",
      "|   CO|1/12/16 02:10|           Lafayette|          10 minutes|1/14/2016|  Unknown|The sky was pitch...|\n",
      "|   CO|1/12/16 14:00|Colorado Springs ...|           3 minutes|1/20/2016| Changing|Dark, elongated h...|\n",
      "|   CO|1/22/16 12:00|            Antinito|                null| 2/4/2016| Cylinder|Object discovered...|\n",
      "|   CO|1/24/16 18:00|            Loveland|          15 minutes|1/29/2016|Formation|My husband called...|\n",
      "|   CO|1/26/16 01:26|              Denver|             Ongoing|1/29/2016|  Unknown|Is anyone else se...|\n",
      "|   CO|1/27/16 17:33|            Florence|           5 seconds| 4/1/2016|   Circle|Yellow/orange sph...|\n",
      "|   CO|1/28/16 23:35|           Littleton|                 .01|1/29/2016|   Circle|To fast and irreg...|\n",
      "|   CO| 1/3/16 19:20|          Broomfield|            1 minute| 1/5/2016|Formation|Group of 7 red or...|\n",
      "|   CO| 1/9/16 08:30|              Pueblo|         2-5 minutes|1/14/2016|    Light|Two bright red li...|\n",
      "|   CO|2/11/16 03:45|            La Junta|          30 minutes|3/11/2016| Fireball|Flying object sho...|\n",
      "|   CO|2/13/16 22:00|                Erie|         2-5 seconds|2/19/2016| Triangle|5-6 objects flyin...|\n",
      "|   CO|2/17/16 18:05|          Rocky Ford|          40 minutes|     null|  Unknown|Strange Lights Da...|\n",
      "|   CO|2/17/16 19:00|             Greeley|           5 minutes|2/19/2016| Fireball|2 orange glowing ...|\n",
      "|   CO|2/19/16 19:45|              Pueblo|            1 minute|2/26/2016|   Sphere|Group of 6-7 red-...|\n",
      "|   CO|2/21/16 06:50|              Arvada|           5 minutes|2/26/2016|   Circle|Small balls of li...|\n",
      "|   CO|2/27/16 06:00|              Creede|           2 minutes| 3/4/2016|   Sphere|Two spheres, brig...|\n",
      "|   CO|2/27/16 20:05|        Fort Collins|           2 minutes| 3/4/2016|    Other|Dark red object f...|\n",
      "|   CO|2/28/16 03:48|         Westminster|         3-4 seconds| 3/4/2016|  Chevron|Three white light...|\n",
      "|   CO|2/28/16 19:00|    Colorado Springs|          45 seconds| 3/4/2016|   Circle|   Read full report.|\n",
      "|   CO|2/29/16 00:00|            Thornton|           2 minutes| 3/4/2016| Fireball|2 orange fireball...|\n",
      "|   CO|2/29/16 18:00|              Parker|             3 hours| 3/4/2016|    Light|Lights flickered ...|\n",
      "|   CO| 2/4/16 18:30|             Greeley|          10 seconds|2/11/2016|  Unknown|I cannot believe ...|\n",
      "|   CO| 2/4/16 21:00|          Estes Park|           3 minutes|2/11/2016|     Oval|Bright light with...|\n",
      "|   CO| 2/4/16 23:00|    Colorado Springs|           3 minutes|2/11/2016|     Disk|Red fog in room, ...|\n",
      "|   CO| 2/5/16 20:35|    Colorado Springs|         2-3 minutes|2/11/2016|     Disk|Football-shaped s...|\n",
      "|   CO| 2/5/16 22:40|           Littleton|          10 minutes|2/11/2016|   Circle|2 flying objects ...|\n",
      "|   CO| 2/6/16 19:35|              Aurora|          30 seconds|2/11/2016| Fireball|A diamond on fire...|\n",
      "|   CO|3/12/16 01:12|             Greeley|         3-4 minutes|3/18/2016|   Circle|It was cloud cove...|\n",
      "|   CO|3/13/16 21:30|              Pueblo|      90-120 seconds|3/18/2016|Formation|3 big bright red ...|\n",
      "|   CO|3/16/16 21:00|              Denver|           3 minutes|3/18/2016|Formation|Orange lights in ...|\n",
      "|   CO|3/17/16 05:00|              Pueblo|          20 minutes|3/18/2016| Triangle|Amber colored lig...|\n",
      "|   CO|3/19/16 06:30|    Colorado Springs|          32 minutes| 4/1/2016| Changing|Thin light accomp...|\n",
      "|   CO|3/20/16 05:30|              Elbert|          10 minutes|3/24/2016|    Other|String of 5 Total...|\n",
      "|   CO|3/20/16 11:45|              Denver|           <1 minute|3/24/2016|    Cigar|Two white cigar s...|\n",
      "|   CO|3/21/16 21:26|              Denver|           7 minutes| 4/1/2016|   Circle|Two UFO craft sig...|\n",
      "|   CO|3/26/16 14:30|        Fort Collins|          24 seconds| 4/1/2016| Triangle|7500-9000ft this ...|\n",
      "|   CO|3/26/16 23:15|           Cedaredge|           5 minutes| 4/1/2016|    Flash|MULTIPLE INTERMIT...|\n",
      "|   CO|3/28/16 06:30|    Glenwood Springs|           3 minutes| 4/1/2016|     Disk|Sighting disk obj...|\n",
      "|   CO|3/29/16 14:30|        Denver Metro|        5-10 minutes| 4/1/2016|    Light|It was partially ...|\n",
      "|   CO|3/29/16 15:30|              Aurora|       20-30 seconds|4/15/2016| Triangle|5-7 white triangl...|\n",
      "|   CO| 3/3/16 20:00|              LaVeta|              1 hour| 3/4/2016|    Other|USAF craft chasin...|\n",
      "|   CO| 3/7/16 09:24|             Boulder|           5 minutes|3/11/2016|    Light|Stationary glowin...|\n",
      "|   CO| 3/8/16 22:46|   Steamboat Springs|           4 seconds|3/11/2016|    Light|Glowing reddish a...|\n",
      "|   CO| 3/9/16 09:00|          Broomfield|          10 minutes|3/11/2016|  Unknown|((HOAX?))Plane li...|\n",
      "|   CO| 3/9/16 23:30|            Morrison|             Seconds|3/11/2016|  Diamond|Kite/diamond-shap...|\n",
      "|   CO|4/13/16 11:00|Lascar (I-25; MM 62)|             2 hours|4/15/2016|   Sphere|Two beach ball si...|\n",
      "|   CO|4/24/16 02:30|         Ft. Collins|            1 minute|4/29/2016| Fireball|Orange Fireball a...|\n",
      "|   CO|4/26/16 03:30|            Sterling|          30 seconds|4/29/2016| Fireball|2 red fireball sh...|\n",
      "|   CO| 4/3/16 00:30|               Grant|          30 minutes|4/15/2016|    Light|Flashes of light ...|\n",
      "|   CO| 4/4/16 21:00|            Florence|           3 minutes|4/22/2016|     Disk|Gray, disk shaped...|\n",
      "|   CO| 5/1/16 23:40|             Greeley|              1 hour| 5/6/2016| Triangle|We saw 3 white/or...|\n",
      "|   CO|5/13/16 23:20|      Grand Junction|           2 minutes|5/20/2016|   Sphere|Bright red sphere...|\n",
      "|   CO|5/19/16 21:00|              Denver|          indefinite|5/26/2016|    Light|Strange behavior ...|\n",
      "|   CO| 5/2/16 21:20|    Colorado Springs|       15-20 minutes| 5/6/2016|  Unknown|Multiple Color UF...|\n",
      "|   CO|5/21/16 21:15|              Pueblo|             Ongoing|5/26/2016| Triangle|Looking into the ...|\n",
      "|   CO|5/22/16 14:23|        Fort Collins|          20 minutes| 6/1/2016|     Oval|Freak lightning s...|\n",
      "|   CO|5/22/16 23:00|             Greeley|           2 minutes|5/26/2016| Triangle|Seen a tringle re...|\n",
      "|   CO|5/25/16 09:00|            Brighton|         3-5 minutes|5/26/2016|   Circle|3 white round obj...|\n",
      "|   CO|5/27/16 23:52|            Milliken|            1 minute| 6/1/2016| Fireball|Light orange/whit...|\n",
      "|   CO|5/28/16 22:25|              Aurora|          10 minutes| 6/1/2016|   Circle|Large light, chan...|\n",
      "|   CO| 5/3/16 21:14|               Evans|          15 seconds| 5/6/2016| Triangle|Transparent trian...|\n",
      "|   CO| 5/4/16 04:00|       Crested Butte|             2 hours| 5/6/2016|     Disk|Craziest UFO Siti...|\n",
      "|   CO| 5/5/16 22:30|         Westminster|           1 minute+| 5/6/2016|   Circle|Large orange glob...|\n",
      "|   CO| 5/7/16 03:20|           Telluride|          45 minutes|5/10/2016|  Unknown|Craft shone brigh...|\n",
      "|   CO| 5/7/16 22:40|              Arvada|                   ?|5/10/2016| Fireball|Orange fire low i...|\n",
      "|   CO| 5/9/16 22:11|             Greeley|             1 hour+|5/10/2016| Triangle|Watching a clear ...|\n",
      "|   CO| 5/9/16 22:40|             Greeley|          15 minutes|5/10/2016| Triangle|I just reported t...|\n",
      "|   ID| 1/2/16 20:00|            Meridian|           5 minutes| 1/5/2016|    Light|Orange amber orbs...|\n",
      "|   ID|1/31/16 20:57|           Sandpoint|          90 seconds| 2/4/2016| Fireball|Object came in fr...|\n",
      "|   ID| 1/8/16 23:40|            Meridian|           3 minutes|1/14/2016|  Unknown|Rapidly flashing ...|\n",
      "|   ID|2/10/16 05:20|            Lewiston|           6 minutes|2/11/2016|    Light|Moving satellite ...|\n",
      "|   ID|2/13/16 20:00|               Boise|           2 minutes|2/19/2016|     null|Red lights coming...|\n",
      "|   ID| 2/2/16 01:15|               Boise|           ~1 minute| 3/4/2016| Triangle|Dancing disc zig-...|\n",
      "|   ID| 2/2/16 20:15|               Boise|           3 minutes| 2/4/2016|    Light|Solitary Red Ligh...|\n",
      "|   ID|2/20/16 16:00|              Emmett|           4 minutes|2/26/2016|    Light|Diamond shaped li...|\n",
      "|   ID|2/23/16 20:00|            Meridian|            3 months|2/26/2016|   Circle|First time I saw ...|\n",
      "|   ID| 2/9/16 19:00|               Boise|          10 minutes|2/11/2016| Cylinder|I was walking my ...|\n",
      "|   ID| 3/8/16 00:01|            Lewiston|           5 minutes|3/11/2016|  Unknown|Object with wildl...|\n",
      "|   ID| 4/2/16 22:20|               Nampa|           7 minutes|4/15/2016|  Chevron|It was aware that...|\n",
      "|   ID|4/20/16 13:00|               Nampa|          30 minutes|4/22/2016|   Sphere|Witness bright sp...|\n",
      "|   ID| 4/3/16 20:00|          Post Falls|          15 minutes|4/15/2016|   Circle|\"Round light with...|\n",
      "|   ID| 4/8/16 10:15|          Post Falls|           6 minutes|4/15/2016|  Diamond|I'm a UFO believe...|\n",
      "|   ID| 4/9/16 21:15|        Priest River|          50 seconds|4/15/2016|    Other|I noticed a brigh...|\n",
      "|   ID|5/19/16 23:00|       Coeur d'Alene|          20 minutes|5/26/2016|   Circle|Two orange orbs o...|\n",
      "|   ID| 5/6/16 22:30|       Coeur d'Alene|            1 minute|5/10/2016|    Light|Quiet night on th...|\n",
      "|   AK| 1/1/16 00:00|           Anchorage|           5 minutes| 1/5/2016|   Circle|New Years yellow ...|\n",
      "|   AK|1/18/16 20:45|           Anchorage|           2 seconds|1/20/2016|    Light|Two separate brig...|\n",
      "|   AK|1/29/16 19:05|           Fairbanks|         5 minutes +| 2/4/2016|     null|19:05 Fairbanks, ...|\n",
      "|   AK|1/31/16 20:30|            Big Lake|          10 seconds| 2/4/2016|   Circle|Orange circle wit...|\n",
      "|   AK|2/10/16 16:00|              Palmer|                null|2/11/2016|    Light|2 star like light...|\n",
      "|   AK|2/13/16 09:38|              Palmer|Since i saw it th...|2/19/2016|    Light|The continuation ...|\n",
      "|   AK|2/16/16 06:45|             Kasilof|       10-15 seconds|2/19/2016|    Light|Unidentified bril...|\n",
      "+-----+-------------+--------------------+--------------------+---------+---------+--------------------+\n",
      "only showing top 100 rows\n",
      "\n"
     ]
    }
   ],
   "source": [
    "# read back from Cassandra !!!\n",
    "cdf = spark.read.table(\"cassandra.test.ufos\")\n",
    "cdf.show(100)"
   ]
  },
  {
   "cell_type": "code",
   "execution_count": null,
   "id": "abbc1b52-2673-472d-9591-6ecb81e7f122",
   "metadata": {},
   "outputs": [],
   "source": []
  }
 ],
 "metadata": {
  "kernelspec": {
   "display_name": "Python 3 (ipykernel)",
   "language": "python",
   "name": "python3"
  },
  "language_info": {
   "codemirror_mode": {
    "name": "ipython",
    "version": 3
   },
   "file_extension": ".py",
   "mimetype": "text/x-python",
   "name": "python",
   "nbconvert_exporter": "python",
   "pygments_lexer": "ipython3",
   "version": "3.9.6"
  }
 },
 "nbformat": 4,
 "nbformat_minor": 5
}
