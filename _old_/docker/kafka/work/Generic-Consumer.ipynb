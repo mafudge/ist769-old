{
 "cells": [
  {
   "cell_type": "code",
   "execution_count": 1,
   "id": "f7426494-cbff-4a47-b354-e18d290cae30",
   "metadata": {},
   "outputs": [
    {
     "name": "stdout",
     "output_type": "stream",
     "text": [
      "Requirement already satisfied: confluent-kafka in /opt/conda/lib/python3.9/site-packages (1.7.0)\n"
     ]
    }
   ],
   "source": [
    "!pip install confluent-kafka"
   ]
  },
  {
   "cell_type": "code",
   "execution_count": 18,
   "id": "4dabe53f-8475-4556-b219-69627d9cdf49",
   "metadata": {},
   "outputs": [
    {
     "name": "stdout",
     "output_type": "stream",
     "text": [
      "Received message: {\"Id\": 265945805841966307228983172832833048090, \"Location\": \"dewitt\", \"User\": \"karley\", \"TimeStamp\": 1636915375000, \"Amount\": 80, \"Status\": \"ok\"}\n",
      "Received message: {\"Id\": 223215253640184514068683766405204308983, \"Location\": \"dewitt\", \"User\": \"devin\", \"TimeStamp\": 1636915376000, \"Amount\": 20, \"Status\": \"ok\"}\n",
      "Received message: {\"Id\": 308571579467755525757014969310314255585, \"Location\": \"cicero\", \"User\": \"gigi\", \"TimeStamp\": 1636915386000, \"Amount\": 60, \"Status\": \"ok\"}\n",
      "Received message: {\"Id\": 51173305219925778609763820271108110489, \"Location\": \"dewitt\", \"User\": \"zeke\", \"TimeStamp\": 1636915390000, \"Amount\": 180, \"Status\": \"ok\"}\n",
      "Received message: {\"Id\": 245531630660131456661600447834320654115, \"Location\": \"dewitt\", \"User\": \"surah\", \"TimeStamp\": 1636915400000, \"Amount\": 100, \"Status\": \"ok\"}\n",
      "Received message: {\"Id\": 222604787059972440403352414008061829470, \"Location\": \"tully\", \"User\": \"rose\", \"TimeStamp\": 1636915410000, \"Amount\": 20, \"Status\": \"ok\"}\n",
      "Received message: {\"Id\": 60538284117223609166087854791616524077, \"Location\": \"syracuse\", \"User\": \"chris\", \"TimeStamp\": 1636915411000, \"Amount\": 40, \"Status\": \"ok\"}\n",
      "Received message: {\"Id\": 61842409915542972063715345932603658708, \"Location\": \"tully\", \"User\": \"karley\", \"TimeStamp\": 1636915416000, \"Amount\": 80, \"Status\": \"ok\"}\n",
      "Received message: {\"Id\": 233529868926741466956471869257061152598, \"Location\": \"syracuse\", \"User\": \"otto\", \"TimeStamp\": 1636915425000, \"Amount\": 120, \"Status\": \"ok\"}\n",
      "Received message: {\"Id\": 235016336936154844028420041036834476087, \"Location\": \"dewitt\", \"User\": \"devin\", \"TimeStamp\": 1636915428000, \"Amount\": 40, \"Status\": \"ok\"}\n",
      "Received message: {\"Id\": 166018776597601540412580607797230443386, \"Location\": \"dewitt\", \"User\": \"vaibhav\", \"TimeStamp\": 1636915429000, \"Amount\": 20, \"Status\": \"ok\"}\n",
      "Received message: {\"Id\": 116071256296574889725793477420217201423, \"Location\": \"syracuse\", \"User\": \"mike\", \"TimeStamp\": 1636915436000, \"Amount\": 80, \"Status\": \"ok\"}\n",
      "Received message: {\"Id\": 281007129288677706499459063167052298320, \"Location\": \"syracuse\", \"User\": \"surah\", \"TimeStamp\": 1636915439000, \"Amount\": 180, \"Status\": \"ok\"}\n",
      "Received message: {\"Id\": 160955858094662715128594580715240014965, \"Location\": \"syracuse\", \"User\": \"surah\", \"TimeStamp\": 1636915447000, \"Amount\": 140, \"Status\": \"ok\"}\n",
      "Received message: {\"Id\": 19403664518450459583037736278848870041, \"Location\": \"dewitt\", \"User\": \"fred\", \"TimeStamp\": 1636915454000, \"Amount\": 140, \"Status\": \"ok\"}\n",
      "Received message: {\"Id\": 53658735020951554039074166727913828997, \"Location\": \"syracuse\", \"User\": \"bob\", \"TimeStamp\": 1636915456000, \"Amount\": 80, \"Status\": \"ok\"}\n",
      "Received message: {\"Id\": 293874937447255233535368957208921601643, \"Location\": \"dewitt\", \"User\": \"vaibhav\", \"TimeStamp\": 1636915459000, \"Amount\": 140, \"Status\": \"ok\"}\n",
      "Received message: {\"Id\": 36629283763474232896368864741997128498, \"Location\": \"syracuse\", \"User\": \"chris\", \"TimeStamp\": 1636915460000, \"Amount\": 80, \"Status\": \"ok\"}\n",
      "Received message: {\"Id\": 254783640182321947545914748933024584774, \"Location\": \"dewitt\", \"User\": \"rose\", \"TimeStamp\": 1636915462000, \"Amount\": 180, \"Status\": \"ok\"}\n",
      "Received message: {\"Id\": 302400956483987551087314747411896021158, \"Location\": \"dewitt\", \"User\": \"gigi\", \"TimeStamp\": 1636915465000, \"Amount\": 40, \"Status\": \"ok\"}\n",
      "Received message: {\"Id\": 311477862268493801268408908715253939463, \"Location\": \"dewitt\", \"User\": \"devin\", \"TimeStamp\": 1636915467000, \"Amount\": 20, \"Status\": \"ok\"}\n",
      "Received message: {\"Id\": 139650068228596172390883439523789241919, \"Location\": \"syracuse\", \"User\": \"ida\", \"TimeStamp\": 1636915475000, \"Amount\": 40, \"Status\": \"ok\"}\n",
      "Received message: {\"Id\": 174339401593657993352824071922777894200, \"Location\": \"clay\", \"User\": \"chris\", \"TimeStamp\": 1636915482000, \"Amount\": 80, \"Status\": \"ok\"}\n",
      "Received message: {\"Id\": 73465182592467505032993107603176278593, \"Location\": \"tully\", \"User\": \"vaibhav\", \"TimeStamp\": 1636915489000, \"Amount\": 20, \"Status\": \"ok\"}\n",
      "Received message: {\"Id\": 260048346779086915070534179525772687249, \"Location\": \"clay\", \"User\": \"abby\", \"TimeStamp\": 1636915498000, \"Amount\": 180, \"Status\": \"ok\"}\n",
      "Received message: {\"Id\": 137070288396652613904858329648724066886, \"Location\": \"syracuse\", \"User\": \"chris\", \"TimeStamp\": 1636915507000, \"Amount\": 60, \"Status\": \"ok\"}\n",
      "Received message: {\"Id\": 114085973191293279080079090109754682122, \"Location\": \"syracuse\", \"User\": \"nancy\", \"TimeStamp\": 1636915515000, \"Amount\": 100, \"Status\": \"ok\"}\n",
      "Received message: {\"Id\": 53505526768793844641759909041081290337, \"Location\": \"dewitt\", \"User\": \"chris\", \"TimeStamp\": 1636915520000, \"Amount\": 20, \"Status\": \"ok\"}\n",
      "Received message: {\"Id\": 253382343329919394984441622131062850383, \"Location\": \"syracuse\", \"User\": \"xavier\", \"TimeStamp\": 1636915524000, \"Amount\": 20, \"Status\": \"ok\"}\n"
     ]
    }
   ],
   "source": [
    "import json\n",
    "from confluent_kafka import Consumer\n",
    "\n",
    "topic = \"atm\"\n",
    "consumer = Consumer({'bootstrap.servers' : 'broker:29092', 'group.id' : '*'})\n",
    "consumer.subscribe([topic])\n",
    "\n",
    "try:\n",
    "    while True:\n",
    "        msg = consumer.poll(1.0)\n",
    "\n",
    "        if msg is None:\n",
    "            continue\n",
    "        if msg.error():\n",
    "            print(f\"Consumer error: {msg.error()}\")\n",
    "            continue\n",
    "\n",
    "        payload = msg.value().decode('utf-8')\n",
    "        print(f\"Received message: {payload}\")\n",
    "except KeyboardInterrupt:\n",
    "    consumer.close()    \n",
    "    "
   ]
  },
  {
   "cell_type": "code",
   "execution_count": 2,
   "id": "2a5e012f-29dc-4412-99ca-a8bbda977602",
   "metadata": {},
   "outputs": [
    {
     "name": "stdout",
     "output_type": "stream",
     "text": [
      "Help on built-in function poll:\n",
      "\n",
      "poll(...) method of cimpl.Consumer instance\n",
      "    .. py:function:: poll([timeout=None])\n",
      "    \n",
      "    Consumes a single message, calls callbacks and returns events.\n",
      "    \n",
      "    The application must check the returned :py:class:`Message` object's :py:func:`Message.error()` method to distinguish between proper messages (error() returns None), or an event or error (see error().code() for specifics).\n",
      "    \n",
      "    .. note: Callbacks may be called from this method, such as ``on_assign``, ``on_revoke``, et.al.\n",
      "    \n",
      "    :param float timeout: Maximum time to block waiting for message, event or callback (default: infinite (None translated into -1 in the library)). (Seconds)\n",
      "    :returns: A Message object or None on timeout\n",
      "    :rtype: :py:class:`Message` or None\n",
      "    :raises: RuntimeError if called on a closed consumer\n",
      "\n"
     ]
    }
   ],
   "source": [
    "help(consumer.poll)\n"
   ]
  },
  {
   "cell_type": "code",
   "execution_count": 16,
   "id": "8e45a221-f2ee-4229-ba3d-764093e6dba4",
   "metadata": {},
   "outputs": [],
   "source": [
    "consumer.close()"
   ]
  },
  {
   "cell_type": "code",
   "execution_count": null,
   "id": "83decc48-bad9-499d-bbea-00e7b1747ff9",
   "metadata": {},
   "outputs": [],
   "source": []
  }
 ],
 "metadata": {
  "kernelspec": {
   "display_name": "Python 3 (ipykernel)",
   "language": "python",
   "name": "python3"
  },
  "language_info": {
   "codemirror_mode": {
    "name": "ipython",
    "version": 3
   },
   "file_extension": ".py",
   "mimetype": "text/x-python",
   "name": "python",
   "nbconvert_exporter": "python",
   "pygments_lexer": "ipython3",
   "version": "3.9.6"
  }
 },
 "nbformat": 4,
 "nbformat_minor": 5
}
