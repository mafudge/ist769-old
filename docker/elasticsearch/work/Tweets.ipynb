{
 "cells": [
  {
   "cell_type": "code",
   "execution_count": 1,
   "id": "ba1d61d6-fbff-4b7d-a7d4-90759fa0934e",
   "metadata": {},
   "outputs": [
    {
     "name": "stdout",
     "output_type": "stream",
     "text": [
      "http://es01:9200/tweets\n",
      "{'id': '713565632948895940', 'timestamp': time.struct_time(tm_year=2021, tm_mon=11, tm_mday=9, tm_hour=17, tm_min=16, tm_sec=24, tm_wday=1, tm_yday=313, tm_isdst=0), 'timestamp_format': '2021-11-09 17:16:24', 'date': '2021-11-09', 'time': '17:16:24', 'user': 'lkarforless', 'lat': 25.39, 'lon': -108.54, 'text': \"You're the best @fudgemart! A+ shipping!\", 'sentiment': 'positive', 'mentions': ['@fudgemart!'], 'hashtags': []}\n"
     ]
    }
   ],
   "source": [
    "from simtweet import generateRandomTweet\n",
    "import requests\n",
    "from time import sleep\n",
    "import random\n",
    "import json\n",
    "elastic = \"http://es01:9200\"\n",
    "index = \"tweets\"\n",
    "url = f\"{elastic}/{index}\"\n",
    "headers = { \"Content-Type\" : \"application/json\" }\n",
    "print(url)\n",
    "print(generateRandomTweet())"
   ]
  },
  {
   "cell_type": "markdown",
   "id": "5d150750-fe2a-40dc-8370-203c1cabe8e5",
   "metadata": {},
   "source": [
    "THIS CODE WILL RUN UNTIL USER PRESSES BREAK OR TWEET LIMIT IS HIT"
   ]
  },
  {
   "cell_type": "code",
   "execution_count": 3,
   "id": "53850cc5-fe17-4104-b2fd-a3ef6c56b836",
   "metadata": {},
   "outputs": [
    {
     "name": "stdout",
     "output_type": "stream",
     "text": [
      "curl -X POST http://es01:9200/tweets/_doc/2166845578794143256 -H 'Content-Type: application/json' \n",
      "\t-d '{\"id\": \"2166845578794143256\", \"timestamp\": [2021, 11, 9, 18, 43, 15, 1, 313, 0], \"timestamp_format\": \"2021-11-09 18:43:15\", \"date\": \"2021-11-09\", \"time\": \"18:43:15\", \"user\": \"rdeboat\", \"lat\": 33.39, \"lon\": -90.55, \"text\": \"How many books can you read? Fudgemart has a nice selection.\", \"sentiment\": \"positive\", \"mentions\": [], \"hashtags\": []}'\n",
      "curl -X POST http://es01:9200/tweets/_doc/3005342631210710238 -H 'Content-Type: application/json' \n",
      "\t-d '{\"id\": \"3005342631210710238\", \"timestamp\": [2021, 11, 9, 18, 43, 25, 1, 313, 0], \"timestamp_format\": \"2021-11-09 18:43:25\", \"date\": \"2021-11-09\", \"time\": \"18:43:25\", \"user\": \"otyme\", \"lat\": 30.39, \"lon\": -87.57, \"text\": \"Glad I bought my books from @fudgemart\", \"sentiment\": \"positive\", \"mentions\": [\"@fudgemart\"], \"hashtags\": []}'\n",
      "curl -X POST http://es01:9200/tweets/_doc/971959455515709224 -H 'Content-Type: application/json' \n",
      "\t-d '{\"id\": \"971959455515709224\", \"timestamp\": [2021, 11, 9, 18, 43, 31, 1, 313, 0], \"timestamp_format\": \"2021-11-09 18:43:31\", \"date\": \"2021-11-09\", \"time\": \"18:43:31\", \"user\": \"afirenzergon\", \"lat\": 41.38, \"lon\": -73.48, \"text\": \"Do you enjoy books? Try @fudgemart.\", \"sentiment\": \"positive\", \"mentions\": [\"@fudgemart.\"], \"hashtags\": []}'\n",
      "curl -X POST http://es01:9200/tweets/_doc/231910973507317895 -H 'Content-Type: application/json' \n",
      "\t-d '{\"id\": \"231910973507317895\", \"timestamp\": [2021, 11, 9, 18, 43, 32, 1, 313, 0], \"timestamp_format\": \"2021-11-09 18:43:32\", \"date\": \"2021-11-09\", \"time\": \"18:43:32\", \"user\": \"edetyers\", \"lat\": 38.39, \"lon\": -86.76, \"text\": \"I love you, @fudgemart\", \"sentiment\": \"positive\", \"mentions\": [\"@fudgemart\"], \"hashtags\": []}'\n",
      "curl -X POST http://es01:9200/tweets/_doc/3433363230507583420 -H 'Content-Type: application/json' \n",
      "\t-d '{\"id\": \"3433363230507583420\", \"timestamp\": [2021, 11, 9, 18, 43, 39, 1, 313, 0], \"timestamp_format\": \"2021-11-09 18:43:39\", \"date\": \"2021-11-09\", \"time\": \"18:43:39\", \"user\": \"gtofwind\", \"lat\": 34.38, \"lon\": -109.58, \"text\": \"Who uses the fudgemart website\", \"sentiment\": \"neutral\", \"mentions\": [], \"hashtags\": []}'\n",
      "curl -X POST http://es01:9200/tweets/_doc/1318868615120994533 -H 'Content-Type: application/json' \n",
      "\t-d '{\"id\": \"1318868615120994533\", \"timestamp\": [2021, 11, 9, 18, 43, 40, 1, 313, 0], \"timestamp_format\": \"2021-11-09 18:43:40\", \"date\": \"2021-11-09\", \"time\": \"18:43:40\", \"user\": \"lkarforless\", \"lat\": 25.39, \"lon\": -108.54, \"text\": \"Happy I bought my books from @fudgemart\", \"sentiment\": \"positive\", \"mentions\": [\"@fudgemart\"], \"hashtags\": []}'\n",
      "curl -X POST http://es01:9200/tweets/_doc/597693884442045369 -H 'Content-Type: application/json' \n",
      "\t-d '{\"id\": \"597693884442045369\", \"timestamp\": [2021, 11, 9, 18, 43, 41, 1, 313, 0], \"timestamp_format\": \"2021-11-09 18:43:41\", \"date\": \"2021-11-09\", \"time\": \"18:43:41\", \"user\": \"lkarforless\", \"lat\": 25.39, \"lon\": -108.54, \"text\": \"There are new digital downloads on #fudgemart\", \"sentiment\": \"neutral\", \"mentions\": [], \"hashtags\": [\"#fudgemart\"]}'\n",
      "curl -X POST http://es01:9200/tweets/_doc/1937984259063826683 -H 'Content-Type: application/json' \n",
      "\t-d '{\"id\": \"1937984259063826683\", \"timestamp\": [2021, 11, 9, 18, 43, 44, 1, 313, 0], \"timestamp_format\": \"2021-11-09 18:43:44\", \"date\": \"2021-11-09\", \"time\": \"18:43:44\", \"user\": \"gtofwind\", \"lat\": 34.38, \"lon\": -109.58, \"text\": \"Hey #fudgemart, why is your support so bad? #angry\", \"sentiment\": \"negative\", \"mentions\": [], \"hashtags\": [\"#fudgemart,\", \"#angry\"]}'\n",
      "curl -X POST http://es01:9200/tweets/_doc/3981350989341193683 -H 'Content-Type: application/json' \n",
      "\t-d '{\"id\": \"3981350989341193683\", \"timestamp\": [2021, 11, 9, 18, 43, 50, 1, 313, 0], \"timestamp_format\": \"2021-11-09 18:43:50\", \"date\": \"2021-11-09\", \"time\": \"18:43:50\", \"user\": \"rdeboat\", \"lat\": 33.39, \"lon\": -90.55, \"text\": \"Fudgemart's digital downloads is lacking titles!\", \"sentiment\": \"negative\", \"mentions\": [], \"hashtags\": []}'\n",
      "curl -X POST http://es01:9200/tweets/_doc/3764367627005047729 -H 'Content-Type: application/json' \n",
      "\t-d '{\"id\": \"3764367627005047729\", \"timestamp\": [2021, 11, 9, 18, 43, 51, 1, 313, 0], \"timestamp_format\": \"2021-11-09 18:43:51\", \"date\": \"2021-11-09\", \"time\": \"18:43:51\", \"user\": \"otyme\", \"lat\": 30.39, \"lon\": -87.57, \"text\": \"What's not to like? They have everything.\", \"sentiment\": \"positive\", \"mentions\": [], \"hashtags\": []}'\n",
      "curl -X POST http://es01:9200/tweets/_doc/1263004900635360439 -H 'Content-Type: application/json' \n",
      "\t-d '{\"id\": \"1263004900635360439\", \"timestamp\": [2021, 11, 9, 18, 43, 57, 1, 313, 0], \"timestamp_format\": \"2021-11-09 18:43:57\", \"date\": \"2021-11-09\", \"time\": \"18:43:57\", \"user\": \"mitdowne\", \"lat\": 43.38, \"lon\": -72.48, \"text\": \"likewise, @fudgemart\", \"sentiment\": \"neutral\", \"mentions\": [\"@fudgemart\"], \"hashtags\": []}'\n",
      "curl -X POST http://es01:9200/tweets/_doc/2786187255340623125 -H 'Content-Type: application/json' \n",
      "\t-d '{\"id\": \"2786187255340623125\", \"timestamp\": [2021, 11, 9, 18, 44, 3, 1, 313, 0], \"timestamp_format\": \"2021-11-09 18:44:03\", \"date\": \"2021-11-09\", \"time\": \"18:44:03\", \"user\": \"gtofwind\", \"lat\": 34.38, \"lon\": -109.58, \"text\": \"Why is #customer support so bad at @fudgemart? #frustrated.\", \"sentiment\": \"negative\", \"mentions\": [\"@fudgemart?\"], \"hashtags\": [\"#customer\", \"#frustrated.\"]}'\n",
      "curl -X POST http://es01:9200/tweets/_doc/69637461398406529 -H 'Content-Type: application/json' \n",
      "\t-d '{\"id\": \"69637461398406529\", \"timestamp\": [2021, 11, 9, 18, 44, 10, 1, 313, 0], \"timestamp_format\": \"2021-11-09 18:44:10\", \"date\": \"2021-11-09\", \"time\": \"18:44:10\", \"user\": \"iquitten\", \"lat\": 38.38, \"lon\": -95.51, \"text\": \"likewise, @fudgemart\", \"sentiment\": \"neutral\", \"mentions\": [\"@fudgemart\"], \"hashtags\": []}'\n",
      "curl -X POST http://es01:9200/tweets/_doc/2643055071108078178 -H 'Content-Type: application/json' \n",
      "\t-d '{\"id\": \"2643055071108078178\", \"timestamp\": [2021, 11, 9, 18, 44, 11, 1, 313, 0], \"timestamp_format\": \"2021-11-09 18:44:11\", \"date\": \"2021-11-09\", \"time\": \"18:44:11\", \"user\": \"cpayne\", \"lat\": 34.39, \"lon\": -83.74, \"text\": \"Happy I bought my electronics from @fudgemart\", \"sentiment\": \"positive\", \"mentions\": [\"@fudgemart\"], \"hashtags\": []}'\n",
      "curl -X POST http://es01:9200/tweets/_doc/338857945966707185 -H 'Content-Type: application/json' \n",
      "\t-d '{\"id\": \"338857945966707185\", \"timestamp\": [2021, 11, 9, 18, 44, 20, 1, 313, 0], \"timestamp_format\": \"2021-11-09 18:44:20\", \"date\": \"2021-11-09\", \"time\": \"18:44:20\", \"user\": \"ojouglad\", \"lat\": 33.39, \"lon\": -93.48, \"text\": \"Do you enjoy books? Try @fudgemart.\", \"sentiment\": \"positive\", \"mentions\": [\"@fudgemart.\"], \"hashtags\": []}'\n",
      "curl -X POST http://es01:9200/tweets/_doc/1318345296307531876 -H 'Content-Type: application/json' \n",
      "\t-d '{\"id\": \"1318345296307531876\", \"timestamp\": [2021, 11, 9, 18, 44, 30, 1, 313, 0], \"timestamp_format\": \"2021-11-09 18:44:30\", \"date\": \"2021-11-09\", \"time\": \"18:44:30\", \"user\": \"edetyers\", \"lat\": 38.39, \"lon\": -86.76, \"text\": \"Happy I bought my jewelry from @fudgemart\", \"sentiment\": \"positive\", \"mentions\": [\"@fudgemart\"], \"hashtags\": []}'\n",
      "curl -X POST http://es01:9200/tweets/_doc/289378161932802611 -H 'Content-Type: application/json' \n",
      "\t-d '{\"id\": \"289378161932802611\", \"timestamp\": [2021, 11, 9, 18, 44, 32, 1, 313, 0], \"timestamp_format\": \"2021-11-09 18:44:32\", \"date\": \"2021-11-09\", \"time\": \"18:44:32\", \"user\": \"edetyers\", \"lat\": 38.39, \"lon\": -86.76, \"text\": \"Hey, @fudgemart. You've got products with benefits!\", \"sentiment\": \"positive\", \"mentions\": [\"@fudgemart.\"], \"hashtags\": []}'\n",
      "curl -X POST http://es01:9200/tweets/_doc/3797285159451993581 -H 'Content-Type: application/json' \n",
      "\t-d '{\"id\": \"3797285159451993581\", \"timestamp\": [2021, 11, 9, 18, 44, 39, 1, 313, 0], \"timestamp_format\": \"2021-11-09 18:44:39\", \"date\": \"2021-11-09\", \"time\": \"18:44:39\", \"user\": \"rdeboat\", \"lat\": 33.39, \"lon\": -90.55, \"text\": \"Why is #customer support so bad at @fudgemart? #frustrated.\", \"sentiment\": \"negative\", \"mentions\": [\"@fudgemart?\"], \"hashtags\": [\"#customer\", \"#frustrated.\"]}'\n",
      "curl -X POST http://es01:9200/tweets/_doc/806127688417148810 -H 'Content-Type: application/json' \n",
      "\t-d '{\"id\": \"806127688417148810\", \"timestamp\": [2021, 11, 9, 18, 44, 42, 1, 313, 0], \"timestamp_format\": \"2021-11-09 18:44:42\", \"date\": \"2021-11-09\", \"time\": \"18:44:42\", \"user\": \"meyezing\", \"lat\": 32.38, \"lon\": -92.7, \"text\": \"Shopping 4 books, electronics, and jewelry at #fudgemart.\", \"sentiment\": \"neutral\", \"mentions\": [], \"hashtags\": [\"#fudgemart.\"]}'\n",
      "curl -X POST http://es01:9200/tweets/_doc/2456845692979875657 -H 'Content-Type: application/json' \n",
      "\t-d '{\"id\": \"2456845692979875657\", \"timestamp\": [2021, 11, 9, 18, 44, 46, 1, 313, 0], \"timestamp_format\": \"2021-11-09 18:44:46\", \"date\": \"2021-11-09\", \"time\": \"18:44:46\", \"user\": \"meyezing\", \"lat\": 32.38, \"lon\": -92.7, \"text\": \"There are some new products on Fudgemart. #fudgemart\", \"sentiment\": \"neutral\", \"mentions\": [], \"hashtags\": [\"#fudgemart\"]}'\n",
      "curl -X POST http://es01:9200/tweets/_doc/1573042543576440669 -H 'Content-Type: application/json' \n",
      "\t-d '{\"id\": \"1573042543576440669\", \"timestamp\": [2021, 11, 9, 18, 44, 51, 1, 313, 0], \"timestamp_format\": \"2021-11-09 18:44:51\", \"date\": \"2021-11-09\", \"time\": \"18:44:51\", \"user\": \"gmoss\", \"lat\": 41.38, \"lon\": -97.52, \"text\": \"I'm really enjoying my new stuff from fudgemart\", \"sentiment\": \"positive\", \"mentions\": [], \"hashtags\": []}'\n",
      "curl -X POST http://es01:9200/tweets/_doc/4548670000238592036 -H 'Content-Type: application/json' \n",
      "\t-d '{\"id\": \"4548670000238592036\", \"timestamp\": [2021, 11, 9, 18, 44, 54, 1, 313, 0], \"timestamp_format\": \"2021-11-09 18:44:54\", \"date\": \"2021-11-09\", \"time\": \"18:44:54\", \"user\": \"sbeeches\", \"lat\": 29.39, \"lon\": -99.68, \"text\": \"Came home to a big smile my #fudgemart package arrived.\", \"sentiment\": \"positive\", \"mentions\": [], \"hashtags\": [\"#fudgemart\"]}'\n",
      "curl -X POST http://es01:9200/tweets/_doc/873310586969073097 -H 'Content-Type: application/json' \n",
      "\t-d '{\"id\": \"873310586969073097\", \"timestamp\": [2021, 11, 9, 18, 44, 59, 1, 313, 0], \"timestamp_format\": \"2021-11-09 18:44:59\", \"date\": \"2021-11-09\", \"time\": \"18:44:59\", \"user\": \"tpani\", \"lat\": 27.38, \"lon\": -82.64, \"text\": \"Fudgemart just is.\", \"sentiment\": \"neutral\", \"mentions\": [], \"hashtags\": []}'\n",
      "curl -X POST http://es01:9200/tweets/_doc/2905354725032048290 -H 'Content-Type: application/json' \n",
      "\t-d '{\"id\": \"2905354725032048290\", \"timestamp\": [2021, 11, 9, 18, 45, 8, 1, 313, 0], \"timestamp_format\": \"2021-11-09 18:45:08\", \"date\": \"2021-11-09\", \"time\": \"18:45:08\", \"user\": \"gtofwind\", \"lat\": 34.38, \"lon\": -109.58, \"text\": \"Worst purchase ever: digital downloads at @fudgemart.\", \"sentiment\": \"negative\", \"mentions\": [\"@fudgemart.\"], \"hashtags\": []}'\n",
      "curl -X POST http://es01:9200/tweets/_doc/3416112061344739186 -H 'Content-Type: application/json' \n",
      "\t-d '{\"id\": \"3416112061344739186\", \"timestamp\": [2021, 11, 9, 18, 45, 11, 1, 313, 0], \"timestamp_format\": \"2021-11-09 18:45:11\", \"date\": \"2021-11-09\", \"time\": \"18:45:11\", \"user\": \"jtyme\", \"lat\": 40.39, \"lon\": -74.83, \"text\": \"Really enjoying my jewelry purchase from @fudgemart\", \"sentiment\": \"positive\", \"mentions\": [\"@fudgemart\"], \"hashtags\": []}'\n"
     ]
    }
   ],
   "source": [
    "tweet_limit = 25\n",
    "min_delay = 1\n",
    "max_delay = 10\n",
    "\n",
    "for i in range(tweet_limit):\n",
    "    sleep(random.randint(min_delay, max_delay))\n",
    "    tweet = generateRandomTweet()\n",
    "    endpoint = f\"{url}/_doc/{tweet['id']}\"\n",
    "    response = requests.post(endpoint, headers = headers, data = json.dumps(tweet))\n",
    "    response.raise_for_status()\n",
    "    print(f\"curl -X POST {endpoint} -H 'Content-Type: application/json' \\n\\t-d '{json.dumps(tweet)}'\")\n",
    "    "
   ]
  },
  {
   "cell_type": "code",
   "execution_count": null,
   "id": "7d3b6f9e-bdba-4abd-8cfd-0ca70ebf0556",
   "metadata": {},
   "outputs": [],
   "source": []
  }
 ],
 "metadata": {
  "kernelspec": {
   "display_name": "Python 3 (ipykernel)",
   "language": "python",
   "name": "python3"
  },
  "language_info": {
   "codemirror_mode": {
    "name": "ipython",
    "version": 3
   },
   "file_extension": ".py",
   "mimetype": "text/x-python",
   "name": "python",
   "nbconvert_exporter": "python",
   "pygments_lexer": "ipython3",
   "version": "3.9.6"
  }
 },
 "nbformat": 4,
 "nbformat_minor": 5
}
