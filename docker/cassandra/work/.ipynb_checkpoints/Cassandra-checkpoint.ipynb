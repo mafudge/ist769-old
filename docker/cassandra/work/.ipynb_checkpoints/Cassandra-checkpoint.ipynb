{
 "cells": [
  {
   "cell_type": "code",
   "execution_count": 1,
   "id": "d5229c2e-fc6b-4556-b7b1-92be88efecdc",
   "metadata": {},
   "outputs": [],
   "source": [
    "! sudo cp /home/jovyan/work/jar/spark-cassandra-connector-assembly-3.1.0-11-g53f24ce9.jar /usr/local/spark/jars/spark-cassandra-connector-assembly-3.1.0-11-g53f24ce9.jar"
   ]
  },
  {
   "cell_type": "code",
   "execution_count": 2,
   "id": "b553f052-3877-4de1-a69f-23ee12698499",
   "metadata": {},
   "outputs": [],
   "source": [
    "import pyspark\n",
    "from pyspark.sql import SparkSession"
   ]
  },
  {
   "cell_type": "code",
   "execution_count": 4,
   "id": "edc45ec8-0709-4bd2-acab-bca679fc5bf2",
   "metadata": {},
   "outputs": [
    {
     "name": "stderr",
     "output_type": "stream",
     "text": [
      "WARNING: An illegal reflective access operation has occurred\n",
      "WARNING: Illegal reflective access by org.apache.spark.unsafe.Platform (file:/usr/local/spark-3.1.2-bin-hadoop3.2/jars/spark-unsafe_2.12-3.1.2.jar) to constructor java.nio.DirectByteBuffer(long,int)\n",
      "WARNING: Please consider reporting this to the maintainers of org.apache.spark.unsafe.Platform\n",
      "WARNING: Use --illegal-access=warn to enable warnings of further illegal reflective access operations\n",
      "WARNING: All illegal access operations will be denied in a future release\n",
      "21/10/21 21:11:27 WARN NativeCodeLoader: Unable to load native-hadoop library for your platform... using builtin-java classes where applicable\n",
      "Using Spark's default log4j profile: org/apache/spark/log4j-defaults.properties\n",
      "Setting default log level to \"WARN\".\n",
      "To adjust logging level use sc.setLogLevel(newLevel). For SparkR, use setLogLevel(newLevel).\n"
     ]
    }
   ],
   "source": [
    "#     .config(\"spark.sql.extensions\",\"com.datastax.spark.connector.CassandraSparkExtensions\") \\\n",
    "\n",
    "spark = SparkSession.builder \\\n",
    "    .master(\"local\") \\\n",
    "    .appName('jupyter-pyspark') \\\n",
    "    .config(\"spark.cassandra.connection.host\", \"cassandra0\") \\\n",
    "    .config(\"spark.sql.catalog.cassandra\", \"com.datastax.spark.connector.datasource.CassandraCatalog\") \\\n",
    "    .getOrCreate()\n",
    "sc = spark.sparkContext\n",
    "sc.setLogLevel(\"ERROR\")"
   ]
  },
  {
   "cell_type": "markdown",
   "id": "a40e972f-a7db-4b95-a20b-f652d5232da1",
   "metadata": {},
   "source": [
    "RUN THIS CSQL Code in CQLSH\n",
    "```\n",
    "CREATE KEYSPACE test WITH replication = {'class': 'SimpleStrategy', 'replication_factor': 1 };\n",
    "CREATE TABLE test.words (word text , count int, primary key (word) );\n",
    "INSERT INTO test.words(word, count) VALUES ('and', 50);\n",
    "```"
   ]
  },
  {
   "cell_type": "code",
   "execution_count": 7,
   "id": "132cb3ff-1c24-450e-96cf-5085de476797",
   "metadata": {},
   "outputs": [
    {
     "name": "stderr",
     "output_type": "stream",
     "text": [
      "                                                                                \r"
     ]
    },
    {
     "name": "stdout",
     "output_type": "stream",
     "text": [
      "+----+-----+\n",
      "|word|count|\n",
      "+----+-----+\n",
      "| and|   50|\n",
      "|  or|   53|\n",
      "+----+-----+\n",
      "\n"
     ]
    },
    {
     "name": "stderr",
     "output_type": "stream",
     "text": [
      "                                                                                \r"
     ]
    }
   ],
   "source": [
    "# read table\n",
    "spark.read.format(\"org.apache.spark.sql.cassandra\")\\\n",
    "    .options(table=\"words\", keyspace=\"demo\")\\\n",
    "    .load().show()"
   ]
  },
  {
   "cell_type": "code",
   "execution_count": 48,
   "id": "a726b9e5-ff57-420e-9ce7-5b6208082ff4",
   "metadata": {},
   "outputs": [
    {
     "name": "stdout",
     "output_type": "stream",
     "text": [
      "+----+-----+\n",
      "|word|count|\n",
      "+----+-----+\n",
      "| and|   50|\n",
      "+----+-----+\n",
      "\n"
     ]
    }
   ],
   "source": [
    "# another way to read a table\n",
    "spark.read.table(\"cassandra.test.words\").show()"
   ]
  },
  {
   "cell_type": "code",
   "execution_count": 49,
   "id": "ce93fe58-ff93-43c4-99a8-398689cee81e",
   "metadata": {},
   "outputs": [
    {
     "name": "stdout",
     "output_type": "stream",
     "text": [
      "+--------+-------------------+-------+-------+\n",
      "|hostname|        measured_on|cpu_pct|     os|\n",
      "+--------+-------------------+-------+-------+\n",
      "|    mars|2018-07-19 09:00:00|      5|windows|\n",
      "|  Saturn|2018-07-19 10:00:00|      5|windows|\n",
      "|   venus|2018-07-19 09:00:00|      5|    osx|\n",
      "+--------+-------------------+-------+-------+\n",
      "\n"
     ]
    }
   ],
   "source": [
    "# Spark doesn't care about cassandra constraints.\n",
    "spark.read.table(\"cassandra.demo.system_utilization\").filter(\"cpu_pct = 5\").show()"
   ]
  },
  {
   "cell_type": "code",
   "execution_count": 8,
   "id": "1e1fd907-879c-473d-98a3-8fe171632f61",
   "metadata": {},
   "outputs": [
    {
     "name": "stdout",
     "output_type": "stream",
     "text": [
      "+-------------+--------------------+-----+---------+-------------+--------------------+--------+\n",
      "|  Date / Time|                City|State|    Shape|     Duration|             Summary|  Posted|\n",
      "+-------------+--------------------+-----+---------+-------------+--------------------+--------+\n",
      "|2/29/16 23:45|        Harbor Beach|   MI|    Light|     1 minute|Yellow/white ball...|3/4/2016|\n",
      "|2/29/16 23:30|           Sebastian|   FL| Triangle|20-40 minutes|6 low flying craf...|3/4/2016|\n",
      "|2/29/16 23:00|Salunga/Landisvil...|   PA| Triangle| 5-15 minutes|Pennsylvania tria...|3/4/2016|\n",
      "|2/29/16 22:00|                York|   PA| Triangle|   30 minutes|Myself and 2 frie...|3/4/2016|\n",
      "|2/29/16 21:35|              Joliet|   IL|  Unknown|   10 minutes|At approximately ...|3/4/2016|\n",
      "|2/29/16 20:45|  Port Hope (Canada)|   ON|    Light|   20 minutes|Strange glowing l...|3/4/2016|\n",
      "|2/29/16 20:29|       Warner Robins|   GA| Fireball|    2 minutes|There were severa...|3/4/2016|\n",
      "|2/29/16 19:50|              Athens|   GA|    Other|  Few seconds|Object with a lin...|3/4/2016|\n",
      "|2/29/16 19:30|             Clinton|   MO|  Unknown|   20 minutes|Orange low level ...|3/4/2016|\n",
      "|2/29/16 19:20|              Stover|   MO|Formation|    5 minutes|At least 6 orange...|3/4/2016|\n",
      "+-------------+--------------------+-----+---------+-------------+--------------------+--------+\n",
      "only showing top 10 rows\n",
      "\n",
      "root\n",
      " |-- Date / Time: string (nullable = true)\n",
      " |-- City: string (nullable = true)\n",
      " |-- State: string (nullable = true)\n",
      " |-- Shape: string (nullable = true)\n",
      " |-- Duration: string (nullable = true)\n",
      " |-- Summary: string (nullable = true)\n",
      " |-- Posted: string (nullable = true)\n",
      "\n"
     ]
    }
   ],
   "source": [
    "# read csv files....\n",
    "df = spark.read.csv(\"/home/jovyan/datasets/ufo-sightings/ufo-sightings-2016-*.csv\",header=True, inferSchema=True).cache()\n",
    "df.filter(\"State is not null\").show(10)\n",
    "df.printSchema()"
   ]
  },
  {
   "cell_type": "markdown",
   "id": "2c0f9922-2cd7-4890-aa89-bbef4eb5fec0",
   "metadata": {},
   "source": [
    "# CQL - not an ideal key selection, but this is just a demo\n",
    "```\n",
    "create table ufos ( \n",
    "    \"State\" text, \n",
    "    \"City\" text, \n",
    "    \"Duration\" text, \n",
    "    \"Shape\" text, \n",
    "    \"Summary\" text, \n",
    "    primary key ( \"State\", \"City\")\n",
    ");\n",
    "```"
   ]
  },
  {
   "cell_type": "code",
   "execution_count": 26,
   "id": "b3de7ec6-64e8-498d-bf86-25b47831f796",
   "metadata": {},
   "outputs": [],
   "source": [
    "# Save To Cassandra!!!\n",
    "\n",
    "# Make sure there are not nulls in the PK values!\n",
    "df2 = df.select(\"City\",\"State\",\"Duration\",\"Shape\", \"Summary\").filter(\"State is not null\").filter(\"City is not null\")\n",
    "\n",
    "# Write to the cassandra table!\n",
    "df2.write.format(\"org.apache.spark.sql.cassandra\")\\\n",
    "    .mode('overwrite')\\\n",
    "    .option(\"confirm.truncate\",\"true\")\\\n",
    "    .options(table=\"ufos\", keyspace=\"demo\")\\\n",
    "    .save()"
   ]
  },
  {
   "cell_type": "code",
   "execution_count": 27,
   "id": "1e132eef-f76e-46c6-bee9-44492d792343",
   "metadata": {},
   "outputs": [
    {
     "name": "stdout",
     "output_type": "stream",
     "text": [
      "+-----+--------------------+---------------+---------+--------------------+\n",
      "|State|                City|       Duration|    Shape|             Summary|\n",
      "+-----+--------------------+---------------+---------+--------------------+\n",
      "|   SK|Phalaborwa (South...|      5 minutes|     Cone|Strange light ove...|\n",
      "|   NC|               Arden|      5 minutes| Triangle|I witnessed one l...|\n",
      "|   NC|           Asheville|     90 seconds|  Unknown|UFO followed by JETS|\n",
      "|   NC|              Biscoe|        5 hours|    Light|I have seen this ...|\n",
      "|   NC|            Calabash|      3 seconds|    Flash|Bright, silvery o...|\n",
      "|   NC|             Candler|     10 minutes|   Sphere|Cluster of black ...|\n",
      "|   NC|      Carolina Beach|           5:00|    Other|Reddish-orange li...|\n",
      "|   NC|           Charlotte|   6-10 seconds|   Circle|Blue orb with aur...|\n",
      "|   NC|Charlotte (outsid...|     5 minutes+|    Other|Daytime sighting ...|\n",
      "|   NC|         Cherryville|     30 minutes|  Unknown|Loud horn-like no...|\n",
      "|   NC|            Columbus|        3 hours|    Other|I woke to use the...|\n",
      "|   NC|             Concord|     15 minutes| Triangle|V shape, bright w...|\n",
      "|   NC|           Cooleemee|      4 minutes|  Unknown|7 dark masses slo...|\n",
      "|   NC|              Durham|     20 seconds| Triangle|     Triangle craft.|\n",
      "|   NC|        Emerald Isle|     15 minutes|   Circle|Bright Red/green ...|\n",
      "|   NC|        Fayetteville|     10 minutes|Formation|Two objects flyin...|\n",
      "|   NC|           Four Oaks|     15 minutes|    Light|Strange yellow li...|\n",
      "|   NC|         Franklinton|     20 seconds| Fireball|Ball of fire fall...|\n",
      "|   NC|       Fuquay Varina|      3 minutes|    Other|Rectangular objec...|\n",
      "|   NC|              Graham| Still going on|    Light|My husband and I ...|\n",
      "|   NC|          Greensboro|     10 seconds| Triangle|Black trangular o...|\n",
      "|   NC|          Hayesville|     30 seconds| Fireball|Brilliant red obj...|\n",
      "|   NC|           Henderson|     45 seconds|    Other|Bright phenomenon...|\n",
      "|   NC|      Hendersonville|      2.5 hours|    Light|Very bright objec...|\n",
      "|   NC|            Hertford|        2 hours| Triangle|Large triangle of...|\n",
      "|   NC|          High Point|     10 seconds|     Disk|Disk oval shaped ...|\n",
      "|   NC|        Hurdle Mills|      4 minutes|  Diamond|Diamond-shaped ob...|\n",
      "|   NC|             Ivanhoe|     10 minutes| Triangle|An object with re...|\n",
      "|   NC|        Johnsonville|      3 minutes|   Circle|They were small b...|\n",
      "|   NC|        Kernersville|      5 minutes| Fireball|Orangish Red glow...|\n",
      "|   NC|    Kill Devil Hills|      6 minutes|    Light|Bright orange, ro...|\n",
      "|   NC|            Matthews|    3-5 minutes| Triangle|Pyramid formation...|\n",
      "|   NC|              Maxton|     10 seconds| Triangle|Small triangle, o...|\n",
      "|   NC|         Mill Spring|      5 minutes|    Cigar|Slim object with ...|\n",
      "|   NC|     Mineral Springs|     45 minutes|    Light|My wife and I sit...|\n",
      "|   NC|              Monroe|     15 minutes|    Other|I look up at the ...|\n",
      "|   NC|          Mount Airy|     15 seconds|    Light|((HOAX??)) Blue l...|\n",
      "|   NC|           Nags Head|     30 seconds|   Sphere|Orange red sphere...|\n",
      "|   NC|           Nashville|     20 minutes|    Light|\"\"\"Helicopter\"\" l...|\n",
      "|   NC|             Norwood|      3 minutes|   Sphere|(2)--Red orange s...|\n",
      "|   NC|          Oak Island|     30 minutes|    Light|Red-orange circul...|\n",
      "|   NC|    Ocean Isle Beach|    25+ minutes|    Light|\"6 \"\"Strobing\"\" L...|\n",
      "|   NC|                Otto|several minutes|    Light|Light in sky; dep...|\n",
      "|   NC|           Princeton|      5 minutes|   Circle|3 sets of red lig...|\n",
      "|   NC|             Raleigh|     20 minutes|    Light|Very bright light...|\n",
      "|   NC|           Red Cross|     60 seconds|    Cigar|I saw a thin whit...|\n",
      "|   NC|           Richlands|      3 minutes|   Circle|UFO with green ci...|\n",
      "|   NC|              Rosman|     20 minutes|    Light|I was sitting on ...|\n",
      "|   NC|          Smithfield|     15 minutes|  Unknown|Very large craft ...|\n",
      "|   NC|           Southmont|     90 seconds|    Cross|5 unidentified cr...|\n",
      "|   NC|         Statesville|        seconds|Rectangle|Object(s) spotted...|\n",
      "|   NC|         Summerfield|     10 seconds|    Flash|Fast bright silen...|\n",
      "|   NC|          Sunny View|      5 minutes|   Sphere|Witnessed stars m...|\n",
      "|   NC|          Walkertown|       1 minute| Triangle|((HOAX??)) Triang...|\n",
      "|   NC|          Wilmington|     90 seconds|  Unknown|Two unexplained f...|\n",
      "|   NC|       Winston-Salem|      5 minutes| Fireball|Very large fireco...|\n",
      "|   NC|Winston-Salem/Lex...|      5 minutes| Fireball|Six fireballs fly...|\n",
      "|   BC|Delta/Tsawwassen ...|   5-10 seconds|   Sphere|Blue-green sphere...|\n",
      "|   BC|Fort St. John (Ca...|     30 seconds|    Light|Flash of light a ...|\n",
      "|   BC|   Kamloops (Canada)|    1-2 minutes|  Unknown|Massive dome shap...|\n",
      "|   BC|    Langley (Canada)|        ~1 hour|    Light|Glimmering ball o...|\n",
      "|   BC|Maple Ridge (Canada)|      5 minutes|  Unknown|Sitting on my dec...|\n",
      "|   BC|     North Vancouver|             15|     Disk|We saw a giant si...|\n",
      "|   BC|North Vancouver (...|    1-2 minutes|     Disk|Giant mother ship...|\n",
      "|   BC|  Vancouver (Canada)|    3-5 minutes|   Sphere|Disc or spherical...|\n",
      "|   BC|Victoria (above)(...|     20 seconds|    Light|ZIG ZAGGING SATEL...|\n",
      "|   BC|Walnut Grove (Can...|      3 minutes|     Disk|2 discs glowing a...|\n",
      "|   CO|            Antinito|           null| Cylinder|Object discovered...|\n",
      "|   CO|              Arvada|              ?| Fireball|Orange fire low i...|\n",
      "|   CO|              Aurora|     10 minutes|   Circle|Large light, chan...|\n",
      "|   CO|             Boulder|      5 minutes|    Light|Stationary glowin...|\n",
      "|   CO|            Brighton|    3-5 minutes|   Circle|3 white round obj...|\n",
      "|   CO|          Broomfield|     10 minutes|  Unknown|((HOAX?))Plane li...|\n",
      "|   CO|           Cedaredge|      5 minutes|    Flash|MULTIPLE INTERMIT...|\n",
      "|   CO|    Colorado Springs|  15-20 minutes|  Unknown|Multiple Color UF...|\n",
      "|   CO|Colorado Springs ...|      3 minutes| Changing|Dark, elongated h...|\n",
      "|   CO|              Creede|      2 minutes|   Sphere|Two spheres, brig...|\n",
      "|   CO|       Crested Butte|        2 hours|     Disk|Craziest UFO Siti...|\n",
      "|   CO|              Denver|     indefinite|    Light|Strange behavior ...|\n",
      "|   CO|        Denver Metro|   5-10 minutes|    Light|It was partially ...|\n",
      "|   CO|              Elbert|     10 minutes|    Other|String of 5 Total...|\n",
      "|   CO|                Erie|    2-5 seconds| Triangle|5-6 objects flyin...|\n",
      "|   CO|          Estes Park|      3 minutes|     Oval|Bright light with...|\n",
      "|   CO|               Evans|     15 seconds| Triangle|Transparent trian...|\n",
      "|   CO|            Florence|      3 minutes|     Disk|Gray, disk shaped...|\n",
      "|   CO|        Fort Collins|     20 minutes|     Oval|Freak lightning s...|\n",
      "|   CO|            Fountain|      2 minutes|  Diamond|Craft hovers over...|\n",
      "|   CO|         Ft. Collins|       1 minute| Fireball|Orange Fireball a...|\n",
      "|   CO|    Glenwood Springs|      3 minutes|     Disk|Sighting disk obj...|\n",
      "|   CO|      Grand Junction|      2 minutes|   Sphere|Bright red sphere...|\n",
      "|   CO|               Grant|     30 minutes|    Light|Flashes of light ...|\n",
      "|   CO|             Greeley|     15 minutes| Triangle|We saw 3 white/or...|\n",
      "|   CO|            La Junta|     30 minutes| Fireball|Flying object sho...|\n",
      "|   CO|              LaVeta|         1 hour|    Other|USAF craft chasin...|\n",
      "|   CO|           Lafayette|     10 minutes|  Unknown|The sky was pitch...|\n",
      "|   CO|Lascar (I-25; MM 62)|        2 hours|   Sphere|Two beach ball si...|\n",
      "|   CO|           Littleton|     10 minutes|   Circle|To fast and irreg...|\n",
      "|   CO|            Longmont|             20|  Diamond|4 or 5 red/orange...|\n",
      "|   CO|            Loveland|     15 minutes|Formation|My husband called...|\n",
      "|   CO|            Milliken|       1 minute| Fireball|Light orange/whit...|\n",
      "+-----+--------------------+---------------+---------+--------------------+\n",
      "only showing top 100 rows\n",
      "\n"
     ]
    }
   ],
   "source": [
    "# read back from Cassandra !!!\n",
    "cdf = spark.read.table(\"cassandra.demo.ufos\")\n",
    "cdf.show(100)"
   ]
  },
  {
   "cell_type": "code",
   "execution_count": null,
   "id": "abbc1b52-2673-472d-9591-6ecb81e7f122",
   "metadata": {},
   "outputs": [],
   "source": []
  }
 ],
 "metadata": {
  "kernelspec": {
   "display_name": "Python 3 (ipykernel)",
   "language": "python",
   "name": "python3"
  },
  "language_info": {
   "codemirror_mode": {
    "name": "ipython",
    "version": 3
   },
   "file_extension": ".py",
   "mimetype": "text/x-python",
   "name": "python",
   "nbconvert_exporter": "python",
   "pygments_lexer": "ipython3",
   "version": "3.9.6"
  }
 },
 "nbformat": 4,
 "nbformat_minor": 5
}
