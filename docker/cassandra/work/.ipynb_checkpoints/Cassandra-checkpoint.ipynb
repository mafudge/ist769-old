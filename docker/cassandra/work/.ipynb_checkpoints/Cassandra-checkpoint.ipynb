{
 "cells": [
  {
   "cell_type": "code",
   "execution_count": 3,
   "id": "d5229c2e-fc6b-4556-b7b1-92be88efecdc",
   "metadata": {},
   "outputs": [],
   "source": [
    "! sudo cp /home/jovyan/work/jar/spark-cassandra-connector-assembly-3.1.0-11-g53f24ce9.jar /usr/local/spark/jars/spark-cassandra-connector-assembly-3.1.0-11-g53f24ce9.jar"
   ]
  },
  {
   "cell_type": "code",
   "execution_count": 4,
   "id": "b553f052-3877-4de1-a69f-23ee12698499",
   "metadata": {},
   "outputs": [],
   "source": [
    "import pyspark\n",
    "from pyspark.sql import SparkSession"
   ]
  },
  {
   "cell_type": "code",
   "execution_count": 5,
   "id": "edc45ec8-0709-4bd2-acab-bca679fc5bf2",
   "metadata": {},
   "outputs": [
    {
     "name": "stderr",
     "output_type": "stream",
     "text": [
      "WARNING: An illegal reflective access operation has occurred\n",
      "WARNING: Illegal reflective access by org.apache.spark.unsafe.Platform (file:/usr/local/spark-3.1.2-bin-hadoop3.2/jars/spark-unsafe_2.12-3.1.2.jar) to constructor java.nio.DirectByteBuffer(long,int)\n",
      "WARNING: Please consider reporting this to the maintainers of org.apache.spark.unsafe.Platform\n",
      "WARNING: Use --illegal-access=warn to enable warnings of further illegal reflective access operations\n",
      "WARNING: All illegal access operations will be denied in a future release\n",
      "21/09/24 19:18:48 WARN NativeCodeLoader: Unable to load native-hadoop library for your platform... using builtin-java classes where applicable\n",
      "Using Spark's default log4j profile: org/apache/spark/log4j-defaults.properties\n",
      "Setting default log level to \"WARN\".\n",
      "To adjust logging level use sc.setLogLevel(newLevel). For SparkR, use setLogLevel(newLevel).\n"
     ]
    }
   ],
   "source": [
    "#    .config(\"spark.sql.catalog.myCatalog\", \"com.datastax.spark.connector.datasource.CassandraCatalog\") \\\n",
    "#     .config(\"spark.sql.extensions\",\"com.datastax.spark.connector.CassandraSparkExtensions\") \\\n",
    "\n",
    "spark = SparkSession.builder \\\n",
    "    .master(\"local\") \\\n",
    "    .appName('jupyter-pyspark') \\\n",
    "    .config(\"spark.cassandra.connection.host\", \"cassandra0\") \\\n",
    "    .getOrCreate()\n",
    "sc = spark.sparkContext\n",
    "sc.setLogLevel(\"ERROR\")"
   ]
  },
  {
   "cell_type": "markdown",
   "id": "a40e972f-a7db-4b95-a20b-f652d5232da1",
   "metadata": {},
   "source": [
    "CSQL Code\n",
    "```\n",
    "CREATE KEYSPACE test WITH replication = {'class': 'SimpleStrategy', 'replication_factor': 1 };\n",
    "CREATE TABLE test.words (word text PRIMARY KEY, count int);\n",
    "INSERT INTO test.words(word, count) VALUES (\"and\", 50);\n",
    "```"
   ]
  },
  {
   "cell_type": "code",
   "execution_count": 6,
   "id": "132cb3ff-1c24-450e-96cf-5085de476797",
   "metadata": {},
   "outputs": [
    {
     "name": "stderr",
     "output_type": "stream",
     "text": [
      "                                                                                \r"
     ]
    },
    {
     "name": "stdout",
     "output_type": "stream",
     "text": [
      "+----+-----+\n",
      "|word|count|\n",
      "+----+-----+\n",
      "| and|   50|\n",
      "+----+-----+\n",
      "\n"
     ]
    },
    {
     "name": "stderr",
     "output_type": "stream",
     "text": [
      "                                                                                \r"
     ]
    }
   ],
   "source": [
    "spark.read.format(\"org.apache.spark.sql.cassandra\")\\\n",
    "    .options(table=\"words\", keyspace=\"test\")\\\n",
    "    .load().show()"
   ]
  },
  {
   "cell_type": "code",
   "execution_count": 6,
   "id": "a726b9e5-ff57-420e-9ce7-5b6208082ff4",
   "metadata": {},
   "outputs": [
    {
     "name": "stdout",
     "output_type": "stream",
     "text": [
      "+----+-----+\n",
      "|word|count|\n",
      "+----+-----+\n",
      "| and|   50|\n",
      "+----+-----+\n",
      "\n"
     ]
    },
    {
     "name": "stderr",
     "output_type": "stream",
     "text": [
      "                                                                                \r"
     ]
    }
   ],
   "source": [
    "spark.conf.set(\"spark.sql.catalog.cassandra\", \"com.datastax.spark.connector.datasource.CassandraCatalog\")\n",
    "spark.read.table(\"cassandra.test.words\").show()"
   ]
  },
  {
   "cell_type": "code",
   "execution_count": 12,
   "id": "1e1fd907-879c-473d-98a3-8fe171632f61",
   "metadata": {},
   "outputs": [
    {
     "name": "stdout",
     "output_type": "stream",
     "text": [
      "+-------------+--------------------+-----+--------+-------------+--------------------+--------+\n",
      "|  Date / Time|                City|State|   Shape|     Duration|             Summary|  Posted|\n",
      "+-------------+--------------------+-----+--------+-------------+--------------------+--------+\n",
      "|2/29/16 23:45|        Harbor Beach|   MI|   Light|     1 minute|Yellow/white ball...|3/4/2016|\n",
      "|2/29/16 23:30|           Sebastian|   FL|Triangle|20-40 minutes|6 low flying craf...|3/4/2016|\n",
      "|2/29/16 23:00|Salunga/Landisvil...|   PA|Triangle| 5-15 minutes|Pennsylvania tria...|3/4/2016|\n",
      "|2/29/16 22:00|                York|   PA|Triangle|   30 minutes|Myself and 2 frie...|3/4/2016|\n",
      "|2/29/16 21:35|              Joliet|   IL| Unknown|   10 minutes|At approximately ...|3/4/2016|\n",
      "|2/29/16 21:00|London (Buckingha...| null|Triangle|   45 minutes|Black triangle, n...|4/1/2016|\n",
      "|2/29/16 20:45|  Port Hope (Canada)|   ON|   Light|   20 minutes|Strange glowing l...|3/4/2016|\n",
      "|2/29/16 20:29|       Warner Robins|   GA|Fireball|    2 minutes|There were severa...|3/4/2016|\n",
      "|2/29/16 19:50|              Athens|   GA|   Other|  Few seconds|Object with a lin...|3/4/2016|\n",
      "|2/29/16 19:30|             Clinton|   MO| Unknown|   20 minutes|Orange low level ...|3/4/2016|\n",
      "+-------------+--------------------+-----+--------+-------------+--------------------+--------+\n",
      "only showing top 10 rows\n",
      "\n",
      "root\n",
      " |-- Date / Time: string (nullable = true)\n",
      " |-- City: string (nullable = true)\n",
      " |-- State: string (nullable = true)\n",
      " |-- Shape: string (nullable = true)\n",
      " |-- Duration: string (nullable = true)\n",
      " |-- Summary: string (nullable = true)\n",
      " |-- Posted: string (nullable = true)\n",
      "\n"
     ]
    }
   ],
   "source": [
    "# read csv files....\n",
    "df = spark.read.csv(\"/home/jovyan/datasets/ufo-sightings/*.csv\",header=True, inferSchema=True).cache()\n",
    "df.show(10)\n",
    "df.printSchema()"
   ]
  },
  {
   "cell_type": "code",
   "execution_count": 21,
   "id": "b3de7ec6-64e8-498d-bf86-25b47831f796",
   "metadata": {},
   "outputs": [],
   "source": [
    "# save to cassandra!\n",
    "df.filter(\"State is not null\").write.partitionBy(\"State\").saveAsTable(\"cassandra.test.ufos\")"
   ]
  },
  {
   "cell_type": "code",
   "execution_count": 23,
   "id": "1e132eef-f76e-46c6-bee9-44492d792343",
   "metadata": {},
   "outputs": [
    {
     "name": "stderr",
     "output_type": "stream",
     "text": [
      "                                                                                \r"
     ]
    },
    {
     "data": {
      "text/html": [
       "<div>\n",
       "<style scoped>\n",
       "    .dataframe tbody tr th:only-of-type {\n",
       "        vertical-align: middle;\n",
       "    }\n",
       "\n",
       "    .dataframe tbody tr th {\n",
       "        vertical-align: top;\n",
       "    }\n",
       "\n",
       "    .dataframe thead th {\n",
       "        text-align: right;\n",
       "    }\n",
       "</style>\n",
       "<table border=\"1\" class=\"dataframe\">\n",
       "  <thead>\n",
       "    <tr style=\"text-align: right;\">\n",
       "      <th></th>\n",
       "      <th>State</th>\n",
       "      <th>City</th>\n",
       "      <th>Date / Time</th>\n",
       "      <th>Duration</th>\n",
       "      <th>Posted</th>\n",
       "      <th>Shape</th>\n",
       "      <th>Summary</th>\n",
       "    </tr>\n",
       "  </thead>\n",
       "  <tbody>\n",
       "    <tr>\n",
       "      <th>0</th>\n",
       "      <td>MN</td>\n",
       "      <td>Scanlon</td>\n",
       "      <td>5/5/16 02:30</td>\n",
       "      <td>5 seconds</td>\n",
       "      <td>5/6/2016</td>\n",
       "      <td>Unknown</td>\n",
       "      <td>The &amp;quot;light&amp;quot; hovered and was being ap...</td>\n",
       "    </tr>\n",
       "    <tr>\n",
       "      <th>1</th>\n",
       "      <td>MA</td>\n",
       "      <td>Raynham</td>\n",
       "      <td>5/11/16 21:20</td>\n",
       "      <td>30 seconds</td>\n",
       "      <td>5/20/2016</td>\n",
       "      <td>Sphere</td>\n",
       "      <td>Three white lights in triangular formation flo...</td>\n",
       "    </tr>\n",
       "    <tr>\n",
       "      <th>2</th>\n",
       "      <td>LA</td>\n",
       "      <td>Slidell</td>\n",
       "      <td>5/9/16 19:25</td>\n",
       "      <td>None</td>\n",
       "      <td>5/20/2016</td>\n",
       "      <td>None</td>\n",
       "      <td>Sonic boom followed by unseen high altitude je...</td>\n",
       "    </tr>\n",
       "    <tr>\n",
       "      <th>3</th>\n",
       "      <td>BC</td>\n",
       "      <td>Walnut Grove (Canada)</td>\n",
       "      <td>5/2/16 08:20</td>\n",
       "      <td>~1 hour</td>\n",
       "      <td>5/6/2016</td>\n",
       "      <td>Sphere</td>\n",
       "      <td>Glimmering ball of light seen low on horizon. ...</td>\n",
       "    </tr>\n",
       "    <tr>\n",
       "      <th>4</th>\n",
       "      <td>IN</td>\n",
       "      <td>Noblesville</td>\n",
       "      <td>5/23/16 23:00</td>\n",
       "      <td>east</td>\n",
       "      <td>5/26/2016</td>\n",
       "      <td>Unknown</td>\n",
       "      <td>What looked like a car with 2 white headlights...</td>\n",
       "    </tr>\n",
       "    <tr>\n",
       "      <th>...</th>\n",
       "      <td>...</td>\n",
       "      <td>...</td>\n",
       "      <td>...</td>\n",
       "      <td>...</td>\n",
       "      <td>...</td>\n",
       "      <td>...</td>\n",
       "      <td>...</td>\n",
       "    </tr>\n",
       "    <tr>\n",
       "      <th>58</th>\n",
       "      <td>MB</td>\n",
       "      <td>Winnipeg (Canada)</td>\n",
       "      <td>5/1/16 00:15</td>\n",
       "      <td>20 seconds</td>\n",
       "      <td>5/6/2016</td>\n",
       "      <td>Circle</td>\n",
       "      <td>Sighted a chevron or checkmark object with dul...</td>\n",
       "    </tr>\n",
       "    <tr>\n",
       "      <th>59</th>\n",
       "      <td>green and white; flashing.\"</td>\n",
       "      <td>blue</td>\n",
       "      <td>Four sets of very bright lights; red</td>\n",
       "      <td>None</td>\n",
       "      <td>None</td>\n",
       "      <td>4/15/2016</td>\n",
       "      <td>None</td>\n",
       "    </tr>\n",
       "    <tr>\n",
       "      <th>60</th>\n",
       "      <td>WY</td>\n",
       "      <td>Thermopolis</td>\n",
       "      <td>3/19/16 01:30</td>\n",
       "      <td>30 minutes</td>\n",
       "      <td>3/24/2016</td>\n",
       "      <td>Triangle</td>\n",
       "      <td>Two silver glinting objects move purposefully ...</td>\n",
       "    </tr>\n",
       "    <tr>\n",
       "      <th>61</th>\n",
       "      <td>HI</td>\n",
       "      <td>North Shore</td>\n",
       "      <td>4/25/16 20:00</td>\n",
       "      <td>None</td>\n",
       "      <td>5/6/2016</td>\n",
       "      <td>None</td>\n",
       "      <td>USO pipeline surfcam.</td>\n",
       "    </tr>\n",
       "    <tr>\n",
       "      <th>62</th>\n",
       "      <td>ND</td>\n",
       "      <td>Hillsboro</td>\n",
       "      <td>3/9/16 04:00</td>\n",
       "      <td>5 seconds</td>\n",
       "      <td>3/11/2016</td>\n",
       "      <td>Light</td>\n",
       "      <td>Fireball, orange then turns green.</td>\n",
       "    </tr>\n",
       "  </tbody>\n",
       "</table>\n",
       "<p>63 rows × 7 columns</p>\n",
       "</div>"
      ],
      "text/plain": [
       "                           State                   City  \\\n",
       "0                             MN                Scanlon   \n",
       "1                             MA                Raynham   \n",
       "2                             LA                Slidell   \n",
       "3                             BC  Walnut Grove (Canada)   \n",
       "4                             IN            Noblesville   \n",
       "..                           ...                    ...   \n",
       "58                            MB      Winnipeg (Canada)   \n",
       "59   green and white; flashing.\"                   blue   \n",
       "60                            WY            Thermopolis   \n",
       "61                            HI            North Shore   \n",
       "62                            ND              Hillsboro   \n",
       "\n",
       "                             Date / Time    Duration     Posted      Shape  \\\n",
       "0                           5/5/16 02:30   5 seconds   5/6/2016    Unknown   \n",
       "1                          5/11/16 21:20  30 seconds  5/20/2016     Sphere   \n",
       "2                           5/9/16 19:25        None  5/20/2016       None   \n",
       "3                           5/2/16 08:20     ~1 hour   5/6/2016     Sphere   \n",
       "4                          5/23/16 23:00        east  5/26/2016    Unknown   \n",
       "..                                   ...         ...        ...        ...   \n",
       "58                          5/1/16 00:15  20 seconds   5/6/2016     Circle   \n",
       "59  Four sets of very bright lights; red        None       None  4/15/2016   \n",
       "60                         3/19/16 01:30  30 minutes  3/24/2016   Triangle   \n",
       "61                         4/25/16 20:00        None   5/6/2016       None   \n",
       "62                          3/9/16 04:00   5 seconds  3/11/2016      Light   \n",
       "\n",
       "                                              Summary  \n",
       "0   The &quot;light&quot; hovered and was being ap...  \n",
       "1   Three white lights in triangular formation flo...  \n",
       "2   Sonic boom followed by unseen high altitude je...  \n",
       "3   Glimmering ball of light seen low on horizon. ...  \n",
       "4   What looked like a car with 2 white headlights...  \n",
       "..                                                ...  \n",
       "58  Sighted a chevron or checkmark object with dul...  \n",
       "59                                               None  \n",
       "60  Two silver glinting objects move purposefully ...  \n",
       "61                              USO pipeline surfcam.  \n",
       "62                 Fireball, orange then turns green.  \n",
       "\n",
       "[63 rows x 7 columns]"
      ]
     },
     "execution_count": 23,
     "metadata": {},
     "output_type": "execute_result"
    }
   ],
   "source": [
    "# read back from Cassandra !!!\n",
    "cdf = spark.read.table(\"cassandra.test.ufos\")\n",
    "cdf.toPandas()     "
   ]
  },
  {
   "cell_type": "code",
   "execution_count": null,
   "id": "95e99c6a-cae6-4897-a575-e92b58089466",
   "metadata": {},
   "outputs": [],
   "source": []
  }
 ],
 "metadata": {
  "kernelspec": {
   "display_name": "Python 3 (ipykernel)",
   "language": "python",
   "name": "python3"
  },
  "language_info": {
   "codemirror_mode": {
    "name": "ipython",
    "version": 3
   },
   "file_extension": ".py",
   "mimetype": "text/x-python",
   "name": "python",
   "nbconvert_exporter": "python",
   "pygments_lexer": "ipython3",
   "version": "3.9.6"
  }
 },
 "nbformat": 4,
 "nbformat_minor": 5
}
