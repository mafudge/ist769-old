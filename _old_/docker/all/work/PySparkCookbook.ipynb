{
 "cells": [
  {
   "cell_type": "markdown",
   "id": "ea51ed4b-2d56-4005-8fd7-b8e7d1c7064b",
   "metadata": {},
   "source": [
    "# PySpark Cookbook\n",
    "\n",
    "Learn the basics of Apache Spark (PySpark) using familiar idioms from SQL\n",
    "\n",
    "\n",
    "More Examples Can be found at:  https://sparkbyexamples.com/pyspark/\n",
    "\n",
    "-------------------------------------------------------------------------------"
   ]
  },
  {
   "cell_type": "markdown",
   "id": "87dc422e-e046-4032-a3f2-8cc677c1ee85",
   "metadata": {},
   "source": [
    "Imports and Global Settings"
   ]
  },
  {
   "cell_type": "code",
   "execution_count": 1,
   "id": "39443c72",
   "metadata": {},
   "outputs": [],
   "source": [
    "import pyspark\n",
    "from pyspark.sql import SparkSession\n",
    "ENDPOINT='http://minio:9000'\n",
    "AWS_ID=\"minio\"\n",
    "AWS_KEY=\"SU2orange!\""
   ]
  },
  {
   "cell_type": "markdown",
   "id": "33adb185-d2f9-4a8b-b5d0-7fee995e69e5",
   "metadata": {},
   "source": [
    "## Spark Session and Context \n",
    "\n",
    "Add S3 / Minio / Object storage to the spark session then get the spark context.\n",
    " \n",
    " - spark == SparkSession\n",
    " - cs == SparkContext"
   ]
  },
  {
   "cell_type": "code",
   "execution_count": 2,
   "id": "896ae720",
   "metadata": {},
   "outputs": [
    {
     "name": "stderr",
     "output_type": "stream",
     "text": [
      "WARNING: An illegal reflective access operation has occurred\n",
      "WARNING: Illegal reflective access by org.apache.spark.unsafe.Platform (file:/usr/local/spark-3.1.2-bin-hadoop3.2/jars/spark-unsafe_2.12-3.1.2.jar) to constructor java.nio.DirectByteBuffer(long,int)\n",
      "WARNING: Please consider reporting this to the maintainers of org.apache.spark.unsafe.Platform\n",
      "WARNING: Use --illegal-access=warn to enable warnings of further illegal reflective access operations\n",
      "WARNING: All illegal access operations will be denied in a future release\n",
      "21/09/24 13:11:51 WARN NativeCodeLoader: Unable to load native-hadoop library for your platform... using builtin-java classes where applicable\n",
      "Using Spark's default log4j profile: org/apache/spark/log4j-defaults.properties\n",
      "Setting default log level to \"WARN\".\n",
      "To adjust logging level use sc.setLogLevel(newLevel). For SparkR, use setLogLevel(newLevel).\n"
     ]
    }
   ],
   "source": [
    "spark = SparkSession.builder \\\n",
    "    .master(\"local\") \\\n",
    "    .appName('jupyter-pyspark') \\\n",
    "    .config(\"spark.hadoop.fs.s3a.endpoint\", ENDPOINT) \\\n",
    "    .config(\"spark.hadoop.fs.s3a.access.key\", AWS_ID) \\\n",
    "    .config(\"spark.hadoop.fs.s3a.secret.key\", AWS_KEY) \\\n",
    "    .config(\"spark.hadoop.fs.s3a.fast.upload\", True) \\\n",
    "    .config(\"spark.hadoop.fs.s3a.path.style.access\", True) \\\n",
    "    .config(\"spark.hadoop.fs.s3a.impl\", \"org.apache.hadoop.fs.s3a.S3AFileSystem\") \\\n",
    "    .getOrCreate()\n",
    "sc = spark.sparkContext"
   ]
  },
  {
   "cell_type": "markdown",
   "id": "322dfeef-49d9-4c1a-82ed-a88cbb152ca9",
   "metadata": {},
   "source": [
    "Noisy.. set the log level to output Errors only"
   ]
  },
  {
   "cell_type": "code",
   "execution_count": 3,
   "id": "54d2b8c1-d645-478f-8854-c26dd4ebefd8",
   "metadata": {},
   "outputs": [],
   "source": [
    "sc.setLogLevel(\"ERROR\")"
   ]
  },
  {
   "cell_type": "markdown",
   "id": "28c3456d-a903-4c14-9ecc-9a267553d3e3",
   "metadata": {},
   "source": [
    "Let's print some info about spark so you know which version we are using and how it was setup"
   ]
  },
  {
   "cell_type": "code",
   "execution_count": 4,
   "id": "43eccb38",
   "metadata": {},
   "outputs": [
    {
     "name": "stdout",
     "output_type": "stream",
     "text": [
      "Spark Context :  <SparkContext master=local appName=jupyter-pyspark>\n",
      "Spark Version :  3.1.2\n",
      "Spark appName : jupyter-pyspark\n",
      "Hadoop version:  3.2.0\n",
      "Spark Confiuration:\n",
      "\tspark.master = local\n",
      "\tspark.driver.port = 40199\n",
      "\tspark.hadoop.fs.s3a.access.key = minio\n",
      "\tspark.hadoop.fs.s3a.secret.key = SU2orange!\n",
      "\tspark.driver.host = af40586e4337\n",
      "\tspark.executor.id = driver\n",
      "\tspark.app.startTime = 1632489112086\n",
      "\tspark.app.id = local-1632489112547\n",
      "\tspark.driver.extraJavaOptions = -Dio.netty.tryReflectionSetAccessible=true\n",
      "\tspark.hadoop.fs.s3a.impl = org.apache.hadoop.fs.s3a.S3AFileSystem\n",
      "\tspark.sql.warehouse.dir = file:/home/jovyan/work/spark-warehouse/\n",
      "\tspark.app.name = jupyter-pyspark\n",
      "\tspark.hadoop.fs.s3a.path.style.access = True\n",
      "\tspark.rdd.compress = True\n",
      "\tspark.serializer.objectStreamReset = 100\n",
      "\tspark.submit.pyFiles = \n",
      "\tspark.submit.deployMode = client\n",
      "\tspark.hadoop.fs.s3a.endpoint = http://minio:9000\n",
      "\tspark.hadoop.fs.s3a.fast.upload = True\n",
      "\tspark.executor.extraJavaOptions = -Dio.netty.tryReflectionSetAccessible=true\n",
      "\tspark.ui.showConsoleProgress = true\n"
     ]
    }
   ],
   "source": [
    "# Print context\n",
    "print('Spark Context : ', spark.sparkContext)\n",
    "print('Spark Version : ', spark.sparkContext.version)\n",
    "print('Spark appName :', spark.sparkContext.appName)\n",
    "print('Hadoop version: ', spark.sparkContext._gateway.jvm.org.apache.hadoop.util.VersionInfo.getVersion())\n",
    "print('Spark Confiuration:')\n",
    "for conf in spark.sparkContext._conf.getAll():\n",
    "    print(f\"\\t{conf[0]} = {conf[1]}\")"
   ]
  },
  {
   "cell_type": "markdown",
   "id": "7077b85a-6bb2-4021-b624-07f17d5d6f19",
   "metadata": {},
   "source": [
    "## Loading Data with Spark\n",
    "\n",
    "These examples demonstrate various ways to load data into spark dataframes. Spark dataframes will be most familiar to you as they are similar to relational tables and r dataframes.\n",
    "\n",
    "### CSV File Format\n",
    "\n",
    "Docs: https://spark.apache.org/docs/3.1.2/api/python/reference/api/pyspark.sql.DataFrameReader.csv.html\n",
    "\n",
    "Read in any delimited file formats"
   ]
  },
  {
   "cell_type": "code",
   "execution_count": 5,
   "id": "1ad7c6ea-682f-408b-bc7a-9b05552509de",
   "metadata": {},
   "outputs": [
    {
     "ename": "Py4JJavaError",
     "evalue": "An error occurred while calling o79.csv.\n: java.lang.RuntimeException: java.lang.ClassNotFoundException: Class org.apache.hadoop.fs.s3a.S3AFileSystem not found\n\tat org.apache.hadoop.conf.Configuration.getClass(Configuration.java:2595)\n\tat org.apache.hadoop.fs.FileSystem.getFileSystemClass(FileSystem.java:3269)\n\tat org.apache.hadoop.fs.FileSystem.createFileSystem(FileSystem.java:3301)\n\tat org.apache.hadoop.fs.FileSystem.access$200(FileSystem.java:124)\n\tat org.apache.hadoop.fs.FileSystem$Cache.getInternal(FileSystem.java:3352)\n\tat org.apache.hadoop.fs.FileSystem$Cache.get(FileSystem.java:3320)\n\tat org.apache.hadoop.fs.FileSystem.get(FileSystem.java:479)\n\tat org.apache.hadoop.fs.Path.getFileSystem(Path.java:361)\n\tat org.apache.spark.sql.execution.streaming.FileStreamSink$.hasMetadata(FileStreamSink.scala:46)\n\tat org.apache.spark.sql.execution.datasources.DataSource.resolveRelation(DataSource.scala:377)\n\tat org.apache.spark.sql.DataFrameReader.loadV1Source(DataFrameReader.scala:325)\n\tat org.apache.spark.sql.DataFrameReader.$anonfun$load$3(DataFrameReader.scala:307)\n\tat scala.Option.getOrElse(Option.scala:189)\n\tat org.apache.spark.sql.DataFrameReader.load(DataFrameReader.scala:307)\n\tat org.apache.spark.sql.DataFrameReader.csv(DataFrameReader.scala:795)\n\tat java.base/jdk.internal.reflect.NativeMethodAccessorImpl.invoke0(Native Method)\n\tat java.base/jdk.internal.reflect.NativeMethodAccessorImpl.invoke(NativeMethodAccessorImpl.java:62)\n\tat java.base/jdk.internal.reflect.DelegatingMethodAccessorImpl.invoke(DelegatingMethodAccessorImpl.java:43)\n\tat java.base/java.lang.reflect.Method.invoke(Method.java:566)\n\tat py4j.reflection.MethodInvoker.invoke(MethodInvoker.java:244)\n\tat py4j.reflection.ReflectionEngine.invoke(ReflectionEngine.java:357)\n\tat py4j.Gateway.invoke(Gateway.java:282)\n\tat py4j.commands.AbstractCommand.invokeMethod(AbstractCommand.java:132)\n\tat py4j.commands.CallCommand.execute(CallCommand.java:79)\n\tat py4j.GatewayConnection.run(GatewayConnection.java:238)\n\tat java.base/java.lang.Thread.run(Thread.java:829)\nCaused by: java.lang.ClassNotFoundException: Class org.apache.hadoop.fs.s3a.S3AFileSystem not found\n\tat org.apache.hadoop.conf.Configuration.getClassByName(Configuration.java:2499)\n\tat org.apache.hadoop.conf.Configuration.getClass(Configuration.java:2593)\n\t... 25 more\n",
     "output_type": "error",
     "traceback": [
      "\u001b[0;31m---------------------------------------------------------------------------\u001b[0m",
      "\u001b[0;31mPy4JJavaError\u001b[0m                             Traceback (most recent call last)",
      "\u001b[0;32m/tmp/ipykernel_67/1995267190.py\u001b[0m in \u001b[0;36m<module>\u001b[0;34m\u001b[0m\n\u001b[1;32m      1\u001b[0m \u001b[0;31m# traditional CSV, with header\u001b[0m\u001b[0;34m\u001b[0m\u001b[0;34m\u001b[0m\u001b[0;34m\u001b[0m\u001b[0m\n\u001b[0;32m----> 2\u001b[0;31m \u001b[0mdf\u001b[0m \u001b[0;34m=\u001b[0m \u001b[0mspark\u001b[0m\u001b[0;34m.\u001b[0m\u001b[0mread\u001b[0m\u001b[0;34m.\u001b[0m\u001b[0mcsv\u001b[0m\u001b[0;34m(\u001b[0m\u001b[0;34m\"s3a://ufo-sightings/*.csv\"\u001b[0m\u001b[0;34m,\u001b[0m\u001b[0mheader\u001b[0m\u001b[0;34m=\u001b[0m\u001b[0;32mTrue\u001b[0m\u001b[0;34m,\u001b[0m \u001b[0minferSchema\u001b[0m\u001b[0;34m=\u001b[0m\u001b[0;32mTrue\u001b[0m\u001b[0;34m)\u001b[0m\u001b[0;34m.\u001b[0m\u001b[0mcache\u001b[0m\u001b[0;34m(\u001b[0m\u001b[0;34m)\u001b[0m\u001b[0;34m\u001b[0m\u001b[0;34m\u001b[0m\u001b[0m\n\u001b[0m\u001b[1;32m      3\u001b[0m \u001b[0mdf\u001b[0m\u001b[0;34m.\u001b[0m\u001b[0mshow\u001b[0m\u001b[0;34m(\u001b[0m\u001b[0;36m10\u001b[0m\u001b[0;34m)\u001b[0m\u001b[0;34m\u001b[0m\u001b[0;34m\u001b[0m\u001b[0m\n\u001b[1;32m      4\u001b[0m \u001b[0mdf\u001b[0m\u001b[0;34m.\u001b[0m\u001b[0mprintSchema\u001b[0m\u001b[0;34m(\u001b[0m\u001b[0;34m)\u001b[0m\u001b[0;34m\u001b[0m\u001b[0;34m\u001b[0m\u001b[0m\n",
      "\u001b[0;32m/usr/local/spark/python/pyspark/sql/readwriter.py\u001b[0m in \u001b[0;36mcsv\u001b[0;34m(self, path, schema, sep, encoding, quote, escape, comment, header, inferSchema, ignoreLeadingWhiteSpace, ignoreTrailingWhiteSpace, nullValue, nanValue, positiveInf, negativeInf, dateFormat, timestampFormat, maxColumns, maxCharsPerColumn, maxMalformedLogPerPartition, mode, columnNameOfCorruptRecord, multiLine, charToEscapeQuoteEscaping, samplingRatio, enforceSchema, emptyValue, locale, lineSep, pathGlobFilter, recursiveFileLookup, modifiedBefore, modifiedAfter, unescapedQuoteHandling)\u001b[0m\n\u001b[1;32m    735\u001b[0m             \u001b[0mpath\u001b[0m \u001b[0;34m=\u001b[0m \u001b[0;34m[\u001b[0m\u001b[0mpath\u001b[0m\u001b[0;34m]\u001b[0m\u001b[0;34m\u001b[0m\u001b[0;34m\u001b[0m\u001b[0m\n\u001b[1;32m    736\u001b[0m         \u001b[0;32mif\u001b[0m \u001b[0mtype\u001b[0m\u001b[0;34m(\u001b[0m\u001b[0mpath\u001b[0m\u001b[0;34m)\u001b[0m \u001b[0;34m==\u001b[0m \u001b[0mlist\u001b[0m\u001b[0;34m:\u001b[0m\u001b[0;34m\u001b[0m\u001b[0;34m\u001b[0m\u001b[0m\n\u001b[0;32m--> 737\u001b[0;31m             \u001b[0;32mreturn\u001b[0m \u001b[0mself\u001b[0m\u001b[0;34m.\u001b[0m\u001b[0m_df\u001b[0m\u001b[0;34m(\u001b[0m\u001b[0mself\u001b[0m\u001b[0;34m.\u001b[0m\u001b[0m_jreader\u001b[0m\u001b[0;34m.\u001b[0m\u001b[0mcsv\u001b[0m\u001b[0;34m(\u001b[0m\u001b[0mself\u001b[0m\u001b[0;34m.\u001b[0m\u001b[0m_spark\u001b[0m\u001b[0;34m.\u001b[0m\u001b[0m_sc\u001b[0m\u001b[0;34m.\u001b[0m\u001b[0m_jvm\u001b[0m\u001b[0;34m.\u001b[0m\u001b[0mPythonUtils\u001b[0m\u001b[0;34m.\u001b[0m\u001b[0mtoSeq\u001b[0m\u001b[0;34m(\u001b[0m\u001b[0mpath\u001b[0m\u001b[0;34m)\u001b[0m\u001b[0;34m)\u001b[0m\u001b[0;34m)\u001b[0m\u001b[0;34m\u001b[0m\u001b[0;34m\u001b[0m\u001b[0m\n\u001b[0m\u001b[1;32m    738\u001b[0m         \u001b[0;32melif\u001b[0m \u001b[0misinstance\u001b[0m\u001b[0;34m(\u001b[0m\u001b[0mpath\u001b[0m\u001b[0;34m,\u001b[0m \u001b[0mRDD\u001b[0m\u001b[0;34m)\u001b[0m\u001b[0;34m:\u001b[0m\u001b[0;34m\u001b[0m\u001b[0;34m\u001b[0m\u001b[0m\n\u001b[1;32m    739\u001b[0m             \u001b[0;32mdef\u001b[0m \u001b[0mfunc\u001b[0m\u001b[0;34m(\u001b[0m\u001b[0miterator\u001b[0m\u001b[0;34m)\u001b[0m\u001b[0;34m:\u001b[0m\u001b[0;34m\u001b[0m\u001b[0;34m\u001b[0m\u001b[0m\n",
      "\u001b[0;32m/usr/local/spark/python/lib/py4j-0.10.9-src.zip/py4j/java_gateway.py\u001b[0m in \u001b[0;36m__call__\u001b[0;34m(self, *args)\u001b[0m\n\u001b[1;32m   1302\u001b[0m \u001b[0;34m\u001b[0m\u001b[0m\n\u001b[1;32m   1303\u001b[0m         \u001b[0manswer\u001b[0m \u001b[0;34m=\u001b[0m \u001b[0mself\u001b[0m\u001b[0;34m.\u001b[0m\u001b[0mgateway_client\u001b[0m\u001b[0;34m.\u001b[0m\u001b[0msend_command\u001b[0m\u001b[0;34m(\u001b[0m\u001b[0mcommand\u001b[0m\u001b[0;34m)\u001b[0m\u001b[0;34m\u001b[0m\u001b[0;34m\u001b[0m\u001b[0m\n\u001b[0;32m-> 1304\u001b[0;31m         return_value = get_return_value(\n\u001b[0m\u001b[1;32m   1305\u001b[0m             answer, self.gateway_client, self.target_id, self.name)\n\u001b[1;32m   1306\u001b[0m \u001b[0;34m\u001b[0m\u001b[0m\n",
      "\u001b[0;32m/usr/local/spark/python/pyspark/sql/utils.py\u001b[0m in \u001b[0;36mdeco\u001b[0;34m(*a, **kw)\u001b[0m\n\u001b[1;32m    109\u001b[0m     \u001b[0;32mdef\u001b[0m \u001b[0mdeco\u001b[0m\u001b[0;34m(\u001b[0m\u001b[0;34m*\u001b[0m\u001b[0ma\u001b[0m\u001b[0;34m,\u001b[0m \u001b[0;34m**\u001b[0m\u001b[0mkw\u001b[0m\u001b[0;34m)\u001b[0m\u001b[0;34m:\u001b[0m\u001b[0;34m\u001b[0m\u001b[0;34m\u001b[0m\u001b[0m\n\u001b[1;32m    110\u001b[0m         \u001b[0;32mtry\u001b[0m\u001b[0;34m:\u001b[0m\u001b[0;34m\u001b[0m\u001b[0;34m\u001b[0m\u001b[0m\n\u001b[0;32m--> 111\u001b[0;31m             \u001b[0;32mreturn\u001b[0m \u001b[0mf\u001b[0m\u001b[0;34m(\u001b[0m\u001b[0;34m*\u001b[0m\u001b[0ma\u001b[0m\u001b[0;34m,\u001b[0m \u001b[0;34m**\u001b[0m\u001b[0mkw\u001b[0m\u001b[0;34m)\u001b[0m\u001b[0;34m\u001b[0m\u001b[0;34m\u001b[0m\u001b[0m\n\u001b[0m\u001b[1;32m    112\u001b[0m         \u001b[0;32mexcept\u001b[0m \u001b[0mpy4j\u001b[0m\u001b[0;34m.\u001b[0m\u001b[0mprotocol\u001b[0m\u001b[0;34m.\u001b[0m\u001b[0mPy4JJavaError\u001b[0m \u001b[0;32mas\u001b[0m \u001b[0me\u001b[0m\u001b[0;34m:\u001b[0m\u001b[0;34m\u001b[0m\u001b[0;34m\u001b[0m\u001b[0m\n\u001b[1;32m    113\u001b[0m             \u001b[0mconverted\u001b[0m \u001b[0;34m=\u001b[0m \u001b[0mconvert_exception\u001b[0m\u001b[0;34m(\u001b[0m\u001b[0me\u001b[0m\u001b[0;34m.\u001b[0m\u001b[0mjava_exception\u001b[0m\u001b[0;34m)\u001b[0m\u001b[0;34m\u001b[0m\u001b[0;34m\u001b[0m\u001b[0m\n",
      "\u001b[0;32m/usr/local/spark/python/lib/py4j-0.10.9-src.zip/py4j/protocol.py\u001b[0m in \u001b[0;36mget_return_value\u001b[0;34m(answer, gateway_client, target_id, name)\u001b[0m\n\u001b[1;32m    324\u001b[0m             \u001b[0mvalue\u001b[0m \u001b[0;34m=\u001b[0m \u001b[0mOUTPUT_CONVERTER\u001b[0m\u001b[0;34m[\u001b[0m\u001b[0mtype\u001b[0m\u001b[0;34m]\u001b[0m\u001b[0;34m(\u001b[0m\u001b[0manswer\u001b[0m\u001b[0;34m[\u001b[0m\u001b[0;36m2\u001b[0m\u001b[0;34m:\u001b[0m\u001b[0;34m]\u001b[0m\u001b[0;34m,\u001b[0m \u001b[0mgateway_client\u001b[0m\u001b[0;34m)\u001b[0m\u001b[0;34m\u001b[0m\u001b[0;34m\u001b[0m\u001b[0m\n\u001b[1;32m    325\u001b[0m             \u001b[0;32mif\u001b[0m \u001b[0manswer\u001b[0m\u001b[0;34m[\u001b[0m\u001b[0;36m1\u001b[0m\u001b[0;34m]\u001b[0m \u001b[0;34m==\u001b[0m \u001b[0mREFERENCE_TYPE\u001b[0m\u001b[0;34m:\u001b[0m\u001b[0;34m\u001b[0m\u001b[0;34m\u001b[0m\u001b[0m\n\u001b[0;32m--> 326\u001b[0;31m                 raise Py4JJavaError(\n\u001b[0m\u001b[1;32m    327\u001b[0m                     \u001b[0;34m\"An error occurred while calling {0}{1}{2}.\\n\"\u001b[0m\u001b[0;34m.\u001b[0m\u001b[0;34m\u001b[0m\u001b[0;34m\u001b[0m\u001b[0m\n\u001b[1;32m    328\u001b[0m                     format(target_id, \".\", name), value)\n",
      "\u001b[0;31mPy4JJavaError\u001b[0m: An error occurred while calling o79.csv.\n: java.lang.RuntimeException: java.lang.ClassNotFoundException: Class org.apache.hadoop.fs.s3a.S3AFileSystem not found\n\tat org.apache.hadoop.conf.Configuration.getClass(Configuration.java:2595)\n\tat org.apache.hadoop.fs.FileSystem.getFileSystemClass(FileSystem.java:3269)\n\tat org.apache.hadoop.fs.FileSystem.createFileSystem(FileSystem.java:3301)\n\tat org.apache.hadoop.fs.FileSystem.access$200(FileSystem.java:124)\n\tat org.apache.hadoop.fs.FileSystem$Cache.getInternal(FileSystem.java:3352)\n\tat org.apache.hadoop.fs.FileSystem$Cache.get(FileSystem.java:3320)\n\tat org.apache.hadoop.fs.FileSystem.get(FileSystem.java:479)\n\tat org.apache.hadoop.fs.Path.getFileSystem(Path.java:361)\n\tat org.apache.spark.sql.execution.streaming.FileStreamSink$.hasMetadata(FileStreamSink.scala:46)\n\tat org.apache.spark.sql.execution.datasources.DataSource.resolveRelation(DataSource.scala:377)\n\tat org.apache.spark.sql.DataFrameReader.loadV1Source(DataFrameReader.scala:325)\n\tat org.apache.spark.sql.DataFrameReader.$anonfun$load$3(DataFrameReader.scala:307)\n\tat scala.Option.getOrElse(Option.scala:189)\n\tat org.apache.spark.sql.DataFrameReader.load(DataFrameReader.scala:307)\n\tat org.apache.spark.sql.DataFrameReader.csv(DataFrameReader.scala:795)\n\tat java.base/jdk.internal.reflect.NativeMethodAccessorImpl.invoke0(Native Method)\n\tat java.base/jdk.internal.reflect.NativeMethodAccessorImpl.invoke(NativeMethodAccessorImpl.java:62)\n\tat java.base/jdk.internal.reflect.DelegatingMethodAccessorImpl.invoke(DelegatingMethodAccessorImpl.java:43)\n\tat java.base/java.lang.reflect.Method.invoke(Method.java:566)\n\tat py4j.reflection.MethodInvoker.invoke(MethodInvoker.java:244)\n\tat py4j.reflection.ReflectionEngine.invoke(ReflectionEngine.java:357)\n\tat py4j.Gateway.invoke(Gateway.java:282)\n\tat py4j.commands.AbstractCommand.invokeMethod(AbstractCommand.java:132)\n\tat py4j.commands.CallCommand.execute(CallCommand.java:79)\n\tat py4j.GatewayConnection.run(GatewayConnection.java:238)\n\tat java.base/java.lang.Thread.run(Thread.java:829)\nCaused by: java.lang.ClassNotFoundException: Class org.apache.hadoop.fs.s3a.S3AFileSystem not found\n\tat org.apache.hadoop.conf.Configuration.getClassByName(Configuration.java:2499)\n\tat org.apache.hadoop.conf.Configuration.getClass(Configuration.java:2593)\n\t... 25 more\n"
     ]
    }
   ],
   "source": [
    "# traditional CSV, with header\n",
    "df = spark.read.csv(\"s3a://ufo-sightings/*.csv\",header=True, inferSchema=True).cache()\n",
    "df.show(10)\n",
    "df.printSchema()"
   ]
  },
  {
   "cell_type": "code",
   "execution_count": 70,
   "id": "b7ef7040",
   "metadata": {},
   "outputs": [
    {
     "name": "stdout",
     "output_type": "stream",
     "text": [
      "+-------------------+--------------------+--------------------+------------+--------------------+\n",
      "|                _c0|                 _c1|                 _c2|twitter_user|          tweet_text|\n",
      "+-------------------+--------------------+--------------------+------------+--------------------+\n",
      "|2845428583999282239|1.4337661612984276E9|Mon Jun 08 08:22:...|    rovlight|Why so horrible d...|\n",
      "|1658183905022391067|1.4298210344679017E9|Thu Apr 23 16:30:...|       sladd|Just placed an or...|\n",
      "| 973476786498736360|1.4421079524352274E9|Sat Sep 12 21:32:...|     rdeboat|Worst purchase ev...|\n",
      "| 402981967046309846| 1.447381758722716E9|Thu Nov 12 21:29:...|      sofewe|I love you, @fudg...|\n",
      "|1397754748167468823|1.4355730173666306E9|Mon Jun 29 06:16:...|      balott|Glad I bought my ...|\n",
      "|4317414692342006509| 1.441177812164332E9|Wed Sep 02 03:10:...|    ojouglad|The Electronics d...|\n",
      "|1397715809532042193|1.4361083498747828E9|Sun Jul 05 10:59:...|    edetyers|Who uses the fudg...|\n",
      "| 268216688744405461| 1.429978347077872E9|Sat Apr 25 12:12:...|     rdeboat|This flawed jewel...|\n",
      "|2211433262754075682| 1.424533143683209E9|Sat Feb 21 10:39:...|    rovlight|There are some ne...|\n",
      "|1109695211099951156|1.4496614789195502E9|Wed Dec 09 06:44:...|      tanott|Why is customer s...|\n",
      "+-------------------+--------------------+--------------------+------------+--------------------+\n",
      "only showing top 10 rows\n",
      "\n"
     ]
    }
   ],
   "source": [
    "# A Pipe separated file, no header, So we rename some columns\n",
    "df = spark.read.csv(\"s3a://tweets/tweets.psv\",header=False, inferSchema=True,sep='|')\n",
    "df = df.withColumnRenamed('_c4','tweet_text') \\\n",
    "    .withColumnRenamed(\"_c3\",\"twitter_user\")\n",
    "df.show(10)"
   ]
  },
  {
   "cell_type": "markdown",
   "id": "ae56ec45-90fe-402f-b0f2-f3a871057639",
   "metadata": {},
   "source": [
    "Don't like `show()` you can always convert the output to a Pandas Dataframe."
   ]
  },
  {
   "cell_type": "code",
   "execution_count": 117,
   "id": "956c9380-077b-4b2a-bac6-26386f202a5d",
   "metadata": {},
   "outputs": [
    {
     "name": "stdout",
     "output_type": "stream",
     "text": [
      "+--------------------+--------------------+-------------------+--------------------+----------+\n",
      "|          created_at| created_at_unixtime|                 id|                text|      user|\n",
      "+--------------------+--------------------+-------------------+--------------------+----------+\n",
      "|Sun Nov 22 14:44:...|1.4482214566646008E9|3731785240073317438|Glad I bought my ...|    jpoole|\n",
      "|Mon Aug 24 05:05:...| 1.440407147033846E9|3600730356622213650|Techical support ...|    jpoole|\n",
      "|Sat Nov 28 00:19:...|1.4486879496857476E9|4211873369158903141|Do you enjoy digi...|     tpani|\n",
      "|Thu Jan 29 23:27:...|1.4225920780295255E9| 803003777759256860|The Electronics d...| lhvmeehom|\n",
      "|Sat Feb 07 16:29:...|1.4233445491064806E9|2073670596081008741|Hey fudgemart, wh...|  mmelator|\n",
      "|Wed May 20 11:27:...|1.4321356508858037E9|4179972589054475991|I like the Fudgem...|  mmelator|\n",
      "|Sat Sep 26 05:10:...| 1.443258613345817E9|3924522994216591792|@fudgemart is bet...|   rdeboat|\n",
      "|Mon May 25 12:21:...|   1.4325709074274E9|3919137412758564448|Do you enjoy digi...|  ojouglad|\n",
      "|Sat Sep 19 10:04:...|1.4426714767668562E9| 249967325734032089|Nothing like the ...|    jpoole|\n",
      "|Fri Apr 10 19:41:...| 1.428709279618265E9|2653290268387611223|likewise, @fudgemart|etasomthin|\n",
      "+--------------------+--------------------+-------------------+--------------------+----------+\n",
      "only showing top 10 rows\n",
      "\n"
     ]
    },
    {
     "data": {
      "text/html": [
       "<div>\n",
       "<style scoped>\n",
       "    .dataframe tbody tr th:only-of-type {\n",
       "        vertical-align: middle;\n",
       "    }\n",
       "\n",
       "    .dataframe tbody tr th {\n",
       "        vertical-align: top;\n",
       "    }\n",
       "\n",
       "    .dataframe thead th {\n",
       "        text-align: right;\n",
       "    }\n",
       "</style>\n",
       "<table border=\"1\" class=\"dataframe\">\n",
       "  <thead>\n",
       "    <tr style=\"text-align: right;\">\n",
       "      <th></th>\n",
       "      <th>created_at</th>\n",
       "      <th>created_at_unixtime</th>\n",
       "      <th>id</th>\n",
       "      <th>text</th>\n",
       "      <th>user</th>\n",
       "    </tr>\n",
       "  </thead>\n",
       "  <tbody>\n",
       "    <tr>\n",
       "      <th>60</th>\n",
       "      <td>Tue May 05 13:58:24 +0000 2015</td>\n",
       "      <td>1.430849e+09</td>\n",
       "      <td>1682524703217110597</td>\n",
       "      <td>Came home to a big smile my #fudgemart package...</td>\n",
       "      <td>edetyers</td>\n",
       "    </tr>\n",
       "    <tr>\n",
       "      <th>131</th>\n",
       "      <td>Fri Dec 18 20:48:13 +0000 2015</td>\n",
       "      <td>1.450490e+09</td>\n",
       "      <td>3128030551379405713</td>\n",
       "      <td>Fudgemart just is.</td>\n",
       "      <td>edetyers</td>\n",
       "    </tr>\n",
       "    <tr>\n",
       "      <th>112</th>\n",
       "      <td>Wed Jul 01 12:38:55 +0000 2015</td>\n",
       "      <td>1.435769e+09</td>\n",
       "      <td>1029113340942294688</td>\n",
       "      <td>Just placed an order today. thx @fudgemart</td>\n",
       "      <td>bmelator</td>\n",
       "    </tr>\n",
       "    <tr>\n",
       "      <th>136</th>\n",
       "      <td>Thu Jun 18 12:54:44 +0000 2015</td>\n",
       "      <td>1.434646e+09</td>\n",
       "      <td>2976189753055105294</td>\n",
       "      <td>Shopping on #fudgemart website is carefree.</td>\n",
       "      <td>sbellum</td>\n",
       "    </tr>\n",
       "    <tr>\n",
       "      <th>100</th>\n",
       "      <td>Mon Sep 28 09:20:38 +0000 2015</td>\n",
       "      <td>1.443446e+09</td>\n",
       "      <td>4366340990425716647</td>\n",
       "      <td>@fudgemart is better than @amazeen</td>\n",
       "      <td>edetyers</td>\n",
       "    </tr>\n",
       "    <tr>\n",
       "      <th>154</th>\n",
       "      <td>Thu Feb 26 00:53:55 +0000 2015</td>\n",
       "      <td>1.424930e+09</td>\n",
       "      <td>2873970204275959017</td>\n",
       "      <td>Wonderful books selection, @fudgemart</td>\n",
       "      <td>edetyers</td>\n",
       "    </tr>\n",
       "    <tr>\n",
       "      <th>189</th>\n",
       "      <td>Wed Jul 08 14:36:48 +0000 2015</td>\n",
       "      <td>1.436381e+09</td>\n",
       "      <td>1085812989444393574</td>\n",
       "      <td>My shopping experience was delightful, @fudgemart</td>\n",
       "      <td>rdeboat</td>\n",
       "    </tr>\n",
       "    <tr>\n",
       "      <th>20</th>\n",
       "      <td>Mon Nov 23 17:12:23 +0000 2015</td>\n",
       "      <td>1.448317e+09</td>\n",
       "      <td>3067158767857887238</td>\n",
       "      <td>Nothing like the feeling of helplessness from ...</td>\n",
       "      <td>sofewe</td>\n",
       "    </tr>\n",
       "    <tr>\n",
       "      <th>1</th>\n",
       "      <td>Mon Aug 24 05:05:47 +0000 2015</td>\n",
       "      <td>1.440407e+09</td>\n",
       "      <td>3600730356622213650</td>\n",
       "      <td>Techical support for my new computer as A+, th...</td>\n",
       "      <td>jpoole</td>\n",
       "    </tr>\n",
       "    <tr>\n",
       "      <th>93</th>\n",
       "      <td>Sat Feb 07 08:10:25 +0000 2015</td>\n",
       "      <td>1.423315e+09</td>\n",
       "      <td>1942116576821067942</td>\n",
       "      <td>The books department at #fudgemart is amazing....</td>\n",
       "      <td>edetyers</td>\n",
       "    </tr>\n",
       "  </tbody>\n",
       "</table>\n",
       "</div>"
      ],
      "text/plain": [
       "                         created_at  created_at_unixtime                   id  \\\n",
       "60   Tue May 05 13:58:24 +0000 2015         1.430849e+09  1682524703217110597   \n",
       "131  Fri Dec 18 20:48:13 +0000 2015         1.450490e+09  3128030551379405713   \n",
       "112  Wed Jul 01 12:38:55 +0000 2015         1.435769e+09  1029113340942294688   \n",
       "136  Thu Jun 18 12:54:44 +0000 2015         1.434646e+09  2976189753055105294   \n",
       "100  Mon Sep 28 09:20:38 +0000 2015         1.443446e+09  4366340990425716647   \n",
       "154  Thu Feb 26 00:53:55 +0000 2015         1.424930e+09  2873970204275959017   \n",
       "189  Wed Jul 08 14:36:48 +0000 2015         1.436381e+09  1085812989444393574   \n",
       "20   Mon Nov 23 17:12:23 +0000 2015         1.448317e+09  3067158767857887238   \n",
       "1    Mon Aug 24 05:05:47 +0000 2015         1.440407e+09  3600730356622213650   \n",
       "93   Sat Feb 07 08:10:25 +0000 2015         1.423315e+09  1942116576821067942   \n",
       "\n",
       "                                                  text      user  \n",
       "60   Came home to a big smile my #fudgemart package...  edetyers  \n",
       "131                                 Fudgemart just is.  edetyers  \n",
       "112         Just placed an order today. thx @fudgemart  bmelator  \n",
       "136        Shopping on #fudgemart website is carefree.   sbellum  \n",
       "100                 @fudgemart is better than @amazeen  edetyers  \n",
       "154              Wonderful books selection, @fudgemart  edetyers  \n",
       "189  My shopping experience was delightful, @fudgemart   rdeboat  \n",
       "20   Nothing like the feeling of helplessness from ...    sofewe  \n",
       "1    Techical support for my new computer as A+, th...    jpoole  \n",
       "93   The books department at #fudgemart is amazing....  edetyers  "
      ]
     },
     "execution_count": 117,
     "metadata": {},
     "output_type": "execute_result"
    }
   ],
   "source": [
    "df.show(10)\n",
    "df.toPandas().sample(10) # get 10 random samples"
   ]
  },
  {
   "cell_type": "markdown",
   "id": "2b1fd162-f7d7-4264-ae87-b5566dfbef04",
   "metadata": {},
   "source": [
    "### JSON File Format\n",
    "\n",
    "https://spark.apache.org/docs/3.1.2/api/python/reference/api/pyspark.sql.DataFrameReader.json.html\n"
   ]
  },
  {
   "cell_type": "code",
   "execution_count": 118,
   "id": "c76d385d-3f65-45a1-bc3d-ecb11253cf84",
   "metadata": {},
   "outputs": [
    {
     "name": "stdout",
     "output_type": "stream",
     "text": [
      "+--------------------+--------------------+-------------------+--------------------+----------+\n",
      "|          created_at| created_at_unixtime|                 id|                text|      user|\n",
      "+--------------------+--------------------+-------------------+--------------------+----------+\n",
      "|Sun Nov 22 14:44:...|1.4482214566646008E9|3731785240073317438|Glad I bought my ...|    jpoole|\n",
      "|Mon Aug 24 05:05:...| 1.440407147033846E9|3600730356622213650|Techical support ...|    jpoole|\n",
      "|Sat Nov 28 00:19:...|1.4486879496857476E9|4211873369158903141|Do you enjoy digi...|     tpani|\n",
      "|Thu Jan 29 23:27:...|1.4225920780295255E9| 803003777759256860|The Electronics d...| lhvmeehom|\n",
      "|Sat Feb 07 16:29:...|1.4233445491064806E9|2073670596081008741|Hey fudgemart, wh...|  mmelator|\n",
      "|Wed May 20 11:27:...|1.4321356508858037E9|4179972589054475991|I like the Fudgem...|  mmelator|\n",
      "|Sat Sep 26 05:10:...| 1.443258613345817E9|3924522994216591792|@fudgemart is bet...|   rdeboat|\n",
      "|Mon May 25 12:21:...|   1.4325709074274E9|3919137412758564448|Do you enjoy digi...|  ojouglad|\n",
      "|Sat Sep 19 10:04:...|1.4426714767668562E9| 249967325734032089|Nothing like the ...|    jpoole|\n",
      "|Fri Apr 10 19:41:...| 1.428709279618265E9|2653290268387611223|likewise, @fudgemart|etasomthin|\n",
      "+--------------------+--------------------+-------------------+--------------------+----------+\n",
      "only showing top 10 rows\n",
      "\n",
      "root\n",
      " |-- created_at: string (nullable = true)\n",
      " |-- created_at_unixtime: double (nullable = true)\n",
      " |-- id: long (nullable = true)\n",
      " |-- text: string (nullable = true)\n",
      " |-- user: string (nullable = true)\n",
      "\n"
     ]
    }
   ],
   "source": [
    "# Simple JSON With the JSON format, printSchema() is a friend indeed!\n",
    "df = spark.read.json(\"s3a://tweets/tweets.json\")\n",
    "df.show(10)\n",
    "df.printSchema()\n"
   ]
  },
  {
   "cell_type": "code",
   "execution_count": 86,
   "id": "0878778d-2999-4c0a-a97b-7cf335f30bf8",
   "metadata": {},
   "outputs": [
    {
     "name": "stdout",
     "output_type": "stream",
     "text": [
      "+----------------+----------+--------------------+--------------------+-----------+----------------+\n",
      "|product_category|product_id|        product_name|product_retail_price|vendor_name|  vendor_website|\n",
      "+----------------+----------+--------------------+--------------------+-----------+----------------+\n",
      "|        Hardware|         1|Straight Claw Hammer|               15.95|    Stanlee|            null|\n",
      "|        Hardware|         2|       Sledge Hammer|               21.95|    Stanlee|            null|\n",
      "|        Hardware|         3|     Rip Claw Hammer|               19.95|    Stanlee|            null|\n",
      "|        Clothing|         4|         Dri-Fit Tee|                20.0|      Mikey|http://mikee.com|\n",
      "|        Clothing|         5|       Running Pants|                35.0|      Mikey|http://mikee.com|\n",
      "|        Clothing|         6|          Wool Socks|                 8.0|      Mikey|http://mikee.com|\n",
      "|        Clothing|         7|      Squeaky Sneaks|                65.0|      Mikey|http://mikee.com|\n",
      "|        Clothing|         8|          Cool Jeans|                45.0|  Leaveeyes|            null|\n",
      "|        Clothing|         9|        Denim Jacket|                60.0|  Leaveeyes|            null|\n",
      "|        Clothing|        10|      Leather Jacket|                95.0|  Leaveeyes|            null|\n",
      "+----------------+----------+--------------------+--------------------+-----------+----------------+\n",
      "only showing top 10 rows\n",
      "\n"
     ]
    }
   ],
   "source": [
    "# Formatted (a.k.a. Pretty Printed) JSON might be multi-line,\n",
    "df = spark.read.json(\"s3a://json-samples/fudgemart-products.json\", multiLine=True)\n",
    "df.show(10)"
   ]
  },
  {
   "cell_type": "code",
   "execution_count": 119,
   "id": "20b9fcc2-85f7-41ac-a7a1-fca4dda83961",
   "metadata": {},
   "outputs": [
    {
     "name": "stdout",
     "output_type": "stream",
     "text": [
      "root\n",
      " |-- business_status: string (nullable = true)\n",
      " |-- geometry: struct (nullable = true)\n",
      " |    |-- location: struct (nullable = true)\n",
      " |    |    |-- lat: double (nullable = true)\n",
      " |    |    |-- lng: double (nullable = true)\n",
      " |    |-- viewport: struct (nullable = true)\n",
      " |    |    |-- northeast: struct (nullable = true)\n",
      " |    |    |    |-- lat: double (nullable = true)\n",
      " |    |    |    |-- lng: double (nullable = true)\n",
      " |    |    |-- southwest: struct (nullable = true)\n",
      " |    |    |    |-- lat: double (nullable = true)\n",
      " |    |    |    |-- lng: double (nullable = true)\n",
      " |-- icon: string (nullable = true)\n",
      " |-- icon_background_color: string (nullable = true)\n",
      " |-- icon_mask_base_uri: string (nullable = true)\n",
      " |-- name: string (nullable = true)\n",
      " |-- opening_hours: struct (nullable = true)\n",
      " |    |-- open_now: boolean (nullable = true)\n",
      " |-- photos: array (nullable = true)\n",
      " |    |-- element: struct (containsNull = true)\n",
      " |    |    |-- height: long (nullable = true)\n",
      " |    |    |-- html_attributions: array (nullable = true)\n",
      " |    |    |    |-- element: string (containsNull = true)\n",
      " |    |    |-- photo_reference: string (nullable = true)\n",
      " |    |    |-- width: long (nullable = true)\n",
      " |-- place_id: string (nullable = true)\n",
      " |-- plus_code: struct (nullable = true)\n",
      " |    |-- compound_code: string (nullable = true)\n",
      " |    |-- global_code: string (nullable = true)\n",
      " |-- price_level: long (nullable = true)\n",
      " |-- rating: double (nullable = true)\n",
      " |-- reference: string (nullable = true)\n",
      " |-- scope: string (nullable = true)\n",
      " |-- types: array (nullable = true)\n",
      " |    |-- element: string (containsNull = true)\n",
      " |-- user_ratings_total: long (nullable = true)\n",
      " |-- vicinity: string (nullable = true)\n",
      "\n"
     ]
    }
   ],
   "source": [
    "# Nested JSON is handed really well... we will learn how to query this later!!\n",
    "df = spark.read.json(\"s3a://json-samples/google-places.json\", multiLine=True)\n",
    "df.printSchema()"
   ]
  },
  {
   "cell_type": "markdown",
   "id": "1c54df86-8d4b-4d0a-96f7-aac846f3aad6",
   "metadata": {},
   "source": [
    "## Spark Dataframe Transformations\n",
    "\n",
    "This section will cover commone DataFrame transofrmations"
   ]
  },
  {
   "cell_type": "code",
   "execution_count": 166,
   "id": "70ac5428-2ad1-4414-be27-9ffb37c3733f",
   "metadata": {},
   "outputs": [
    {
     "name": "stdout",
     "output_type": "stream",
     "text": [
      "+----------------+----------+--------------------+--------------------+-----------+----------------+\n",
      "|product_category|product_id|        product_name|product_retail_price|vendor_name|  vendor_website|\n",
      "+----------------+----------+--------------------+--------------------+-----------+----------------+\n",
      "|        Hardware|         1|Straight Claw Hammer|               15.95|    Stanlee|            null|\n",
      "|        Hardware|         2|       Sledge Hammer|               21.95|    Stanlee|            null|\n",
      "|        Hardware|         3|     Rip Claw Hammer|               19.95|    Stanlee|            null|\n",
      "|        Clothing|         4|         Dri-Fit Tee|                20.0|      Mikey|http://mikee.com|\n",
      "|        Clothing|         5|       Running Pants|                35.0|      Mikey|http://mikee.com|\n",
      "|        Clothing|         6|          Wool Socks|                 8.0|      Mikey|http://mikee.com|\n",
      "|        Clothing|         7|      Squeaky Sneaks|                65.0|      Mikey|http://mikee.com|\n",
      "|        Clothing|         8|          Cool Jeans|                45.0|  Leaveeyes|            null|\n",
      "|        Clothing|         9|        Denim Jacket|                60.0|  Leaveeyes|            null|\n",
      "|        Clothing|        10|      Leather Jacket|                95.0|  Leaveeyes|            null|\n",
      "+----------------+----------+--------------------+--------------------+-----------+----------------+\n",
      "only showing top 10 rows\n",
      "\n",
      "root\n",
      " |-- product_category: string (nullable = true)\n",
      " |-- product_id: long (nullable = true)\n",
      " |-- product_name: string (nullable = true)\n",
      " |-- product_retail_price: double (nullable = true)\n",
      " |-- vendor_name: string (nullable = true)\n",
      " |-- vendor_website: string (nullable = true)\n",
      "\n"
     ]
    }
   ],
   "source": [
    "prods = spark.read.json(\"s3a://json-samples/fudgemart-products.json\", multiLine=True)\n",
    "prods.show(10)\n",
    "prods.printSchema()"
   ]
  },
  {
   "cell_type": "markdown",
   "id": "85553271-8952-4124-bb9b-4114e588da2b",
   "metadata": {},
   "source": [
    "### Column Projections\n",
    "\n",
    "Use the `.select()` function for column projections. Here are three differen ways to project a column."
   ]
  },
  {
   "cell_type": "code",
   "execution_count": 167,
   "id": "5a4d4db0-755a-4c0c-bba1-9ad8c6063c7b",
   "metadata": {},
   "outputs": [
    {
     "name": "stdout",
     "output_type": "stream",
     "text": [
      "+--------------------+--------------------+--------------------+\n",
      "|        product_name|        product_name|        product_name|\n",
      "+--------------------+--------------------+--------------------+\n",
      "|Straight Claw Hammer|Straight Claw Hammer|Straight Claw Hammer|\n",
      "|       Sledge Hammer|       Sledge Hammer|       Sledge Hammer|\n",
      "|     Rip Claw Hammer|     Rip Claw Hammer|     Rip Claw Hammer|\n",
      "|         Dri-Fit Tee|         Dri-Fit Tee|         Dri-Fit Tee|\n",
      "|       Running Pants|       Running Pants|       Running Pants|\n",
      "|          Wool Socks|          Wool Socks|          Wool Socks|\n",
      "|      Squeaky Sneaks|      Squeaky Sneaks|      Squeaky Sneaks|\n",
      "|          Cool Jeans|          Cool Jeans|          Cool Jeans|\n",
      "|        Denim Jacket|        Denim Jacket|        Denim Jacket|\n",
      "|      Leather Jacket|      Leather Jacket|      Leather Jacket|\n",
      "+--------------------+--------------------+--------------------+\n",
      "only showing top 10 rows\n",
      "\n"
     ]
    }
   ],
   "source": [
    "prods.select(\"product_name\",prods.product_name, prods[\"product_name\"]).show(10)"
   ]
  },
  {
   "cell_type": "markdown",
   "id": "80a35482-8978-4049-acfa-426806126960",
   "metadata": {},
   "source": [
    "### Derived columns \n",
    "\n",
    "Use `.withColumn()` to derive a new column"
   ]
  },
  {
   "cell_type": "code",
   "execution_count": 170,
   "id": "431c1ea8-efc3-4974-bc70-2f107683774f",
   "metadata": {},
   "outputs": [
    {
     "name": "stdout",
     "output_type": "stream",
     "text": [
      "+----------------+----------+--------------------+--------------------+-----------+----------------+----------+\n",
      "|product_category|product_id|        product_name|product_retail_price|vendor_name|  vendor_website|new_column|\n",
      "+----------------+----------+--------------------+--------------------+-----------+----------------+----------+\n",
      "|        Hardware|         1|Straight Claw Hammer|               15.95|    Stanlee|            null|     10001|\n",
      "|        Hardware|         2|       Sledge Hammer|               21.95|    Stanlee|            null|     10002|\n",
      "|        Hardware|         3|     Rip Claw Hammer|               19.95|    Stanlee|            null|     10003|\n",
      "|        Clothing|         4|         Dri-Fit Tee|                20.0|      Mikey|http://mikee.com|     10004|\n",
      "|        Clothing|         5|       Running Pants|                35.0|      Mikey|http://mikee.com|     10005|\n",
      "|        Clothing|         6|          Wool Socks|                 8.0|      Mikey|http://mikee.com|     10006|\n",
      "|        Clothing|         7|      Squeaky Sneaks|                65.0|      Mikey|http://mikee.com|     10007|\n",
      "|        Clothing|         8|          Cool Jeans|                45.0|  Leaveeyes|            null|     10008|\n",
      "|        Clothing|         9|        Denim Jacket|                60.0|  Leaveeyes|            null|     10009|\n",
      "|        Clothing|        10|      Leather Jacket|                95.0|  Leaveeyes|            null|     10010|\n",
      "+----------------+----------+--------------------+--------------------+-----------+----------------+----------+\n",
      "only showing top 10 rows\n",
      "\n"
     ]
    }
   ],
   "source": [
    "prods.withColumn(\"new_column\", prods['product_id'] + 10000).show(10)"
   ]
  },
  {
   "cell_type": "markdown",
   "id": "30f901c7-ac5a-4ec7-bfb3-e2cbe086a3cc",
   "metadata": {},
   "source": [
    "This can be done with a user-defined function, too.\n",
    "\n",
    "- first create your python function\n",
    "- then register it as a Spark UDF (User-Defined Function) with appropriate Spark return type\n",
    "- invoke the function in the `withColumn()` call"
   ]
  },
  {
   "cell_type": "code",
   "execution_count": 171,
   "id": "f375a3ac-ad70-462d-b86b-83f06b6b5a2a",
   "metadata": {},
   "outputs": [
    {
     "name": "stdout",
     "output_type": "stream",
     "text": [
      "+--------------------+--------------------+--------------+\n",
      "|        product_name|product_retail_price|price_category|\n",
      "+--------------------+--------------------+--------------+\n",
      "|Straight Claw Hammer|               15.95|         cheap|\n",
      "|       Sledge Hammer|               21.95|      moderate|\n",
      "|     Rip Claw Hammer|               19.95|         cheap|\n",
      "|         Dri-Fit Tee|                20.0|      moderate|\n",
      "|       Running Pants|                35.0|      moderate|\n",
      "|          Wool Socks|                 8.0|         cheap|\n",
      "|      Squeaky Sneaks|                65.0|      moderate|\n",
      "|          Cool Jeans|                45.0|      moderate|\n",
      "|        Denim Jacket|                60.0|      moderate|\n",
      "|      Leather Jacket|                95.0|      moderate|\n",
      "+--------------------+--------------------+--------------+\n",
      "only showing top 10 rows\n",
      "\n"
     ]
    }
   ],
   "source": [
    "from pyspark.sql import functions as func\n",
    "from pyspark.sql.types import *\n",
    "\n",
    "def price_category(price):\n",
    "    if price < 20:\n",
    "        return \"cheap\"\n",
    "    elif price > 100:\n",
    "        return \"expensive\"\n",
    "    else:\n",
    "        return \"moderate\"\n",
    "\n",
    "price_category_func = func.udf(price_category, returnType=StringType() )\n",
    "\n",
    "prods.select('product_name','product_retail_price').withColumn('price_category', price_category_func(prods.product_retail_price)).show(10)\n",
    "    "
   ]
  },
  {
   "cell_type": "markdown",
   "id": "1a665554-09cb-4bbf-8830-fdc5e28ad0e0",
   "metadata": {},
   "source": [
    "### Projecting nested JSON Columns\n",
    "\n",
    "projecting nested JSON is simple use the dot operator `.` to navigate the heirarchy"
   ]
  },
  {
   "cell_type": "code",
   "execution_count": 172,
   "id": "2946c7c2-e66e-47f9-ac33-27f5e85f31c3",
   "metadata": {},
   "outputs": [
    {
     "name": "stdout",
     "output_type": "stream",
     "text": [
      "root\n",
      " |-- business_status: string (nullable = true)\n",
      " |-- geometry: struct (nullable = true)\n",
      " |    |-- location: struct (nullable = true)\n",
      " |    |    |-- lat: double (nullable = true)\n",
      " |    |    |-- lng: double (nullable = true)\n",
      " |    |-- viewport: struct (nullable = true)\n",
      " |    |    |-- northeast: struct (nullable = true)\n",
      " |    |    |    |-- lat: double (nullable = true)\n",
      " |    |    |    |-- lng: double (nullable = true)\n",
      " |    |    |-- southwest: struct (nullable = true)\n",
      " |    |    |    |-- lat: double (nullable = true)\n",
      " |    |    |    |-- lng: double (nullable = true)\n",
      " |-- icon: string (nullable = true)\n",
      " |-- icon_background_color: string (nullable = true)\n",
      " |-- icon_mask_base_uri: string (nullable = true)\n",
      " |-- name: string (nullable = true)\n",
      " |-- opening_hours: struct (nullable = true)\n",
      " |    |-- open_now: boolean (nullable = true)\n",
      " |-- photos: array (nullable = true)\n",
      " |    |-- element: struct (containsNull = true)\n",
      " |    |    |-- height: long (nullable = true)\n",
      " |    |    |-- html_attributions: array (nullable = true)\n",
      " |    |    |    |-- element: string (containsNull = true)\n",
      " |    |    |-- photo_reference: string (nullable = true)\n",
      " |    |    |-- width: long (nullable = true)\n",
      " |-- place_id: string (nullable = true)\n",
      " |-- plus_code: struct (nullable = true)\n",
      " |    |-- compound_code: string (nullable = true)\n",
      " |    |-- global_code: string (nullable = true)\n",
      " |-- price_level: long (nullable = true)\n",
      " |-- rating: double (nullable = true)\n",
      " |-- reference: string (nullable = true)\n",
      " |-- scope: string (nullable = true)\n",
      " |-- types: array (nullable = true)\n",
      " |    |-- element: string (containsNull = true)\n",
      " |-- user_ratings_total: long (nullable = true)\n",
      " |-- vicinity: string (nullable = true)\n",
      "\n"
     ]
    }
   ],
   "source": [
    "places = spark.read.json(\"s3a://json-samples/google-places.json\", multiLine=True)\n",
    "places.printSchema()"
   ]
  },
  {
   "cell_type": "code",
   "execution_count": 173,
   "id": "e08ea230-eca0-4781-9b60-e6d584c17103",
   "metadata": {},
   "outputs": [
    {
     "name": "stdout",
     "output_type": "stream",
     "text": [
      "+--------------------+-----------------+---------------------+--------------------+\n",
      "|                name|              lat|geometry.location.lng|               types|\n",
      "+--------------------+-----------------+---------------------+--------------------+\n",
      "|            Syracuse|       43.0481221|   -76.14742439999999|[locality, politi...|\n",
      "|Crowne Plaza Syra...|       43.0476078|          -76.1417642|[lodging, point_o...|\n",
      "|  The Parkview Hotel|       43.0476157|           -76.140986|[lodging, point_o...|\n",
      "|Jefferson Clinton...|       43.0472894|   -76.15385049999999|[lodging, point_o...|\n",
      "|Courtyard by Marr...|       43.0488846|          -76.1561175|[lodging, point_o...|\n",
      "|Quality Inn & Sui...|43.05264399999999|   -76.14681999999999|[lodging, point_o...|\n",
      "| Syracuse University|       43.0391534|          -76.1351158|[university, poin...|\n",
      "|Collegian Hotel &...|       43.0464172|   -76.13539879999999|[lodging, restaur...|\n",
      "|  Dinosaur Bar-B-Que|       43.0526411|   -76.15469379999999|[restaurant, food...|\n",
      "|Hotel Skyler Syra...|43.04396249999999|   -76.13607999999999|[lodging, point_o...|\n",
      "|Sheraton Syracuse...|43.04123120000001|          -76.1338203|[lodging, point_o...|\n",
      "|Syracuse Crunch H...|       43.0446639|          -76.1481366|[point_of_interes...|\n",
      "| Mulroy Civic Center|       43.0457297|          -76.1483396|[point_of_interes...|\n",
      "|     Crouse Hospital|       43.0414634|           -76.138599|[hospital, health...|\n",
      "|       Pastabilities|        43.048302|           -76.155406|[restaurant, food...|\n",
      "|US Social Securit...|        43.050228|           -76.154804|[local_government...|\n",
      "|Syracuse VA Medic...|43.03901020000001|          -76.1389683|[hospital, health...|\n",
      "|Dr. James W. Hols...|        43.042709|           -76.140511|[doctor, health, ...|\n",
      "|Cleary Lynn Marie MD|43.04229789999999|          -76.1395979|[doctor, health, ...|\n",
      "|            Eastside|43.03426049999999|          -76.1242405|[neighborhood, po...|\n",
      "+--------------------+-----------------+---------------------+--------------------+\n",
      "\n"
     ]
    }
   ],
   "source": [
    "# get some columns!\n",
    "places.select('name','geometry.location.lat',places.geometry.location.lng, places['types']).show()"
   ]
  },
  {
   "cell_type": "markdown",
   "id": "36e53852-1bfe-40b7-aee6-ab72fd93a3d6",
   "metadata": {},
   "source": [
    "### Projecting nested JSON Columns of Arrays\n",
    "\n",
    "we need to use `explode()` to deal with nested lists of multiple values"
   ]
  },
  {
   "cell_type": "code",
   "execution_count": 1,
   "id": "833a21f4-057a-4f5c-8d93-0c90b0f3c906",
   "metadata": {},
   "outputs": [
    {
     "ename": "NameError",
     "evalue": "name 'places' is not defined",
     "output_type": "error",
     "traceback": [
      "\u001b[0;31m---------------------------------------------------------------------------\u001b[0m",
      "\u001b[0;31mNameError\u001b[0m                                 Traceback (most recent call last)",
      "\u001b[0;32m/tmp/ipykernel_92/2447821294.py\u001b[0m in \u001b[0;36m<module>\u001b[0;34m\u001b[0m\n\u001b[1;32m      1\u001b[0m \u001b[0;32mfrom\u001b[0m \u001b[0mpyspark\u001b[0m\u001b[0;34m.\u001b[0m\u001b[0msql\u001b[0m\u001b[0;34m.\u001b[0m\u001b[0mfunctions\u001b[0m \u001b[0;32mimport\u001b[0m \u001b[0mexplode\u001b[0m\u001b[0;34m,\u001b[0m\u001b[0msplit\u001b[0m\u001b[0;34m\u001b[0m\u001b[0;34m\u001b[0m\u001b[0m\n\u001b[0;32m----> 2\u001b[0;31m \u001b[0mplaces\u001b[0m\u001b[0;34m.\u001b[0m\u001b[0mselect\u001b[0m\u001b[0;34m(\u001b[0m\u001b[0;34m'name'\u001b[0m\u001b[0;34m,\u001b[0m\u001b[0mexplode\u001b[0m\u001b[0;34m(\u001b[0m\u001b[0;34m\"photos\"\u001b[0m\u001b[0;34m)\u001b[0m\u001b[0;34m)\u001b[0m\u001b[0;34m.\u001b[0m\u001b[0mprintSchema\u001b[0m\u001b[0;34m(\u001b[0m\u001b[0;34m)\u001b[0m\u001b[0;34m\u001b[0m\u001b[0;34m\u001b[0m\u001b[0m\n\u001b[0m\u001b[1;32m      3\u001b[0m \u001b[0mplaces\u001b[0m\u001b[0;34m.\u001b[0m\u001b[0mselect\u001b[0m\u001b[0;34m(\u001b[0m\u001b[0;34m'name'\u001b[0m\u001b[0;34m,\u001b[0m\u001b[0mexplode\u001b[0m\u001b[0;34m(\u001b[0m\u001b[0;34m\"photos\"\u001b[0m\u001b[0;34m)\u001b[0m\u001b[0;34m)\u001b[0m\u001b[0;34m.\u001b[0m\u001b[0mselect\u001b[0m\u001b[0;34m(\u001b[0m\u001b[0;34m\"name\"\u001b[0m\u001b[0;34m,\u001b[0m\u001b[0;34m\"col.photo_reference\"\u001b[0m\u001b[0;34m)\u001b[0m\u001b[0;34m.\u001b[0m\u001b[0mshow\u001b[0m\u001b[0;34m(\u001b[0m\u001b[0;34m)\u001b[0m\u001b[0;34m\u001b[0m\u001b[0;34m\u001b[0m\u001b[0m\n",
      "\u001b[0;31mNameError\u001b[0m: name 'places' is not defined"
     ]
    }
   ],
   "source": [
    "from pyspark.sql.functions import explode,split\n",
    "places.select('name',explode(\"photos\")).printSchema()\n",
    "places.select('name',explode(\"photos\")).select(\"name\",\"col.photo_reference\").show()"
   ]
  },
  {
   "cell_type": "markdown",
   "id": "e602a14e-af36-443e-9f27-94d20e5bbd84",
   "metadata": {},
   "source": [
    "### Row Selections\n",
    "\n",
    "Filter rows using `.filter()`\n"
   ]
  },
  {
   "cell_type": "code",
   "execution_count": 177,
   "id": "9908c29f-43c7-40e6-a613-ac1df84e76e3",
   "metadata": {},
   "outputs": [
    {
     "name": "stdout",
     "output_type": "stream",
     "text": [
      "+----------------+----------+--------------------+--------------------+------------------+--------------+\n",
      "|product_category|product_id|        product_name|product_retail_price|       vendor_name|vendor_website|\n",
      "+----------------+----------+--------------------+--------------------+------------------+--------------+\n",
      "|        Hardware|         1|Straight Claw Hammer|               15.95|           Stanlee|          null|\n",
      "|        Hardware|         2|       Sledge Hammer|               21.95|           Stanlee|          null|\n",
      "|        Hardware|         3|     Rip Claw Hammer|               19.95|           Stanlee|          null|\n",
      "|        Hardware|        29|18v Drill Driver Set|                90.0|           Stanlee|          null|\n",
      "|        Hardware|        30|19.2v Drill Drive...|                90.0|Blackened-Deckhand|          null|\n",
      "|        Hardware|        31|       10\" Miter Saw|               200.0|Blackened-Deckhand|          null|\n",
      "|        Hardware|        32|         Lazer Level|                45.0|Blackened-Deckhand|          null|\n",
      "|        Hardware|        33|           Table Saw|               290.0|Blackened-Deckhand|          null|\n",
      "|        Hardware|        34|        Power Washer|               290.0|Blackened-Deckhand|          null|\n",
      "|        Hardware|        35|     Cold Chisel Set|                10.0|           Stanlee|          null|\n",
      "+----------------+----------+--------------------+--------------------+------------------+--------------+\n",
      "only showing top 10 rows\n",
      "\n"
     ]
    }
   ],
   "source": [
    "prods.filter(\"product_category='Hardware'\").show(10)"
   ]
  },
  {
   "cell_type": "code",
   "execution_count": 178,
   "id": "9f2c1be4-53d3-45cf-a824-dbdad77ccf2f",
   "metadata": {},
   "outputs": [
    {
     "name": "stdout",
     "output_type": "stream",
     "text": [
      "+----------------+----------+--------------------+--------------------+------------------+--------------+\n",
      "|product_category|product_id|        product_name|product_retail_price|       vendor_name|vendor_website|\n",
      "+----------------+----------+--------------------+--------------------+------------------+--------------+\n",
      "|        Hardware|         1|Straight Claw Hammer|               15.95|           Stanlee|          null|\n",
      "|        Hardware|         2|       Sledge Hammer|               21.95|           Stanlee|          null|\n",
      "|        Hardware|         3|     Rip Claw Hammer|               19.95|           Stanlee|          null|\n",
      "|        Hardware|        29|18v Drill Driver Set|                90.0|           Stanlee|          null|\n",
      "|        Hardware|        30|19.2v Drill Drive...|                90.0|Blackened-Deckhand|          null|\n",
      "|        Hardware|        31|       10\" Miter Saw|               200.0|Blackened-Deckhand|          null|\n",
      "|        Hardware|        32|         Lazer Level|                45.0|Blackened-Deckhand|          null|\n",
      "|        Hardware|        33|           Table Saw|               290.0|Blackened-Deckhand|          null|\n",
      "|        Hardware|        34|        Power Washer|               290.0|Blackened-Deckhand|          null|\n",
      "|        Hardware|        35|     Cold Chisel Set|                10.0|           Stanlee|          null|\n",
      "+----------------+----------+--------------------+--------------------+------------------+--------------+\n",
      "only showing top 10 rows\n",
      "\n"
     ]
    }
   ],
   "source": [
    "prods.filter(prods.product_category == 'Hardware').show(10)"
   ]
  },
  {
   "cell_type": "code",
   "execution_count": 179,
   "id": "119f4bba-c879-44f1-97a5-3afa947d9472",
   "metadata": {},
   "outputs": [
    {
     "name": "stdout",
     "output_type": "stream",
     "text": [
      "+----------------+----------+--------------------+--------------------+-----------+--------------+\n",
      "|product_category|product_id|        product_name|product_retail_price|vendor_name|vendor_website|\n",
      "+----------------+----------+--------------------+--------------------+-----------+--------------+\n",
      "|        Hardware|         1|Straight Claw Hammer|               15.95|    Stanlee|          null|\n",
      "|        Hardware|         2|       Sledge Hammer|               21.95|    Stanlee|          null|\n",
      "|        Hardware|         3|     Rip Claw Hammer|               19.95|    Stanlee|          null|\n",
      "|        Hardware|        29|18v Drill Driver Set|                90.0|    Stanlee|          null|\n",
      "|        Hardware|        35|     Cold Chisel Set|                10.0|    Stanlee|          null|\n",
      "|        Hardware|        36|     Screwdriver Set|                10.0|    Stanlee|          null|\n",
      "|        Hardware|        37|       Drill Bit Set|                25.0|    Stanlee|          null|\n",
      "+----------------+----------+--------------------+--------------------+-----------+--------------+\n",
      "\n"
     ]
    }
   ],
   "source": [
    "cat = 'Hardware'\n",
    "vend = 'Stanlee'\n",
    "prods.filter(f\"product_category='{cat}' and vendor_name='{vend}'\").show(10)"
   ]
  },
  {
   "cell_type": "code",
   "execution_count": 182,
   "id": "819f9ba4-4bf3-4c33-abbf-9036bdefdddf",
   "metadata": {},
   "outputs": [
    {
     "name": "stdout",
     "output_type": "stream",
     "text": [
      "+----------------+----------+--------------------+--------------------+-----------+--------------+\n",
      "|product_category|product_id|        product_name|product_retail_price|vendor_name|vendor_website|\n",
      "+----------------+----------+--------------------+--------------------+-----------+--------------+\n",
      "|        Hardware|         1|Straight Claw Hammer|               15.95|    Stanlee|          null|\n",
      "|        Hardware|         2|       Sledge Hammer|               21.95|    Stanlee|          null|\n",
      "|        Hardware|         3|     Rip Claw Hammer|               19.95|    Stanlee|          null|\n",
      "|        Hardware|        29|18v Drill Driver Set|                90.0|    Stanlee|          null|\n",
      "|        Hardware|        35|     Cold Chisel Set|                10.0|    Stanlee|          null|\n",
      "|        Hardware|        36|     Screwdriver Set|                10.0|    Stanlee|          null|\n",
      "|        Hardware|        37|       Drill Bit Set|                25.0|    Stanlee|          null|\n",
      "+----------------+----------+--------------------+--------------------+-----------+--------------+\n",
      "\n"
     ]
    }
   ],
   "source": [
    "cat = 'Hardware'\n",
    "vend = 'Stanlee'\n",
    "prods.filter((prods.product_category==cat) & (prods.vendor_name ==vend)).show(10)"
   ]
  },
  {
   "cell_type": "markdown",
   "id": "616f8ee9-1ae8-441c-8960-6164b5d2eb60",
   "metadata": {},
   "source": [
    "### Grouping and Aggregate functions\n",
    "\n",
    "When you use a  `groupBy()` function, you must include an aggregate like`sum(), min(), max(), count(), avg(), or agg()`\n"
   ]
  },
  {
   "cell_type": "code",
   "execution_count": 184,
   "id": "60997f47-dcf7-46c2-a4ef-907674b64fcd",
   "metadata": {},
   "outputs": [
    {
     "name": "stdout",
     "output_type": "stream",
     "text": [
      "+----------------+-------------------------+\n",
      "|product_category|avg(product_retail_price)|\n",
      "+----------------+-------------------------+\n",
      "|  Sporting Goods|                     58.3|\n",
      "|      Housewares|                     25.0|\n",
      "|     Electronics|        458.8181818181818|\n",
      "|        Clothing|       36.785714285714285|\n",
      "|        Hardware|       104.44999999999999|\n",
      "+----------------+-------------------------+\n",
      "\n"
     ]
    }
   ],
   "source": [
    "prods.groupBy(\"product_category\").avg(\"product_retail_price\").show(10)"
   ]
  },
  {
   "cell_type": "code",
   "execution_count": 205,
   "id": "ddfa8969-835c-49bf-b99c-92980e870d9d",
   "metadata": {},
   "outputs": [
    {
     "name": "stdout",
     "output_type": "stream",
     "text": [
      "+------------------+----------------+------------------+-----+\n",
      "|       vendor_name|product_category|         avg_price|count|\n",
      "+------------------+----------------+------------------+-----+\n",
      "|           Stanlee|        Clothing|              23.0|    2|\n",
      "|         Leaveeyes|        Clothing|              56.0|    4|\n",
      "|             Mikey|        Clothing|              32.0|    4|\n",
      "|           Weebock|  Sporting Goods|              95.0|    3|\n",
      "|           Stanlee|        Hardware|             27.55|    7|\n",
      "|           Weebock|        Clothing|             29.25|    4|\n",
      "|             Soney|     Electronics|             757.5|    6|\n",
      "|Blackened-Deckhand|        Hardware|194.16666666666666|    6|\n",
      "|Blackened-Deckhand|      Housewares|              25.0|    5|\n",
      "|        Mikerosoft|     Electronics|             100.4|    5|\n",
      "+------------------+----------------+------------------+-----+\n",
      "only showing top 10 rows\n",
      "\n"
     ]
    }
   ],
   "source": [
    "from pyspark.sql.functions import sum,avg,max,min,mean,count\n",
    "\n",
    "prods.groupBy(prods.vendor_name, \"product_category\") \\\n",
    "    .agg(  avg(\"product_retail_price\").alias(\"avg_price\"), count(\"*\").alias(\"count\")   ).show(10)"
   ]
  },
  {
   "cell_type": "markdown",
   "id": "5a8d2631-79cf-47d5-869b-33063dfe8ac7",
   "metadata": {},
   "source": [
    "### Combining dataframes \n",
    "\n",
    "You can use the  `union()` function to merge dataframes by row. Both data frames must have the same number of columns.\n"
   ]
  },
  {
   "cell_type": "code",
   "execution_count": 209,
   "id": "37e2a6e4-ba14-47cc-bbac-5674c3086857",
   "metadata": {},
   "outputs": [
    {
     "name": "stdout",
     "output_type": "stream",
     "text": [
      "+----------------+----------+------------------+--------------------+-----------+--------------------+\n",
      "|product_category|product_id|      product_name|product_retail_price|vendor_name|      vendor_website|\n",
      "+----------------+----------+------------------+--------------------+-----------+--------------------+\n",
      "|     Electronics|        24|         PC Webcam|                20.0| Mikerosoft|http://www.mikero...|\n",
      "|     Electronics|        25|    Computer Mouse|                10.0| Mikerosoft|http://www.mikero...|\n",
      "|     Electronics|        26|Ergonomic Keyboard|                22.0| Mikerosoft|http://www.mikero...|\n",
      "|     Electronics|        27|   20\" LCD Monitor|               300.0| Mikerosoft|http://www.mikero...|\n",
      "|     Electronics|        28|   17\" LCD Monitor|               150.0| Mikerosoft|http://www.mikero...|\n",
      "|        Clothing|         4|       Dri-Fit Tee|                20.0|      Mikey|    http://mikee.com|\n",
      "|        Clothing|         5|     Running Pants|                35.0|      Mikey|    http://mikee.com|\n",
      "|        Clothing|         6|        Wool Socks|                 8.0|      Mikey|    http://mikee.com|\n",
      "|        Clothing|         7|    Squeaky Sneaks|                65.0|      Mikey|    http://mikee.com|\n",
      "|  Sporting Goods|        42|     Tennis Racket|                50.0|      Mikey|    http://mikee.com|\n",
      "+----------------+----------+------------------+--------------------+-----------+--------------------+\n",
      "only showing top 10 rows\n",
      "\n"
     ]
    }
   ],
   "source": [
    "prod1 = prods.filter(\"vendor_name='Mikerosoft'\")\n",
    "prod2 = prods.filter(\"vendor_name='Mikey'\")\n",
    "prod1.union(prod2).show(10)"
   ]
  },
  {
   "cell_type": "markdown",
   "id": "2b21c844-d9cb-4e66-93b4-57bdd3380918",
   "metadata": {},
   "source": [
    "### Join dataframes on matching columns\n",
    "\n",
    "You can use the  `join()` function to match rows on a common column, similar to an SQL join.\n",
    "\n",
    "arguments:\n",
    "\n",
    "- `other`: Right side of the join\n",
    "- `on`: a string for the join column name\n",
    "- `how`: default inner. Must be one of `inner, cross, outer,full, full_outer, left, left_outer, right, right_outer,left_semi, left_anti`"
   ]
  },
  {
   "cell_type": "code",
   "execution_count": 215,
   "id": "7124ee5d-f261-4708-abe4-c81428a48a8f",
   "metadata": {},
   "outputs": [
    {
     "name": "stdout",
     "output_type": "stream",
     "text": [
      "+----------------+----------+--------------------+--------------------+-----------+----------------+----------------+-------------------------+\n",
      "|product_category|product_id|        product_name|product_retail_price|vendor_name|  vendor_website|product_category|avg(product_retail_price)|\n",
      "+----------------+----------+--------------------+--------------------+-----------+----------------+----------------+-------------------------+\n",
      "|        Hardware|         1|Straight Claw Hammer|               15.95|    Stanlee|            null|        Hardware|       104.44999999999999|\n",
      "|        Hardware|         2|       Sledge Hammer|               21.95|    Stanlee|            null|        Hardware|       104.44999999999999|\n",
      "|        Hardware|         3|     Rip Claw Hammer|               19.95|    Stanlee|            null|        Hardware|       104.44999999999999|\n",
      "|        Clothing|         4|         Dri-Fit Tee|                20.0|      Mikey|http://mikee.com|        Clothing|       36.785714285714285|\n",
      "|        Clothing|         5|       Running Pants|                35.0|      Mikey|http://mikee.com|        Clothing|       36.785714285714285|\n",
      "|        Clothing|         6|          Wool Socks|                 8.0|      Mikey|http://mikee.com|        Clothing|       36.785714285714285|\n",
      "|        Clothing|         7|      Squeaky Sneaks|                65.0|      Mikey|http://mikee.com|        Clothing|       36.785714285714285|\n",
      "|        Clothing|         8|          Cool Jeans|                45.0|  Leaveeyes|            null|        Clothing|       36.785714285714285|\n",
      "|        Clothing|         9|        Denim Jacket|                60.0|  Leaveeyes|            null|        Clothing|       36.785714285714285|\n",
      "|        Clothing|        10|      Leather Jacket|                95.0|  Leaveeyes|            null|        Clothing|       36.785714285714285|\n",
      "+----------------+----------+--------------------+--------------------+-----------+----------------+----------------+-------------------------+\n",
      "only showing top 10 rows\n",
      "\n"
     ]
    }
   ],
   "source": [
    "avg_prices = prods.groupBy(\"product_category\").avg(\"product_retail_price\")\n",
    "joined = prods.join(avg_prices, avg_prices.product_category == prods.product_category, how=\"inner\")\n",
    "joined.show(10)\n"
   ]
  },
  {
   "cell_type": "markdown",
   "id": "8ff9db85-3c6b-4efe-89b2-aed60fe6ad4b",
   "metadata": {},
   "source": [
    "### Sorting dataframes \n",
    "\n",
    "You can use the  `sort()` function to sort by columns."
   ]
  },
  {
   "cell_type": "code",
   "execution_count": 219,
   "id": "dee9813d-e7f6-4287-9902-505e044b4a3a",
   "metadata": {},
   "outputs": [
    {
     "name": "stdout",
     "output_type": "stream",
     "text": [
      "+----------------+----------+------------------+--------------------+------------------+--------------------+\n",
      "|product_category|product_id|      product_name|product_retail_price|       vendor_name|      vendor_website|\n",
      "+----------------+----------+------------------+--------------------+------------------+--------------------+\n",
      "|      Housewares|        53|           Blender|                45.0|Blackened-Deckhand|                null|\n",
      "|      Housewares|        52|        Steam Iron|                15.0|Blackened-Deckhand|                null|\n",
      "|  Sporting Goods|        51|       Soccer Ball|                45.0|             Mikey|    http://mikee.com|\n",
      "|  Sporting Goods|        50|       Sport Cycle|               255.0|           Weebock|http://www.weeboc...|\n",
      "|  Sporting Goods|        49|         Pedometer|                10.0|           Weebock|http://www.weeboc...|\n",
      "|  Sporting Goods|        48|     Heart Monitor|                20.0|           Weebock|http://www.weeboc...|\n",
      "|  Sporting Goods|        47|    Baseball Glove|                75.0|             Mikey|    http://mikee.com|\n",
      "|  Sporting Goods|        46|     Pro. Football|                65.0|             Mikey|    http://mikee.com|\n",
      "|  Sporting Goods|        45|12 Pack Golf Balls|                20.0|             Mikey|    http://mikee.com|\n",
      "|  Sporting Goods|        44|        Basketball|                35.0|             Mikey|    http://mikee.com|\n",
      "+----------------+----------+------------------+--------------------+------------------+--------------------+\n",
      "only showing top 10 rows\n",
      "\n"
     ]
    }
   ],
   "source": [
    "prods.sort(\"product_id\", ascending =False).show(10)"
   ]
  },
  {
   "cell_type": "markdown",
   "id": "54e0d091-bf89-41f5-8bf5-634f59f7b96b",
   "metadata": {},
   "source": [
    "## Spark SQL \n",
    "\n",
    "Spark allows you to complete transformations with SQL by creating table objects. The lifetime of these table objects are tied to the spark session."
   ]
  },
  {
   "cell_type": "code",
   "execution_count": 220,
   "id": "d8114e9a-e617-4ad2-843f-fd328e5e13ed",
   "metadata": {},
   "outputs": [
    {
     "name": "stdout",
     "output_type": "stream",
     "text": [
      "+--------------------+-----+--------------------+\n",
      "|                City|State|             Summary|\n",
      "+--------------------+-----+--------------------+\n",
      "|Salunga/Landisvil...|   PA|Pennsylvania tria...|\n",
      "|                York|   PA|Myself and 2 frie...|\n",
      "|        Tannersville|   PA|Bright ball of li...|\n",
      "|        Tannersville|   PA|Blue/white orb sp...|\n",
      "|              DuBois|   PA|Increase from sof...|\n",
      "|          Washington|   PA|I saw a bright li...|\n",
      "|           Dillsburg|   PA|3 motionless, bri...|\n",
      "|  Lower Mount Bethel|   PA|Triangular craft ...|\n",
      "|             Hanover|   PA|6 red lights movi...|\n",
      "|         Churchville|   PA|After hearing hel...|\n",
      "|        Philadelphia|   PA|4 orange lights s...|\n",
      "|         Tunkhannock|   PA|On a ride home af...|\n",
      "|        Philadelphia|   PA|((HOAX??)) One or...|\n",
      "|            Starview|   PA|Bright flash, fol...|\n",
      "|         Morrisville|   PA|Red Lights triang...|\n",
      "|            Fredonia|   PA|3 lights, non-bli...|\n",
      "|           Allentown|   PA|2 twin spheres of...|\n",
      "|           Claysburg|   PA|Two satellite-loo...|\n",
      "|          Doylestown|   PA|Two bright lights...|\n",
      "|           Allentown|   PA|Yellow beam of li...|\n",
      "+--------------------+-----+--------------------+\n",
      "only showing top 20 rows\n",
      "\n"
     ]
    }
   ],
   "source": [
    "ufo = spark.read.csv(\"s3a://ufo-sightings/*.csv\",header=True, inferSchema=True)\n",
    "ufo.createOrReplaceTempView(\"ufo_table\")\n",
    "spark.sql(\"select City, State, Summary from ufo_table where State='PA'\").show()"
   ]
  },
  {
   "cell_type": "markdown",
   "id": "53b4b7f1-3ceb-410d-beb3-30ff0927c6b7",
   "metadata": {},
   "source": [
    "You can see all the tables in your spark session:"
   ]
  },
  {
   "cell_type": "code",
   "execution_count": 126,
   "id": "5bd8ebc2-8a81-4377-8785-d1f0e88096ab",
   "metadata": {},
   "outputs": [
    {
     "data": {
      "text/plain": [
       "[Table(name='ufo_table', database=None, description=None, tableType='TEMPORARY', isTemporary=True),\n",
       " Table(name='ufos', database=None, description=None, tableType='TEMPORARY', isTemporary=True)]"
      ]
     },
     "execution_count": 126,
     "metadata": {},
     "output_type": "execute_result"
    }
   ],
   "source": [
    "spark.catalog.listTables()"
   ]
  },
  {
   "cell_type": "code",
   "execution_count": 221,
   "id": "8c55982f-a505-4a39-b7e3-56f2ef31d4cb",
   "metadata": {},
   "outputs": [
    {
     "name": "stdout",
     "output_type": "stream",
     "text": [
      "+-------------+--------------------+-----+--------+-------------+--------------------+--------+\n",
      "|  Date / Time|                City|State|   Shape|     Duration|             Summary|  Posted|\n",
      "+-------------+--------------------+-----+--------+-------------+--------------------+--------+\n",
      "|2/29/16 23:45|        Harbor Beach|   MI|   Light|     1 minute|Yellow/white ball...|3/4/2016|\n",
      "|2/29/16 23:30|           Sebastian|   FL|Triangle|20-40 minutes|6 low flying craf...|3/4/2016|\n",
      "|2/29/16 23:00|Salunga/Landisvil...|   PA|Triangle| 5-15 minutes|Pennsylvania tria...|3/4/2016|\n",
      "|2/29/16 22:00|                York|   PA|Triangle|   30 minutes|Myself and 2 frie...|3/4/2016|\n",
      "|2/29/16 21:35|              Joliet|   IL| Unknown|   10 minutes|At approximately ...|3/4/2016|\n",
      "|2/29/16 21:00|London (Buckingha...| null|Triangle|   45 minutes|Black triangle, n...|4/1/2016|\n",
      "|2/29/16 20:45|  Port Hope (Canada)|   ON|   Light|   20 minutes|Strange glowing l...|3/4/2016|\n",
      "|2/29/16 20:29|       Warner Robins|   GA|Fireball|    2 minutes|There were severa...|3/4/2016|\n",
      "|2/29/16 19:50|              Athens|   GA|   Other|  Few seconds|Object with a lin...|3/4/2016|\n",
      "|2/29/16 19:30|             Clinton|   MO| Unknown|   20 minutes|Orange low level ...|3/4/2016|\n",
      "+-------------+--------------------+-----+--------+-------------+--------------------+--------+\n",
      "only showing top 10 rows\n",
      "\n",
      "+-------------+--------------------+-----+--------+-------------+--------------------+--------+\n",
      "|  Date / Time|                City|State|   Shape|     Duration|             Summary|  Posted|\n",
      "+-------------+--------------------+-----+--------+-------------+--------------------+--------+\n",
      "|2/29/16 23:45|        Harbor Beach|   MI|   Light|     1 minute|Yellow/white ball...|3/4/2016|\n",
      "|2/29/16 23:30|           Sebastian|   FL|Triangle|20-40 minutes|6 low flying craf...|3/4/2016|\n",
      "|2/29/16 23:00|Salunga/Landisvil...|   PA|Triangle| 5-15 minutes|Pennsylvania tria...|3/4/2016|\n",
      "|2/29/16 22:00|                York|   PA|Triangle|   30 minutes|Myself and 2 frie...|3/4/2016|\n",
      "|2/29/16 21:35|              Joliet|   IL| Unknown|   10 minutes|At approximately ...|3/4/2016|\n",
      "|2/29/16 21:00|London (Buckingha...| null|Triangle|   45 minutes|Black triangle, n...|4/1/2016|\n",
      "|2/29/16 20:45|  Port Hope (Canada)|   ON|   Light|   20 minutes|Strange glowing l...|3/4/2016|\n",
      "|2/29/16 20:29|       Warner Robins|   GA|Fireball|    2 minutes|There were severa...|3/4/2016|\n",
      "|2/29/16 19:50|              Athens|   GA|   Other|  Few seconds|Object with a lin...|3/4/2016|\n",
      "|2/29/16 19:30|             Clinton|   MO| Unknown|   20 minutes|Orange low level ...|3/4/2016|\n",
      "+-------------+--------------------+-----+--------+-------------+--------------------+--------+\n",
      "only showing top 10 rows\n",
      "\n"
     ]
    }
   ],
   "source": [
    "# Lots of ways to turn the table back into a dataframe\n",
    "ufo2 = spark.read.table(\"ufo_table\")\n",
    "ufo2.show(10)\n",
    "\n",
    "# Obviously slower...\n",
    "spark.sql(\"select * from ufo_table\").show(10)"
   ]
  },
  {
   "cell_type": "markdown",
   "id": "214b8a72-25b1-4fe9-95fe-d3a496c5705f",
   "metadata": {},
   "source": [
    "REALLY COMPLEX SQL IS SUPPORTED!!!"
   ]
  },
  {
   "cell_type": "code",
   "execution_count": 251,
   "id": "ec8aca4a-347b-4689-8499-3ca226ad8562",
   "metadata": {},
   "outputs": [
    {
     "name": "stdout",
     "output_type": "stream",
     "text": [
      "+----------------+--------------------+--------------------+------------------+-------------------+\n",
      "|product_category|        product_name|product_retail_price|  avg_retail_price|difference_in_price|\n",
      "+----------------+--------------------+--------------------+------------------+-------------------+\n",
      "|        Hardware|Straight Claw Hammer|               15.95|104.44999999999999| -88.49999999999999|\n",
      "|        Hardware|       Sledge Hammer|               21.95|104.44999999999999| -82.49999999999999|\n",
      "|        Hardware|     Rip Claw Hammer|               19.95|104.44999999999999| -84.49999999999999|\n",
      "|        Clothing|         Dri-Fit Tee|                20.0|36.785714285714285|-16.785714285714285|\n",
      "|        Clothing|       Running Pants|                35.0|36.785714285714285|-1.7857142857142847|\n",
      "|        Clothing|          Wool Socks|                 8.0|36.785714285714285|-28.785714285714285|\n",
      "|        Clothing|      Squeaky Sneaks|                65.0|36.785714285714285| 28.214285714285715|\n",
      "|        Clothing|          Cool Jeans|                45.0|36.785714285714285|  8.214285714285715|\n",
      "|        Clothing|        Denim Jacket|                60.0|36.785714285714285| 23.214285714285715|\n",
      "|        Clothing|      Leather Jacket|                95.0|36.785714285714285| 58.214285714285715|\n",
      "+----------------+--------------------+--------------------+------------------+-------------------+\n",
      "only showing top 10 rows\n",
      "\n"
     ]
    }
   ],
   "source": [
    "prods.createOrReplaceTempView(\"products_table\")\n",
    "avg_prices = prods.groupBy(\"product_category\").avg(\"product_retail_price\").withColumnRenamed(\"avg(product_retail_price)\",\"avg_retail_price\")\n",
    "avg_prices.createOrReplaceTempView(\"products_avg_prices_table\")\n",
    "sql_text = '''\n",
    "select p.product_category, p.product_name, p.product_retail_price, ap.avg_retail_price, product_retail_price-avg_retail_price as difference_in_price\n",
    "    from products_table p\n",
    "        join products_avg_prices_table ap \n",
    "            on p.product_category = ap.product_category\n",
    "    where p.product_category in ('Hardware','Clothing')\n",
    "'''\n",
    "df_result = spark.sql(sql_text)\n",
    "df_result.show(10)"
   ]
  },
  {
   "cell_type": "markdown",
   "id": "47ff40a7-37ac-434f-a12c-a3b86552b5c4",
   "metadata": {},
   "source": [
    "## Writing Data with Spark\n",
    "\n",
    "With yoru transforms complete you can write data an DataFrame in a variety of formats:\n",
    "    \n",
    "- `df.write.csv` = csv / delimitied\n",
    "- `df.write.json` = JSON\n",
    "- `df.write.orc` = ORC (Optimized Row-Column) File Format with schema\n",
    "- `df.write.parquet` = Parquet File format - efficient and stores schema with data.\n",
    "\n",
    "\n",
    "Files are written to a folder... the \"Hadoop Way\"\n"
   ]
  },
  {
   "cell_type": "code",
   "execution_count": 256,
   "id": "28f2718e-1dd7-411c-ba95-e4924554fb1e",
   "metadata": {},
   "outputs": [],
   "source": [
    "#write locally - check your work folder\n",
    "df_result.write.csv('example.csv', mode = 'overwrite')\n",
    "df_result.write.parquet(\"example.parquet\", mode = 'overwrite')"
   ]
  },
  {
   "cell_type": "code",
   "execution_count": 259,
   "id": "7955c6fb-01b4-4500-8abc-3b6b5f8c29f3",
   "metadata": {},
   "outputs": [],
   "source": [
    "# Write to S3 Like Block Storage \"demo-bucket\"\n",
    "df_result.write.parquet(\"s3a://demo-bucket/example.parquet\",mode='overwrite')"
   ]
  },
  {
   "cell_type": "code",
   "execution_count": 261,
   "id": "27134e98-075b-4868-9a27-f3a65fda9e92",
   "metadata": {},
   "outputs": [
    {
     "data": {
      "text/html": [
       "<div>\n",
       "<style scoped>\n",
       "    .dataframe tbody tr th:only-of-type {\n",
       "        vertical-align: middle;\n",
       "    }\n",
       "\n",
       "    .dataframe tbody tr th {\n",
       "        vertical-align: top;\n",
       "    }\n",
       "\n",
       "    .dataframe thead th {\n",
       "        text-align: right;\n",
       "    }\n",
       "</style>\n",
       "<table border=\"1\" class=\"dataframe\">\n",
       "  <thead>\n",
       "    <tr style=\"text-align: right;\">\n",
       "      <th></th>\n",
       "      <th>product_category</th>\n",
       "      <th>product_name</th>\n",
       "      <th>product_retail_price</th>\n",
       "      <th>avg_retail_price</th>\n",
       "      <th>difference_in_price</th>\n",
       "    </tr>\n",
       "  </thead>\n",
       "  <tbody>\n",
       "    <tr>\n",
       "      <th>0</th>\n",
       "      <td>Hardware</td>\n",
       "      <td>Straight Claw Hammer</td>\n",
       "      <td>15.95</td>\n",
       "      <td>104.450000</td>\n",
       "      <td>-88.500000</td>\n",
       "    </tr>\n",
       "    <tr>\n",
       "      <th>1</th>\n",
       "      <td>Hardware</td>\n",
       "      <td>Sledge Hammer</td>\n",
       "      <td>21.95</td>\n",
       "      <td>104.450000</td>\n",
       "      <td>-82.500000</td>\n",
       "    </tr>\n",
       "    <tr>\n",
       "      <th>2</th>\n",
       "      <td>Hardware</td>\n",
       "      <td>Rip Claw Hammer</td>\n",
       "      <td>19.95</td>\n",
       "      <td>104.450000</td>\n",
       "      <td>-84.500000</td>\n",
       "    </tr>\n",
       "    <tr>\n",
       "      <th>3</th>\n",
       "      <td>Clothing</td>\n",
       "      <td>Dri-Fit Tee</td>\n",
       "      <td>20.00</td>\n",
       "      <td>36.785714</td>\n",
       "      <td>-16.785714</td>\n",
       "    </tr>\n",
       "    <tr>\n",
       "      <th>4</th>\n",
       "      <td>Clothing</td>\n",
       "      <td>Running Pants</td>\n",
       "      <td>35.00</td>\n",
       "      <td>36.785714</td>\n",
       "      <td>-1.785714</td>\n",
       "    </tr>\n",
       "    <tr>\n",
       "      <th>5</th>\n",
       "      <td>Clothing</td>\n",
       "      <td>Wool Socks</td>\n",
       "      <td>8.00</td>\n",
       "      <td>36.785714</td>\n",
       "      <td>-28.785714</td>\n",
       "    </tr>\n",
       "    <tr>\n",
       "      <th>6</th>\n",
       "      <td>Clothing</td>\n",
       "      <td>Squeaky Sneaks</td>\n",
       "      <td>65.00</td>\n",
       "      <td>36.785714</td>\n",
       "      <td>28.214286</td>\n",
       "    </tr>\n",
       "    <tr>\n",
       "      <th>7</th>\n",
       "      <td>Clothing</td>\n",
       "      <td>Cool Jeans</td>\n",
       "      <td>45.00</td>\n",
       "      <td>36.785714</td>\n",
       "      <td>8.214286</td>\n",
       "    </tr>\n",
       "    <tr>\n",
       "      <th>8</th>\n",
       "      <td>Clothing</td>\n",
       "      <td>Denim Jacket</td>\n",
       "      <td>60.00</td>\n",
       "      <td>36.785714</td>\n",
       "      <td>23.214286</td>\n",
       "    </tr>\n",
       "    <tr>\n",
       "      <th>9</th>\n",
       "      <td>Clothing</td>\n",
       "      <td>Leather Jacket</td>\n",
       "      <td>95.00</td>\n",
       "      <td>36.785714</td>\n",
       "      <td>58.214286</td>\n",
       "    </tr>\n",
       "    <tr>\n",
       "      <th>10</th>\n",
       "      <td>Clothing</td>\n",
       "      <td>Courdory Pants</td>\n",
       "      <td>24.00</td>\n",
       "      <td>36.785714</td>\n",
       "      <td>-12.785714</td>\n",
       "    </tr>\n",
       "    <tr>\n",
       "      <th>11</th>\n",
       "      <td>Clothing</td>\n",
       "      <td>Work Pants</td>\n",
       "      <td>38.00</td>\n",
       "      <td>36.785714</td>\n",
       "      <td>1.214286</td>\n",
       "    </tr>\n",
       "    <tr>\n",
       "      <th>12</th>\n",
       "      <td>Clothing</td>\n",
       "      <td>Work Gloves</td>\n",
       "      <td>8.00</td>\n",
       "      <td>36.785714</td>\n",
       "      <td>-28.785714</td>\n",
       "    </tr>\n",
       "    <tr>\n",
       "      <th>13</th>\n",
       "      <td>Clothing</td>\n",
       "      <td>Comfor-fit Tee</td>\n",
       "      <td>12.00</td>\n",
       "      <td>36.785714</td>\n",
       "      <td>-24.785714</td>\n",
       "    </tr>\n",
       "    <tr>\n",
       "      <th>14</th>\n",
       "      <td>Clothing</td>\n",
       "      <td>Running Shorts</td>\n",
       "      <td>20.00</td>\n",
       "      <td>36.785714</td>\n",
       "      <td>-16.785714</td>\n",
       "    </tr>\n",
       "    <tr>\n",
       "      <th>15</th>\n",
       "      <td>Clothing</td>\n",
       "      <td>X-Train Shoes</td>\n",
       "      <td>75.00</td>\n",
       "      <td>36.785714</td>\n",
       "      <td>38.214286</td>\n",
       "    </tr>\n",
       "    <tr>\n",
       "      <th>16</th>\n",
       "      <td>Clothing</td>\n",
       "      <td>Baseball Cap</td>\n",
       "      <td>10.00</td>\n",
       "      <td>36.785714</td>\n",
       "      <td>-26.785714</td>\n",
       "    </tr>\n",
       "    <tr>\n",
       "      <th>17</th>\n",
       "      <td>Hardware</td>\n",
       "      <td>18v Drill Driver Set</td>\n",
       "      <td>90.00</td>\n",
       "      <td>104.450000</td>\n",
       "      <td>-14.450000</td>\n",
       "    </tr>\n",
       "    <tr>\n",
       "      <th>18</th>\n",
       "      <td>Hardware</td>\n",
       "      <td>19.2v Drill Driver Set</td>\n",
       "      <td>90.00</td>\n",
       "      <td>104.450000</td>\n",
       "      <td>-14.450000</td>\n",
       "    </tr>\n",
       "    <tr>\n",
       "      <th>19</th>\n",
       "      <td>Hardware</td>\n",
       "      <td>10\" Miter Saw</td>\n",
       "      <td>200.00</td>\n",
       "      <td>104.450000</td>\n",
       "      <td>95.550000</td>\n",
       "    </tr>\n",
       "    <tr>\n",
       "      <th>20</th>\n",
       "      <td>Hardware</td>\n",
       "      <td>Lazer Level</td>\n",
       "      <td>45.00</td>\n",
       "      <td>104.450000</td>\n",
       "      <td>-59.450000</td>\n",
       "    </tr>\n",
       "    <tr>\n",
       "      <th>21</th>\n",
       "      <td>Hardware</td>\n",
       "      <td>Table Saw</td>\n",
       "      <td>290.00</td>\n",
       "      <td>104.450000</td>\n",
       "      <td>185.550000</td>\n",
       "    </tr>\n",
       "    <tr>\n",
       "      <th>22</th>\n",
       "      <td>Hardware</td>\n",
       "      <td>Power Washer</td>\n",
       "      <td>290.00</td>\n",
       "      <td>104.450000</td>\n",
       "      <td>185.550000</td>\n",
       "    </tr>\n",
       "    <tr>\n",
       "      <th>23</th>\n",
       "      <td>Hardware</td>\n",
       "      <td>Cold Chisel Set</td>\n",
       "      <td>10.00</td>\n",
       "      <td>104.450000</td>\n",
       "      <td>-94.450000</td>\n",
       "    </tr>\n",
       "    <tr>\n",
       "      <th>24</th>\n",
       "      <td>Hardware</td>\n",
       "      <td>Screwdriver Set</td>\n",
       "      <td>10.00</td>\n",
       "      <td>104.450000</td>\n",
       "      <td>-94.450000</td>\n",
       "    </tr>\n",
       "    <tr>\n",
       "      <th>25</th>\n",
       "      <td>Hardware</td>\n",
       "      <td>Drill Bit Set</td>\n",
       "      <td>25.00</td>\n",
       "      <td>104.450000</td>\n",
       "      <td>-79.450000</td>\n",
       "    </tr>\n",
       "    <tr>\n",
       "      <th>26</th>\n",
       "      <td>Hardware</td>\n",
       "      <td>Belt Sander</td>\n",
       "      <td>250.00</td>\n",
       "      <td>104.450000</td>\n",
       "      <td>145.550000</td>\n",
       "    </tr>\n",
       "  </tbody>\n",
       "</table>\n",
       "</div>"
      ],
      "text/plain": [
       "   product_category            product_name  product_retail_price  \\\n",
       "0          Hardware    Straight Claw Hammer                 15.95   \n",
       "1          Hardware           Sledge Hammer                 21.95   \n",
       "2          Hardware         Rip Claw Hammer                 19.95   \n",
       "3          Clothing             Dri-Fit Tee                 20.00   \n",
       "4          Clothing           Running Pants                 35.00   \n",
       "5          Clothing              Wool Socks                  8.00   \n",
       "6          Clothing          Squeaky Sneaks                 65.00   \n",
       "7          Clothing              Cool Jeans                 45.00   \n",
       "8          Clothing            Denim Jacket                 60.00   \n",
       "9          Clothing          Leather Jacket                 95.00   \n",
       "10         Clothing          Courdory Pants                 24.00   \n",
       "11         Clothing              Work Pants                 38.00   \n",
       "12         Clothing             Work Gloves                  8.00   \n",
       "13         Clothing          Comfor-fit Tee                 12.00   \n",
       "14         Clothing          Running Shorts                 20.00   \n",
       "15         Clothing           X-Train Shoes                 75.00   \n",
       "16         Clothing            Baseball Cap                 10.00   \n",
       "17         Hardware    18v Drill Driver Set                 90.00   \n",
       "18         Hardware  19.2v Drill Driver Set                 90.00   \n",
       "19         Hardware           10\" Miter Saw                200.00   \n",
       "20         Hardware             Lazer Level                 45.00   \n",
       "21         Hardware               Table Saw                290.00   \n",
       "22         Hardware            Power Washer                290.00   \n",
       "23         Hardware         Cold Chisel Set                 10.00   \n",
       "24         Hardware         Screwdriver Set                 10.00   \n",
       "25         Hardware           Drill Bit Set                 25.00   \n",
       "26         Hardware             Belt Sander                250.00   \n",
       "\n",
       "    avg_retail_price  difference_in_price  \n",
       "0         104.450000           -88.500000  \n",
       "1         104.450000           -82.500000  \n",
       "2         104.450000           -84.500000  \n",
       "3          36.785714           -16.785714  \n",
       "4          36.785714            -1.785714  \n",
       "5          36.785714           -28.785714  \n",
       "6          36.785714            28.214286  \n",
       "7          36.785714             8.214286  \n",
       "8          36.785714            23.214286  \n",
       "9          36.785714            58.214286  \n",
       "10         36.785714           -12.785714  \n",
       "11         36.785714             1.214286  \n",
       "12         36.785714           -28.785714  \n",
       "13         36.785714           -24.785714  \n",
       "14         36.785714           -16.785714  \n",
       "15         36.785714            38.214286  \n",
       "16         36.785714           -26.785714  \n",
       "17        104.450000           -14.450000  \n",
       "18        104.450000           -14.450000  \n",
       "19        104.450000            95.550000  \n",
       "20        104.450000           -59.450000  \n",
       "21        104.450000           185.550000  \n",
       "22        104.450000           185.550000  \n",
       "23        104.450000           -94.450000  \n",
       "24        104.450000           -94.450000  \n",
       "25        104.450000           -79.450000  \n",
       "26        104.450000           145.550000  "
      ]
     },
     "execution_count": 261,
     "metadata": {},
     "output_type": "execute_result"
    }
   ],
   "source": [
    "spark.read.parquet(\"s3a://demo-bucket/example.parquet\").toPandas()"
   ]
  },
  {
   "cell_type": "code",
   "execution_count": null,
   "id": "811ab760-8a45-4ec1-a73b-5408e8b34d12",
   "metadata": {},
   "outputs": [],
   "source": []
  },
  {
   "cell_type": "code",
   "execution_count": null,
   "id": "386ef1c4-8d8e-4853-aefe-b88e211fdec7",
   "metadata": {},
   "outputs": [],
   "source": []
  }
 ],
 "metadata": {
  "kernelspec": {
   "display_name": "Python 3 (ipykernel)",
   "language": "python",
   "name": "python3"
  },
  "language_info": {
   "codemirror_mode": {
    "name": "ipython",
    "version": 3
   },
   "file_extension": ".py",
   "mimetype": "text/x-python",
   "name": "python",
   "nbconvert_exporter": "python",
   "pygments_lexer": "ipython3",
   "version": "3.9.6"
  }
 },
 "nbformat": 4,
 "nbformat_minor": 5
}
